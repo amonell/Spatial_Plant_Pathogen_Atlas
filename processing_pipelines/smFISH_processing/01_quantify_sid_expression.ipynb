{
 "cells": [
  {
   "cell_type": "markdown",
   "metadata": {},
   "source": [
    "A Python environment that can be used to run this code can be found in the bigfish.yml file in this directory"
   ]
  },
  {
   "cell_type": "code",
   "execution_count": null,
   "metadata": {},
   "outputs": [],
   "source": [
    "import skimage.io as io\n",
    "import matplotlib.pyplot as plt\n",
    "import numpy as np\n",
    "import os\n",
    "import numpy as np\n",
    "import bigfish\n",
    "import bigfish.stack as stack\n",
    "import bigfish.detection as detection\n",
    "import bigfish.multistack as multistack\n",
    "import bigfish.plot as plot\n",
    "from sklearn.cluster import DBSCAN\n",
    "import pickle\n",
    "import glob\n",
    "from scipy.spatial import ConvexHull\n",
    "from typing import overload\n",
    "from sklearn import cluster\n",
    "from tqdm.notebook import tqdm\n",
    "import pandas as pd\n",
    "import scanpy as sc"
   ]
  },
  {
   "cell_type": "markdown",
   "metadata": {},
   "source": [
    "#### Read in and pad the SID smFISH image"
   ]
  },
  {
   "cell_type": "code",
   "execution_count": null,
   "metadata": {},
   "outputs": [],
   "source": [
    "exp = 'avr_24hr'\n",
    "path_to_imgs = f'smFISH_images/{exp}'"
   ]
  },
  {
   "cell_type": "code",
   "execution_count": null,
   "metadata": {},
   "outputs": [],
   "source": [
    "file_path = os.path.join(path_to_imgs, 'whole_img.tif')\n",
    "an_image_sid = io.imread(file_path)\n",
    "sid_image_padded = np.pad(an_image_sid, pad_width=((0, 2000 - np.shape(an_image_sid)[0]%2000), (0,0)))\n",
    "sid_image_padded = np.pad(sid_image_padded, pad_width=((0, 0), (0,2000 - np.shape(an_image_sid)[1]%2000)))"
   ]
  },
  {
   "cell_type": "markdown",
   "metadata": {},
   "source": [
    "#### Quantify spots across all images (Hyperparameters will need tuning if using a different set of images)"
   ]
  },
  {
   "cell_type": "code",
   "execution_count": null,
   "metadata": {},
   "outputs": [],
   "source": [
    "\n",
    "sid_spots = []\n",
    "for i_o in range(2000, len(sid_image_padded[0]), 2000):\n",
    "    for j_o in range(2000, len(sid_image_padded), 2000): \n",
    "        iamge_play_sid = sid_image_padded[j_o-2000:j_o, i_o-2000:i_o]\n",
    "\n",
    "        spots_sid, threshold_sid = detection.detect_spots(  \n",
    "            images=iamge_play_sid, \n",
    "            return_threshold=True,\n",
    "            threshold=1000,\n",
    "            log_kernel_size=(1.456, 1.456),\n",
    "            minimum_distance=(1.456, 1.456))\n",
    "        sid_spots.append(spots_sid)"
   ]
  },
  {
   "cell_type": "code",
   "execution_count": null,
   "metadata": {},
   "outputs": [],
   "source": [
    "ct = 0\n",
    "new_sid = []\n",
    "for i_o in range(2000, len(sid_image_padded[0]), 2000):\n",
    "    for j_o in range(2000, len(sid_image_padded), 2000): \n",
    "        for q in np.add(sid_spots[ct], [j_o-2000, i_o-2000]):\n",
    "            new_sid.append(q)\n",
    "        ct += 1\n",
    "new_sid = np.array(new_sid)"
   ]
  },
  {
   "cell_type": "code",
   "execution_count": null,
   "metadata": {},
   "outputs": [],
   "source": [
    "import cv2\n",
    "downsize = 20\n",
    "plt.imshow(cv2.resize(sid_image_padded, (sid_image_padded.shape[1]//downsize, sid_image_padded.shape[0]//downsize)))\n",
    "plt.scatter(new_sid[:, 1]//downsize, new_sid[:, 0]//downsize, s=1, linewidth=0, c='r')\n",
    "plt.xlim(0, 1000)\n",
    "plt.ylim(0, 1000)\n",
    "plt.show()"
   ]
  },
  {
   "cell_type": "code",
   "execution_count": null,
   "metadata": {},
   "outputs": [],
   "source": [
    "np.save(f'smFISH_images/{exp}/detected_spots_original_coords.npy', new_sid)"
   ]
  },
  {
   "cell_type": "markdown",
   "metadata": {},
   "source": [
    "#### Convert to microns from pixels"
   ]
  },
  {
   "cell_type": "code",
   "execution_count": null,
   "metadata": {},
   "outputs": [],
   "source": [
    "exp = 'avr_24hr'"
   ]
  },
  {
   "cell_type": "code",
   "execution_count": null,
   "metadata": {},
   "outputs": [],
   "source": [
    "new_sid = np.load(f'smFISH_images/{exp}/detected_spots_original_coords.npy')"
   ]
  },
  {
   "cell_type": "code",
   "execution_count": null,
   "metadata": {},
   "outputs": [],
   "source": [
    "if exp == 'avr_24hr':\n",
    "    path_mm = 'micron_to_mosaic_pixel_transform_avrrpt2_24h.csv'\n",
    "elif exp == 'avr_9hr':\n",
    "    path_mm = 'micron_to_mosaic_pixel_transform_avrrpt2_9h.csv'\n",
    "elif exp == 'mock':\n",
    "    path_mm = 'micron_to_mosaic_pixel_transform_mock.csv'\n",
    "elif exp == 'dc3000_24hr':\n",
    "    path_mm = 'micron_to_mosaic_pixel_transform_kt56.csv'"
   ]
  },
  {
   "cell_type": "code",
   "execution_count": null,
   "metadata": {},
   "outputs": [],
   "source": [
    "def get_pixel_size(path: str) -> float:\n",
    "    file = pd.read_csv(path, index_col=None, header=None)\n",
    "    return file\n",
    "\n",
    "pixel_size = get_pixel_size(os.path.join('..', '..', 'data', 'useful_files', 'micron_to_mosaic', path_mm)).values\n",
    "\n",
    "global_x_pixels = (new_sid[:, 0] + float(pixel_size[0][0].split()[2])) /(float(pixel_size[0][0].split()[0])) \n",
    "global_y_pixels = (new_sid[:, 1] + float(pixel_size[1][0].split()[2])) / float(pixel_size[1][0].split()[1])"
   ]
  },
  {
   "cell_type": "code",
   "execution_count": null,
   "metadata": {},
   "outputs": [],
   "source": [
    "if exp == 'avr_24hr':\n",
    "    adata_name = 'avrrpt24'\n",
    "elif exp == 'avr_9hr':\n",
    "    adata_name = '9hr_avr'\n",
    "elif exp == 'mock':\n",
    "    adata_name = 'mock'\n",
    "elif exp == 'dc3000_24hr':\n",
    "    adata_name = 'dc3000'"
   ]
  },
  {
   "cell_type": "code",
   "execution_count": null,
   "metadata": {},
   "outputs": [],
   "source": [
    "adata = sc.read(os.path.join('..', '..', 'data', 'integration', adata_name, 'spatial_data.h5ad'))"
   ]
  },
  {
   "cell_type": "code",
   "execution_count": null,
   "metadata": {},
   "outputs": [],
   "source": [
    "#assign spots to nearest cell\n",
    "from scipy.spatial import KDTree\n",
    "tree = KDTree(adata.obs[['y', 'x']].values)\n",
    "distances, indices = tree.query(np.array([global_x_pixels, global_y_pixels]).T, k=1)\n",
    "\n"
   ]
  },
  {
   "cell_type": "code",
   "execution_count": null,
   "metadata": {},
   "outputs": [],
   "source": [
    "uniq = np.unique(indices, return_counts=True)\n",
    "expression_sid = np.zeros(len(adata.obs))\n",
    "expression_sid[uniq[0]] = uniq[1]\n",
    "adata.obs['EDS16'] = expression_sid"
   ]
  },
  {
   "cell_type": "code",
   "execution_count": null,
   "metadata": {},
   "outputs": [],
   "source": [
    "adata.obsm['X_spatial'] = adata.obs[['x', 'y']].values"
   ]
  },
  {
   "cell_type": "code",
   "execution_count": null,
   "metadata": {},
   "outputs": [],
   "source": [
    "sc.set_figure_params(dpi=300)\n",
    "fig = sc.pl.embedding(adata, basis='spatial', color='EDS16', size=2, cmap = 'Greens', legend_loc='on data', vmax = 10, title = f'EDS16 {exp}', return_fig=True, show=False)\n",
    "try:\n",
    "    os.mkdir(f'../../figures/smFISH')\n",
    "except:\n",
    "    pass\n",
    "\n",
    "try:\n",
    "    os.mkdir(f'../../figures/smFISH/{exp}')\n",
    "except:\n",
    "    pass\n",
    "\n",
    "fig.savefig(f'../../figures/smFISH/{exp}/EDS16.pdf')\n",
    "fig.show()"
   ]
  }
 ],
 "metadata": {
  "kernelspec": {
   "display_name": "Python 3 (ipykernel)",
   "language": "python",
   "name": "python3"
  },
  "language_info": {
   "codemirror_mode": {
    "name": "ipython",
    "version": 3
   },
   "file_extension": ".py",
   "mimetype": "text/x-python",
   "name": "python",
   "nbconvert_exporter": "python",
   "pygments_lexer": "ipython3",
   "version": "3.8.19"
  },
  "vscode": {
   "interpreter": {
    "hash": "4335511914a41419d8c6e6f94849709432ec6fe90822f07d32ca9860b2d24dff"
   }
  }
 },
 "nbformat": 4,
 "nbformat_minor": 2
}
