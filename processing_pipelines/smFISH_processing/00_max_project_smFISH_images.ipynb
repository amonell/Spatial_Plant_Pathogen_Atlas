{
 "cells": [
  {
   "cell_type": "markdown",
   "metadata": {},
   "source": [
    "A Python environment that can be used to run this code can be found in the bigfish.yml file in this directory"
   ]
  },
  {
   "cell_type": "code",
   "execution_count": null,
   "metadata": {},
   "outputs": [],
   "source": [
    "import skimage.io as io\n",
    "import matplotlib.pyplot as plt\n",
    "import numpy as np\n",
    "import os\n",
    "import numpy as np\n",
    "\n",
    "import bigfish\n",
    "import bigfish.stack as stack\n",
    "import bigfish.detection as detection\n",
    "import bigfish.multistack as multistack\n",
    "import bigfish.plot as plot\n",
    "\n",
    "from sklearn.cluster import DBSCAN\n",
    "import pickle\n",
    "import glob\n",
    "from tqdm.auto import tqdm\n",
    "from scipy.spatial import ConvexHull"
   ]
  },
  {
   "cell_type": "markdown",
   "metadata": {},
   "source": [
    "smFISH images for each experiment can be downloaded from \n",
    "http://neomorph.salk.edu/download/Nobori_etal_merfish/smFISH/\n",
    "\n",
    "Coordinate transformation files can be downloaded from http://neomorph.salk.edu/download/Nobori_etal_merfish/MERFISH/_Misc/micron_to_mosaic/"
   ]
  },
  {
   "cell_type": "code",
   "execution_count": null,
   "metadata": {},
   "outputs": [],
   "source": [
    "for exp in [\"mock\", \"avr_24hr\", \"dc3000_24hr\", \"avr_9hr\"]:\n",
    "    input_folder = f\"smFISH_images/{exp}\"\n",
    "    input_files = glob.glob(input_folder + \"/*.tif\")\n",
    "\n",
    "    ct = 0\n",
    "    whole_img = None\n",
    "    for i in tqdm(input_files):\n",
    "        img = io.imread(i)\n",
    "\n",
    "        if ct == 0:\n",
    "            # Initialize whole_img with the first image and add a new axis to represent the Z-dimension\n",
    "            whole_img = img\n",
    "        else:\n",
    "            # Stack the current image along the new Z-axis\n",
    "            img = img[np.newaxis, ...]\n",
    "\n",
    "            whole_img = np.concatenate((whole_img[np.newaxis, ...], img), axis=0)\n",
    "            whole_img = np.max(whole_img, axis=0)\n",
    "\n",
    "        del img\n",
    "        ct += 1\n",
    "\n",
    "    io.imsave(f\"smFISH_images/{exp}/whole_img.tif\", whole_img)"
   ]
  }
 ],
 "metadata": {
  "kernelspec": {
   "display_name": "bigfish",
   "language": "python",
   "name": "python3"
  },
  "language_info": {
   "codemirror_mode": {
    "name": "ipython",
    "version": 3
   },
   "file_extension": ".py",
   "mimetype": "text/x-python",
   "name": "python",
   "nbconvert_exporter": "python",
   "pygments_lexer": "ipython3",
   "version": "3.8.19"
  }
 },
 "nbformat": 4,
 "nbformat_minor": 2
}
