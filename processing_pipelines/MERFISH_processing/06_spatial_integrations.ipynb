{
 "cells": [
  {
   "cell_type": "markdown",
   "id": "4fd9a573",
   "metadata": {},
   "source": [
    "Environment: This script should be run with the `r_environment_pathogen_atlas` environment using the devcontainer `devcontainer_R` "
   ]
  },
  {
   "cell_type": "code",
   "execution_count": null,
   "id": "f632718f-62fa-4201-848e-e395162d82ee",
   "metadata": {
    "vscode": {
     "languageId": "r"
    }
   },
   "outputs": [],
   "source": [
    "set.seed(1)\n",
    "library(Seurat)\n",
    "library(ggplot2)\n",
    "library(patchwork)"
   ]
  },
  {
   "cell_type": "code",
   "execution_count": null,
   "id": "b73d56a9",
   "metadata": {
    "vscode": {
     "languageId": "r"
    }
   },
   "outputs": [],
   "source": [
    "outputs_folder = '../../outputs'"
   ]
  },
  {
   "cell_type": "markdown",
   "id": "8879235f",
   "metadata": {},
   "source": [
    "First read in the concatenated spatial data object and split it into individual spatial objects"
   ]
  },
  {
   "cell_type": "code",
   "execution_count": null,
   "id": "1a21f524-439e-4eb9-a587-16bd6a3b88aa",
   "metadata": {
    "vscode": {
     "languageId": "r"
    }
   },
   "outputs": [],
   "source": [
    "input_folder = file.path(outputs_folder, '/adatas', '/spatial_concatenated_01_for_R.h5')\n",
    "\n",
    "adata = dior::read_h5(file=input_folder, target.object = 'seurat', assay.name = 'RNA')\n",
    "\n",
    "DefaultAssay(adata) <- \"counts\"\n",
    "adata@assays$counts@key <- \"rna_\"\n",
    "\n",
    "adata.list <- SplitObject(adata, split.by = \"batch\")"
   ]
  },
  {
   "cell_type": "code",
   "execution_count": null,
   "id": "3c91349a-a2ab-41d6-9f68-d023a7606345",
   "metadata": {
    "vscode": {
     "languageId": "r"
    }
   },
   "outputs": [],
   "source": [
    "# normalize and identify variable features for each dataset independently\n",
    "adata.list <- lapply(X = adata.list, FUN = function(x) {\n",
    "    x <- NormalizeData(x)\n",
    "    x <- FindVariableFeatures(x, selection.method = \"vst\", nfeatures = 500)\n",
    "})\n",
    "\n",
    "# select features that are repeatedly variable across datasets for integration\n",
    "features <- SelectIntegrationFeatures(object.list = adata.list)"
   ]
  },
  {
   "cell_type": "markdown",
   "id": "8b1060dc",
   "metadata": {},
   "source": [
    "Find integration anchors between the datasets and integrate them. This is an alternative to scvi integration, and ultimately the one we used in the manuscript"
   ]
  },
  {
   "cell_type": "code",
   "execution_count": null,
   "id": "f28669fa-bff5-427e-b31a-94f4f5d8765f",
   "metadata": {
    "scrolled": true,
    "vscode": {
     "languageId": "r"
    }
   },
   "outputs": [],
   "source": [
    "immune.anchors <- FindIntegrationAnchors(object.list = adata.list, anchor.features = features)"
   ]
  },
  {
   "cell_type": "code",
   "execution_count": null,
   "id": "3091c861-d522-457f-b8c9-8f4601819618",
   "metadata": {
    "vscode": {
     "languageId": "r"
    }
   },
   "outputs": [],
   "source": [
    "immune.combined <- IntegrateData(anchorset = immune.anchors)"
   ]
  },
  {
   "cell_type": "markdown",
   "id": "53b28517",
   "metadata": {},
   "source": [
    "Process the joint embedding and save it out "
   ]
  },
  {
   "cell_type": "code",
   "execution_count": null,
   "id": "ab791f89-9bf8-4b65-98e1-332e0502ded4",
   "metadata": {
    "vscode": {
     "languageId": "r"
    }
   },
   "outputs": [],
   "source": [
    "DefaultAssay(immune.combined) <- \"integrated\"\n",
    "\n",
    "# Run the standard workflow for visualization and clustering\n",
    "immune.combined <- ScaleData(immune.combined, verbose = FALSE)\n",
    "immune.combined <- RunPCA(immune.combined, npcs = 30, verbose = FALSE)\n",
    "immune.combined <- RunUMAP(immune.combined, reduction = \"pca\", dims = 1:15, neighbors =30L, min.dist = 0.01)\n",
    "immune.combined <- FindNeighbors(immune.combined, reduction = \"pca\", dims = 1:30)\n",
    "immune.combined <- FindClusters(immune.combined, resolution = 0.5)"
   ]
  },
  {
   "cell_type": "code",
   "execution_count": null,
   "id": "94e6ea12-c186-4d65-9431-018d99edbc2e",
   "metadata": {
    "vscode": {
     "languageId": "r"
    }
   },
   "outputs": [],
   "source": [
    "p1 <- DimPlot(immune.combined, reduction = \"umap\", group.by = \"batch\", pt.size = 1)\n",
    "p2 <- DimPlot(immune.combined, reduction = \"umap\", label = TRUE, repel = TRUE, pt.size = 1)\n",
    "p1 + p2"
   ]
  },
  {
   "cell_type": "code",
   "execution_count": null,
   "id": "69918e53-a491-4ae3-8c4a-c0ee99d8041f",
   "metadata": {
    "vscode": {
     "languageId": "r"
    }
   },
   "outputs": [],
   "source": [
    "saveRDS(immune.combined, file.path(outputs_folder, 'adatas', 'combined_spatial_seurat.rds'))"
   ]
  }
 ],
 "metadata": {
  "kernelspec": {
   "display_name": "R",
   "language": "R",
   "name": "ir"
  },
  "language_info": {
   "codemirror_mode": "r",
   "file_extension": ".r",
   "mimetype": "text/x-r-source",
   "name": "R",
   "pygments_lexer": "r",
   "version": "4.0.5"
  }
 },
 "nbformat": 4,
 "nbformat_minor": 5
}
