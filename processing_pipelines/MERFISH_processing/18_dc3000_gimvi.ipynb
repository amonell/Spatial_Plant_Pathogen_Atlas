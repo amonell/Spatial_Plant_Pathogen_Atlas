{
 "cells": [
  {
   "cell_type": "markdown",
   "metadata": {},
   "source": [
    "Environment: This script should be run with the `python_scvi_environment` environment using the devcontainer `docker_python_scvi`"
   ]
  },
  {
   "cell_type": "code",
   "execution_count": null,
   "metadata": {},
   "outputs": [],
   "source": [
    "import anndata\n",
    "import matplotlib.pyplot as plt\n",
    "import numpy as np\n",
    "import scanpy as sc\n",
    "from scipy.stats import spearmanr\n",
    "from scvi.data import cortex, smfish\n",
    "from scvi.external import GIMVI\n",
    "import os\n",
    "import pandas as pd\n",
    "import numpy as np\n",
    "from sklearn.neighbors import KDTree\n",
    "from tqdm.notebook import tqdm"
   ]
  },
  {
   "cell_type": "code",
   "execution_count": null,
   "metadata": {},
   "outputs": [],
   "source": [
    "train_size = 1\n",
    "\n",
    "%config InlineBackend.print_figure_kwargs={'facecolor' : \"w\"}\n",
    "%config InlineBackend.figure_format='retina'"
   ]
  },
  {
   "cell_type": "code",
   "execution_count": null,
   "metadata": {},
   "outputs": [],
   "source": [
    "data_path = \"../../data\""
   ]
  },
  {
   "cell_type": "markdown",
   "metadata": {},
   "source": [
    "Loading in the preprocessed spatial data"
   ]
  },
  {
   "cell_type": "code",
   "execution_count": null,
   "metadata": {},
   "outputs": [],
   "source": [
    "file = os.path.join(\n",
    "    data_path, \"segmentations\", \"kt56\", \"adatas\", \"preprocessed_and_filtered_02.h5ad\"\n",
    ")\n",
    "spatial_data = sc.read(file)"
   ]
  },
  {
   "cell_type": "markdown",
   "metadata": {},
   "source": [
    "Loading in the preprocessed snRNA data"
   ]
  },
  {
   "cell_type": "code",
   "execution_count": null,
   "metadata": {},
   "outputs": [],
   "source": [
    "seq_file = os.path.join(data_path, \"DC3000_alone.h5ad\")\n",
    "seq_data = sc.read(seq_file)"
   ]
  },
  {
   "cell_type": "markdown",
   "metadata": {},
   "source": [
    "Finding intersecting genes between the modalities"
   ]
  },
  {
   "cell_type": "code",
   "execution_count": null,
   "metadata": {},
   "outputs": [],
   "source": [
    "intersection = []\n",
    "non_intersecting = []\n",
    "for k in spatial_data.var_names:\n",
    "    if k in seq_data.var_names:\n",
    "        intersection.append(k)\n",
    "    else:\n",
    "        non_intersecting.append(k)"
   ]
  },
  {
   "cell_type": "code",
   "execution_count": null,
   "metadata": {},
   "outputs": [],
   "source": [
    "# only use genes in both datasets\n",
    "seq_data = seq_data[:, intersection].copy()\n",
    "spatial_data = spatial_data[:, intersection].copy()"
   ]
  },
  {
   "cell_type": "markdown",
   "metadata": {},
   "source": [
    "Preparing for gimVI"
   ]
  },
  {
   "cell_type": "code",
   "execution_count": null,
   "metadata": {},
   "outputs": [],
   "source": [
    "seq_gene_names = seq_data.var_names\n",
    "n_genes = seq_data.n_vars\n",
    "n_train_genes = int(n_genes * train_size)\n",
    "\n",
    "# randomly select training_genes\n",
    "\n",
    "rand_train_genes = spatial_data.var.index.values[:498]\n",
    "rand_test_genes = spatial_data.var.index.values[498:]\n",
    "\n",
    "spatial_data_partial = spatial_data.copy()\n",
    "\n",
    "spatial_data_partial.obs[\"batch\"] = \"spatial\"\n",
    "# remove cells with no counts\n",
    "sc.pp.filter_cells(spatial_data, min_counts=1)\n",
    "sc.pp.filter_cells(seq_data, min_counts=1)\n",
    "\n",
    "# setup_anndata for spatial and sequencing data\n",
    "GIMVI.setup_anndata(spatial_data_partial, labels_key=\"batch\")\n",
    "GIMVI.setup_anndata(seq_data, labels_key=\"SCT_snn_res.1\")"
   ]
  },
  {
   "cell_type": "markdown",
   "metadata": {},
   "source": [
    "Making count matices compatible with gimVI"
   ]
  },
  {
   "cell_type": "code",
   "execution_count": null,
   "metadata": {},
   "outputs": [],
   "source": [
    "seq_data.X = seq_data.layers[\"counts\"]"
   ]
  },
  {
   "cell_type": "markdown",
   "metadata": {},
   "source": [
    "Training GIMVI"
   ]
  },
  {
   "cell_type": "code",
   "execution_count": null,
   "metadata": {},
   "outputs": [],
   "source": [
    "# create our model\n",
    "model = GIMVI(seq_data, spatial_data_partial, n_latent=10)\n",
    "\n",
    "model.train(50)"
   ]
  },
  {
   "cell_type": "markdown",
   "metadata": {},
   "source": [
    "Extracting gimVI latent representation"
   ]
  },
  {
   "cell_type": "code",
   "execution_count": null,
   "metadata": {},
   "outputs": [],
   "source": [
    "# get the latent representations for the sequencing and spatial data\n",
    "latent_seq, latent_spatial = model.get_latent_representation()\n",
    "\n",
    "# concatenate to one latent representation\n",
    "latent_representation = np.concatenate([latent_seq, latent_spatial])\n",
    "latent_adata = anndata.AnnData(latent_representation)\n",
    "\n",
    "# labels which cells were from the sequencing dataset and which were from the spatial dataset\n",
    "latent_labels = ([\"seq\"] * latent_seq.shape[0]) + (\n",
    "    [\"spatial\"] * latent_spatial.shape[0]\n",
    ")\n",
    "latent_adata.obs[\"labels\"] = latent_labels\n",
    "\n",
    "# compute umap\n",
    "sc.pp.neighbors(latent_adata, use_rep=\"X\")\n",
    "sc.tl.umap(latent_adata)"
   ]
  },
  {
   "cell_type": "markdown",
   "metadata": {},
   "source": [
    "Assigning umap coordinates to the sc objects"
   ]
  },
  {
   "cell_type": "code",
   "execution_count": null,
   "metadata": {},
   "outputs": [],
   "source": [
    "# save umap representations to original seq and spatial_datasets\n",
    "seq_data.obsm[\"X_umap_gimvi\"] = latent_adata.obsm[\"X_umap\"][: seq_data.shape[0]]\n",
    "spatial_data.obsm[\"X_umap_gimvi\"] = latent_adata.obsm[\"X_umap\"][seq_data.shape[0] :]"
   ]
  },
  {
   "cell_type": "code",
   "execution_count": null,
   "metadata": {},
   "outputs": [],
   "source": [
    "seq_data.obs[\"modality\"] = \"seq\"\n",
    "spatial_data.obs[\"modality\"] = \"spatial\""
   ]
  },
  {
   "cell_type": "markdown",
   "metadata": {},
   "source": [
    "Plotting GIMVI results"
   ]
  },
  {
   "cell_type": "code",
   "execution_count": null,
   "metadata": {},
   "outputs": [],
   "source": [
    "# utility function for plotting spatial genes\n",
    "def plot_gene_spatial(model, data_spatial, gene):\n",
    "    \"\"\"\n",
    "    Plot the spatial gene expression and the imputed gene expression from the model\n",
    "\n",
    "    :param model: GIMVI model\n",
    "    :param data_spatial: spatial anndata object\n",
    "    :param gene: gene name or gene index\n",
    "    \"\"\"\n",
    "    data_seq = model.adatas[0]\n",
    "    data_fish = data_spatial\n",
    "\n",
    "    fig, (ax_gt, ax) = plt.subplots(1, 2)\n",
    "\n",
    "    if type(gene) == str:\n",
    "        gene_id = list(data_seq.var_names).index(gene)\n",
    "    else:\n",
    "        gene_id = gene\n",
    "\n",
    "    x_coord = data_fish.obs[\"x\"]\n",
    "    y_coord = data_fish.obs[\"y\"]\n",
    "\n",
    "    def order_by_strenght(x, y, z):\n",
    "        ind = np.argsort(z)\n",
    "        return x[ind], y[ind], z[ind]\n",
    "\n",
    "    s = 20\n",
    "\n",
    "    def transform(data):\n",
    "        return np.log(1 + 100 * data)\n",
    "\n",
    "    # Plot groundtruth\n",
    "    x, y, z = order_by_strenght(\n",
    "        x_coord, y_coord, data_fish.X[:, gene_id] / (data_fish.X.sum(axis=1) + 1)\n",
    "    )\n",
    "    ax_gt.scatter(x, y, c=transform(z), s=s, edgecolors=\"none\", marker=\"s\", cmap=\"Reds\")\n",
    "    ax_gt.set_title(\"Groundtruth\")\n",
    "    ax_gt.axis(\"off\")\n",
    "\n",
    "    _, imputed = model.get_imputed_values(normalized=True)\n",
    "    x, y, z = order_by_strenght(x_coord, y_coord, imputed[:, gene_id])\n",
    "    ax.scatter(x, y, c=transform(z), s=s, edgecolors=\"none\", marker=\"s\", cmap=\"Reds\")\n",
    "    ax.set_title(\"Imputed\")\n",
    "    ax.axis(\"off\")\n",
    "    plt.tight_layout()\n",
    "    plt.show()\n",
    "\n",
    "\n",
    "plot_gene_spatial(model, spatial_data, \"ALD1\")"
   ]
  },
  {
   "cell_type": "markdown",
   "metadata": {},
   "source": [
    "Getting gimVI latent representation and save to original objects"
   ]
  },
  {
   "cell_type": "code",
   "execution_count": null,
   "metadata": {},
   "outputs": [],
   "source": [
    "seq_latent = model.get_latent_representation()[0]\n",
    "seq_data.obsm[\"X_gimvi\"] = seq_latent\n",
    "spatial_data.obsm[\"X_gimvi\"] = model.get_latent_representation()[1]"
   ]
  },
  {
   "cell_type": "code",
   "execution_count": null,
   "metadata": {},
   "outputs": [],
   "source": [
    "sc.pp.neighbors(latent_adata, use_rep=\"X\", n_neighbors=30)\n",
    "sc.tl.umap(latent_adata, min_dist=0.1)"
   ]
  },
  {
   "cell_type": "code",
   "execution_count": null,
   "metadata": {},
   "outputs": [],
   "source": [
    "# save umap representations to original seq and spatial_datasets\n",
    "seq_data.obsm[\"X_umap_gimvi\"] = latent_adata.obsm[\"X_umap\"][: seq_data.shape[0]]\n",
    "spatial_data.obsm[\"X_umap_gimvi\"] = latent_adata.obsm[\"X_umap\"][seq_data.shape[0] :]"
   ]
  },
  {
   "cell_type": "markdown",
   "metadata": {},
   "source": [
    "Transferring pseudotime values from seq to spatial"
   ]
  },
  {
   "cell_type": "code",
   "execution_count": null,
   "metadata": {},
   "outputs": [],
   "source": [
    "adata = latent_adata.copy()\n",
    "\n",
    "# Filter spatial and seq cells\n",
    "spatial_cells = adata[adata.obs[\"labels\"] == \"spatial\"].copy()\n",
    "seq_cells = adata[adata.obs[\"labels\"] == \"seq\"].copy()\n",
    "seq_data_copy = seq_data.copy()\n",
    "\n",
    "# Create KD tree for seq cells\n",
    "seq_gimvi = seq_data.obsm[\"X_gimvi\"]\n",
    "kdtree = KDTree(seq_gimvi)\n",
    "\n",
    "# Find nearest seq cells for each seq\n",
    "n_neighbors = 10  # Specify the number of nearest neighbors\n",
    "distances, indices = kdtree.query(spatial_data.obsm[\"X_gimvi\"], k=n_neighbors)\n",
    "\n",
    "# Average gene expression for spatial cells\n",
    "averaged_expression = np.zeros((spatial_cells.n_obs, 1))\n",
    "\n",
    "for i in tqdm(range(spatial_cells.n_obs)):\n",
    "    seq_neighbors_indices = indices[i]\n",
    "    seq_neighbors_expression = seq_data_copy.obs[\"pseudotime\"].values[\n",
    "        seq_neighbors_indices\n",
    "    ]\n",
    "\n",
    "    averaged_expression[i] = np.mean(seq_neighbors_expression, axis=0)"
   ]
  },
  {
   "cell_type": "code",
   "execution_count": null,
   "metadata": {},
   "outputs": [],
   "source": [
    "spatial_data.obs[\"pseudotime\"] = averaged_expression.flatten()"
   ]
  },
  {
   "cell_type": "markdown",
   "metadata": {},
   "source": [
    "Plotting results"
   ]
  },
  {
   "cell_type": "code",
   "execution_count": null,
   "metadata": {},
   "outputs": [],
   "source": [
    "sc.pl.embedding(\n",
    "    spatial_data,\n",
    "    basis=\"umap_gimvi\",\n",
    "    color=[\"pseudotime\", \"ALD1\"],\n",
    "    vmax=0.5,\n",
    "    cmap=\"Blues\",\n",
    ")"
   ]
  },
  {
   "cell_type": "code",
   "execution_count": null,
   "metadata": {},
   "outputs": [],
   "source": [
    "spatial_data.obsm[\"X_spatial\"] = spatial_data.obs[[\"x\", \"y\"]].values"
   ]
  },
  {
   "cell_type": "code",
   "execution_count": null,
   "metadata": {},
   "outputs": [],
   "source": [
    "sc.pl.embedding(\n",
    "    spatial_data,\n",
    "    basis=\"spatial\",\n",
    "    color=[\"pseudotime\", \"ALD1\"],\n",
    "    vmin=0.3,\n",
    "    vmax=0.2,\n",
    "    cmap=\"jet\",\n",
    ")"
   ]
  },
  {
   "cell_type": "markdown",
   "metadata": {},
   "source": [
    "Saving out"
   ]
  },
  {
   "cell_type": "code",
   "execution_count": null,
   "metadata": {},
   "outputs": [],
   "source": [
    "try:\n",
    "    os.mkdir(os.path.join(data_path, \"integration\", \"dc3000\"))\n",
    "except:\n",
    "    None\n",
    "latent_adata.write(\n",
    "    os.path.join(data_path, \"integration\", \"dc3000\", \"latent_adata.h5ad\")\n",
    ")\n",
    "spatial_data.write(\n",
    "    os.path.join(data_path, \"integration\", \"dc3000\", \"spatial_data.h5ad\")\n",
    ")\n",
    "seq_data.write(os.path.join(data_path, \"integration\", \"dc3000\", \"seq_data.h5ad\"))"
   ]
  },
  {
   "cell_type": "markdown",
   "metadata": {},
   "source": [
    "Loading back in snRNA data"
   ]
  },
  {
   "cell_type": "code",
   "execution_count": null,
   "metadata": {},
   "outputs": [],
   "source": [
    "spatial_data = sc.read(\n",
    "    os.path.join(data_path, \"integration\", \"dc3000\", \"spatial_data.h5ad\")\n",
    ")\n",
    "seq_data = sc.read(os.path.join(data_path, \"integration\", \"dc3000\", \"seq_data.h5ad\"))\n",
    "latent_adata = sc.read(\n",
    "    os.path.join(data_path, \"integration\", \"dc3000\", \"latent_adata.h5ad\")\n",
    ")"
   ]
  },
  {
   "cell_type": "code",
   "execution_count": null,
   "metadata": {},
   "outputs": [],
   "source": [
    "seq_data.obs[\"celltype\"] = (\n",
    "    seq_data.obs[\"celltype\"]\n",
    "    .replace(\"epidermis\", \"Epidermis\")\n",
    "    .replace(\"mesophyll\", \"Mesophyll\")\n",
    "    .replace(\"undifferentiated\", \"Unknown\")\n",
    "    .replace(\"vasculature\", \"Vasculature\")\n",
    "    .replace(\"\", \"Unknown\")\n",
    "    .to_list()\n",
    ")"
   ]
  },
  {
   "cell_type": "markdown",
   "metadata": {},
   "source": [
    "Transferring celltype labels from seq to spatial"
   ]
  },
  {
   "cell_type": "code",
   "execution_count": null,
   "metadata": {},
   "outputs": [],
   "source": [
    "from collections import Counter\n",
    "\n",
    "adata = latent_adata.copy()\n",
    "\n",
    "# Filter spatial and seq cells\n",
    "spatial_cells = adata[adata.obs[\"labels\"] == \"spatial\"].copy()\n",
    "seq_cells = adata[adata.obs[\"labels\"] == \"seq\"].copy()\n",
    "seq_data_copy = seq_data.copy()\n",
    "\n",
    "# Create KD tree for seq cells\n",
    "seq_gimvi = seq_data.obsm[\"X_gimvi\"]\n",
    "kdtree = KDTree(seq_gimvi)\n",
    "\n",
    "# Find nearest seq cells for each seq\n",
    "n_neighbors = 20  # Specify the number of nearest neighbors\n",
    "distances, indices = kdtree.query(spatial_data.obsm[\"X_gimvi\"], k=n_neighbors)\n",
    "\n",
    "# Average gene expression for spatial cells\n",
    "averaged_expression = np.zeros((spatial_cells.n_obs, 1))\n",
    "average_celltype = []\n",
    "\n",
    "for i in tqdm(range(spatial_cells.n_obs)):\n",
    "    seq_neighbors_indices = indices[i]\n",
    "\n",
    "    seq_neighbors_categories = seq_data_copy.obs[\"SCT_snn_res.1\"].values[\n",
    "        seq_neighbors_indices\n",
    "    ]\n",
    "\n",
    "    # Use Counter to count occurrences\n",
    "    counter = Counter(seq_neighbors_categories)\n",
    "\n",
    "    # Find the most common element\n",
    "    most_common = counter.most_common(1)\n",
    "\n",
    "    averaged_expression[i] = most_common[0][0]\n",
    "\n",
    "    seq_neighbors_categories = seq_data_copy.obs[\"celltype\"].values[\n",
    "        seq_neighbors_indices\n",
    "    ]\n",
    "\n",
    "    # Use Counter to count occurrences\n",
    "    counter = Counter(seq_neighbors_categories)\n",
    "\n",
    "    # Find the most common element\n",
    "    most_common = counter.most_common(1)\n",
    "\n",
    "    average_celltype.append(most_common[0][0])\n",
    "\n",
    "spatial_data.obs[\"DC3000_Cluster_Transfer\"] = averaged_expression\n",
    "spatial_data.obs[\"celltype\"] = average_celltype"
   ]
  },
  {
   "cell_type": "markdown",
   "metadata": {},
   "source": [
    "UMAP and saving out spatial"
   ]
  },
  {
   "cell_type": "code",
   "execution_count": null,
   "metadata": {},
   "outputs": [],
   "source": [
    "sc.pp.neighbors(spatial_data, use_rep=\"X_gimvi\")\n",
    "sc.tl.leiden(spatial_data)"
   ]
  },
  {
   "cell_type": "code",
   "execution_count": null,
   "metadata": {},
   "outputs": [],
   "source": [
    "sc.tl.umap(spatial_data, n_components=15)"
   ]
  },
  {
   "cell_type": "code",
   "execution_count": null,
   "metadata": {},
   "outputs": [],
   "source": [
    "spatial_data.write(\n",
    "    os.path.join(data_path, \"integration\", \"dc3000\", \"spatial_data.h5ad\")\n",
    ")"
   ]
  },
  {
   "cell_type": "code",
   "execution_count": null,
   "metadata": {},
   "outputs": [],
   "source": [
    "sc.set_figure_params(dpi=300)\n",
    "fig = sc.pl.embedding(\n",
    "    spatial_data,\n",
    "    basis=\"X_umap_gimvi\",\n",
    "    color=\"celltype\",\n",
    "    frameon=False,\n",
    "    title=\"24hr DC3000 Multiome\",\n",
    "    return_fig=True,\n",
    "    show=False,\n",
    ")\n",
    "plt.axis(\"equal\")\n",
    "\n",
    "plt.show()"
   ]
  }
 ],
 "metadata": {
  "kernelspec": {
   "display_name": "scvi-env",
   "language": "python",
   "name": "python3"
  },
  "language_info": {
   "codemirror_mode": {
    "name": "ipython",
    "version": 3
   },
   "file_extension": ".py",
   "mimetype": "text/x-python",
   "name": "python",
   "nbconvert_exporter": "python",
   "pygments_lexer": "ipython3",
   "version": "3.9.18"
  }
 },
 "nbformat": 4,
 "nbformat_minor": 2
}
