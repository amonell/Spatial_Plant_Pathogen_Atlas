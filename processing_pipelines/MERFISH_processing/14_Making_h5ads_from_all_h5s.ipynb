{
 "cells": [
  {
   "cell_type": "markdown",
   "id": "71f86822",
   "metadata": {},
   "source": [
    "Environment: This script should be run with the `python_plant_pathogen_atlas` environment using the devcontainer `docker_python`"
   ]
  },
  {
   "cell_type": "code",
   "execution_count": 1,
   "id": "844d8f71-64cf-40d6-9b51-2a075f7c1e47",
   "metadata": {},
   "outputs": [],
   "source": [
    "import diopy\n",
    "import scanpy\n",
    "import os"
   ]
  },
  {
   "cell_type": "markdown",
   "id": "08379f59",
   "metadata": {},
   "source": [
    "##### Conversion of interediate h5 files to anndatas for use in Python"
   ]
  },
  {
   "cell_type": "code",
   "execution_count": 2,
   "id": "5b009447-2c2e-4e1a-8d9e-b948c985d62e",
   "metadata": {},
   "outputs": [],
   "source": [
    "output_folder = r'../../outputs'"
   ]
  },
  {
   "cell_type": "code",
   "execution_count": 3,
   "id": "50fa1219-a8ac-4ee1-90d1-391f9d9125ae",
   "metadata": {},
   "outputs": [],
   "source": [
    "ad = diopy.input.read_h5(file = os.path.join(output_folder, 'adatas', 'combined_spatial_seurat.h5'))"
   ]
  },
  {
   "cell_type": "code",
   "execution_count": 4,
   "id": "663a566c-417b-4d95-9a13-d931a3d5b194",
   "metadata": {},
   "outputs": [],
   "source": [
    "ad.write(os.path.join(output_folder, 'adatas', 'combined_spatial_seurat.h5ad'))"
   ]
  }
 ],
 "metadata": {
  "kernelspec": {
   "display_name": "Python 3 (ipykernel)",
   "language": "python",
   "name": "python3"
  },
  "language_info": {
   "codemirror_mode": {
    "name": "ipython",
    "version": 3
   },
   "file_extension": ".py",
   "mimetype": "text/x-python",
   "name": "python",
   "nbconvert_exporter": "python",
   "pygments_lexer": "ipython3",
   "version": "3.8.8"
  }
 },
 "nbformat": 4,
 "nbformat_minor": 5
}
