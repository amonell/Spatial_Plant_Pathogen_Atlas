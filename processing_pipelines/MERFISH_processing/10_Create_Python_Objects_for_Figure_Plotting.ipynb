{
 "cells": [
  {
   "cell_type": "markdown",
   "id": "5cc09320",
   "metadata": {},
   "source": [
    "Environment: This script should be run with the `r_environment_pathogen_atlas` environment using the devcontainer `devcontainer_R` "
   ]
  },
  {
   "cell_type": "code",
   "execution_count": null,
   "id": "2efaa0b3-b7ef-424e-8a2a-5fb4ec95e85e",
   "metadata": {
    "vscode": {
     "languageId": "r"
    }
   },
   "outputs": [],
   "source": [
    "library(Seurat)\n",
    "library(ggplot2)"
   ]
  },
  {
   "cell_type": "markdown",
   "id": "7ec1ad75",
   "metadata": {},
   "source": [
    "Converting the spatial joint embedding calculated in R to a format that can be ingested into Python."
   ]
  },
  {
   "cell_type": "code",
   "execution_count": null,
   "id": "54d3ace5",
   "metadata": {
    "vscode": {
     "languageId": "r"
    }
   },
   "outputs": [],
   "source": [
    "outputs_folder <- '../../outputs'"
   ]
  },
  {
   "cell_type": "code",
   "execution_count": null,
   "id": "01dedc75-72d7-40b0-99ae-c8664c76bbeb",
   "metadata": {
    "vscode": {
     "languageId": "r"
    }
   },
   "outputs": [],
   "source": [
    "spatial_combined <- readRDS(file.path(outputs_folder, 'adatas', 'combined_spatial_seurat.rds'))"
   ]
  },
  {
   "cell_type": "code",
   "execution_count": null,
   "id": "6365ffa7-6c80-4d45-bd21-3d1cc6833027",
   "metadata": {
    "vscode": {
     "languageId": "r"
    }
   },
   "outputs": [],
   "source": [
    "dior::write_h5(spatial_combined, file= file.path(outputs_folder, 'adatas', 'combined_spatial_seurat.h5'), object.type = 'seurat')"
   ]
  }
 ],
 "metadata": {
  "kernelspec": {
   "display_name": "R",
   "language": "R",
   "name": "ir"
  },
  "language_info": {
   "codemirror_mode": "r",
   "file_extension": ".r",
   "mimetype": "text/x-r-source",
   "name": "R",
   "pygments_lexer": "r",
   "version": "4.0.5"
  }
 },
 "nbformat": 4,
 "nbformat_minor": 5
}
