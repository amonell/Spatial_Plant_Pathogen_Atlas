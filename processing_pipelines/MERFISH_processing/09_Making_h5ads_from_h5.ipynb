{
 "cells": [
  {
   "cell_type": "markdown",
   "id": "f7112701",
   "metadata": {},
   "source": [
    "Environment: This script should be run with the `python_plant_pathogen_atlas` environment using the devcontainer `docker_python`"
   ]
  },
  {
   "cell_type": "code",
   "execution_count": 1,
   "id": "844d8f71-64cf-40d6-9b51-2a075f7c1e47",
   "metadata": {},
   "outputs": [],
   "source": [
    "import diopy\n",
    "import scanpy\n",
    "import os"
   ]
  },
  {
   "cell_type": "code",
   "execution_count": 2,
   "id": "5b009447-2c2e-4e1a-8d9e-b948c985d62e",
   "metadata": {},
   "outputs": [],
   "source": [
    "output_folder = r'../../outputs'\n",
    "data_folder = r'../../data'"
   ]
  },
  {
   "cell_type": "markdown",
   "id": "5f2bdd0e",
   "metadata": {},
   "source": [
    "Convert h5s to h5ads so that they can be loaded into python as Anndatas more easily"
   ]
  },
  {
   "cell_type": "code",
   "execution_count": 3,
   "id": "f387f4f1-dbc0-4661-a920-d98b89217396",
   "metadata": {},
   "outputs": [],
   "source": [
    "ad = diopy.input.read_h5(file = os.path.join(output_folder, 'adatas', 'joint_embedded_spatial_only_R_for_transfer.h5'))"
   ]
  },
  {
   "cell_type": "code",
   "execution_count": 4,
   "id": "d26c1bf8-b22c-45f7-a351-8508c9492a9d",
   "metadata": {},
   "outputs": [],
   "source": [
    "ad.write(os.path.join(output_folder, 'adatas', 'joint_embedded_R_for_transfer.h5ad'))"
   ]
  },
  {
   "cell_type": "code",
   "execution_count": 5,
   "id": "72c735bc",
   "metadata": {},
   "outputs": [],
   "source": [
    "seq_ad = diopy.input.read_h5(file = os.path.join(data_folder, 'temp_objects', 'AvrRpt2_alone2.h5'))"
   ]
  },
  {
   "cell_type": "code",
   "execution_count": 6,
   "id": "a191f17e",
   "metadata": {},
   "outputs": [],
   "source": [
    "seq_ad.write(os.path.join(data_folder, 'temp_objects', 'AvrRpt2_alone2.h5ad'))"
   ]
  }
 ],
 "metadata": {
  "kernelspec": {
   "display_name": "Python 3 (ipykernel)",
   "language": "python",
   "name": "python3"
  },
  "language_info": {
   "codemirror_mode": {
    "name": "ipython",
    "version": 3
   },
   "file_extension": ".py",
   "mimetype": "text/x-python",
   "name": "python",
   "nbconvert_exporter": "python",
   "pygments_lexer": "ipython3",
   "version": "3.8.8"
  }
 },
 "nbformat": 4,
 "nbformat_minor": 5
}
