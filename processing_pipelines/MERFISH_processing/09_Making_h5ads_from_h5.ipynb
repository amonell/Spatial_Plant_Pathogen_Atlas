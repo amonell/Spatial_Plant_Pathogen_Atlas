{
 "cells": [
  {
   "cell_type": "markdown",
   "id": "0",
   "metadata": {},
   "source": [
    "Environment: This script should be run with the `python_plant_pathogen_atlas` environment using the devcontainer `docker_python`"
   ]
  },
  {
   "cell_type": "code",
   "execution_count": null,
   "id": "1",
   "metadata": {},
   "outputs": [],
   "source": [
    "import diopy\n",
    "import scanpy\n",
    "import os"
   ]
  },
  {
   "cell_type": "code",
   "execution_count": null,
   "id": "2",
   "metadata": {},
   "outputs": [],
   "source": [
    "output_folder = r\"../../outputs\"\n",
    "data_folder = r\"../../data\""
   ]
  },
  {
   "cell_type": "markdown",
   "id": "3",
   "metadata": {},
   "source": [
    "Convert h5s to h5ads so that they can be loaded into python as Anndatas more easily"
   ]
  },
  {
   "cell_type": "code",
   "execution_count": null,
   "id": "4",
   "metadata": {},
   "outputs": [],
   "source": [
    "ad = diopy.input.read_h5(\n",
    "    file=os.path.join(\n",
    "        output_folder, \"adatas\", \"joint_embedded_spatial_only_R_for_transfer.h5\"\n",
    "    )\n",
    ")"
   ]
  },
  {
   "cell_type": "code",
   "execution_count": null,
   "id": "5",
   "metadata": {},
   "outputs": [],
   "source": [
    "ad.write(os.path.join(output_folder, \"adatas\", \"joint_embedded_R_for_transfer.h5ad\"))"
   ]
  },
  {
   "cell_type": "code",
   "execution_count": null,
   "id": "6",
   "metadata": {},
   "outputs": [],
   "source": [
    "seq_ad = diopy.input.read_h5(\n",
    "    file=os.path.join(data_folder, \"temp_objects\", \"AvrRpt2_alone2.h5\")\n",
    ")"
   ]
  },
  {
   "cell_type": "code",
   "execution_count": null,
   "id": "7",
   "metadata": {},
   "outputs": [],
   "source": [
    "seq_ad.write(os.path.join(data_folder, \"temp_objects\", \"AvrRpt2_alone2.h5ad\"))"
   ]
  }
 ],
 "metadata": {
  "kernelspec": {
   "display_name": "Python 3 (ipykernel)",
   "language": "python",
   "name": "python3"
  },
  "language_info": {
   "codemirror_mode": {
    "name": "ipython",
    "version": 3
   },
   "file_extension": ".py",
   "mimetype": "text/x-python",
   "name": "python",
   "nbconvert_exporter": "python",
   "pygments_lexer": "ipython3",
   "version": "3.8.8"
  }
 },
 "nbformat": 4,
 "nbformat_minor": 5
}
