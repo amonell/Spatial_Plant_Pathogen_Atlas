{
 "cells": [
  {
   "cell_type": "markdown",
   "metadata": {},
   "source": [
    "Environment: This script should be run with the `r_environment_pathogen_atlas` environment using the devcontainer `devcontainer_R` "
   ]
  },
  {
   "cell_type": "code",
   "execution_count": null,
   "metadata": {
    "vscode": {
     "languageId": "r"
    }
   },
   "outputs": [],
   "source": [
    "library(Seurat)\n",
    "library(ggplot2)\n",
    "library(patchwork)\n",
    "library(Matrix)\n",
    "\n",
    "\n",
    "set.seed(0)"
   ]
  },
  {
   "cell_type": "markdown",
   "metadata": {},
   "source": [
    "Read in snRNA data from all replicates"
   ]
  },
  {
   "cell_type": "code",
   "execution_count": null,
   "metadata": {
    "vscode": {
     "languageId": "r"
    }
   },
   "outputs": [],
   "source": [
    "data_folder <- \"../../data\""
   ]
  },
  {
   "cell_type": "code",
   "execution_count": null,
   "metadata": {
    "vscode": {
     "languageId": "r"
    }
   },
   "outputs": [],
   "source": [
    "seq_folder = file.path(data_folder, 'AvrRpt2_alone2.rds')"
   ]
  },
  {
   "cell_type": "code",
   "execution_count": null,
   "metadata": {
    "vscode": {
     "languageId": "r"
    }
   },
   "outputs": [],
   "source": [
    "scrna = readRDS(seq_folder)"
   ]
  },
  {
   "cell_type": "markdown",
   "metadata": {},
   "source": [
    "Add pseudotime to the snRNA data"
   ]
  },
  {
   "cell_type": "code",
   "execution_count": null,
   "metadata": {
    "vscode": {
     "languageId": "r"
    }
   },
   "outputs": [],
   "source": [
    "rep1_folder = file.path(data_folder, 'AvrRpt2_alone.rds')\n",
    "rep1 = readRDS(rep1_folder)\n",
    "rep1_pseudotime = read.csv(file.path(data_folder, 'temp_objects', 'pseudotime_csv.csv'))\n",
    "rep1@meta.data$index <- rownames(rep1@meta.data)\n",
    "cleaned_vector <- gsub(\"col_|_rep1\", \"\", rownames(scrna@meta.data))\n",
    "copyscrna <- scrna@meta.data\n",
    "rownames(copyscrna) <- cleaned_vector"
   ]
  },
  {
   "cell_type": "markdown",
   "metadata": {},
   "source": [
    "Formatting the snRNA"
   ]
  },
  {
   "cell_type": "code",
   "execution_count": null,
   "metadata": {
    "vscode": {
     "languageId": "r"
    }
   },
   "outputs": [],
   "source": [
    "rep1@meta.data <- merge(rep1@meta.data, copyscrna[c(\"sub_clst_rna\", 'celltype', 'SCT_snn_res.1')], by = 0, all.x = TRUE)\n",
    "\n",
    "rownames(rep1@meta.data) <- rep1@meta.data$Row.names\n",
    "\n",
    "Idents(object = rep1) <- \"celltype.y\"\n",
    "\n",
    "rep1 <- subset(rep1, idents = c('Vasculature', 'Mesophyll', 'Epidermis', 'Unknown'))\n",
    "\n",
    "merged_df <- merge(rep1@meta.data, rep1_pseudotime, by = 'index', all.x = TRUE)\n",
    "rep1@meta.data <- merged_df\n",
    "\n",
    "rownames(rep1@meta.data) <- rep1@meta.data$index\n",
    "\n",
    "DefaultAssay(rep1) <- \"SCT\"\n",
    "\n",
    "rep1@meta.data$celltype <- ifelse(rep1@meta.data$celltype.y == \"\", \"Unknown\", rep1@meta.data$celltype.y)\n",
    "rep1 <- subset(x = rep1, subset = celltype.y != c('Unknown'))"
   ]
  },
  {
   "cell_type": "markdown",
   "metadata": {},
   "source": [
    "Reading in the DC3000 snRNA data"
   ]
  },
  {
   "cell_type": "code",
   "execution_count": null,
   "metadata": {
    "vscode": {
     "languageId": "r"
    }
   },
   "outputs": [],
   "source": [
    "dc3000 <- readRDS(file.path(data_folder, 'DC3000_alone.rds'))\n",
    "\n",
    "dc3000 <- subset(dc3000, subset = sample.order == '01_DC3000_24h')\n"
   ]
  },
  {
   "cell_type": "markdown",
   "metadata": {},
   "source": [
    "Finding anchors between the other snRNA datasets and DC3000"
   ]
  },
  {
   "cell_type": "code",
   "execution_count": null,
   "metadata": {
    "vscode": {
     "languageId": "r"
    }
   },
   "outputs": [],
   "source": [
    "anchors <- list()"
   ]
  },
  {
   "cell_type": "code",
   "execution_count": null,
   "metadata": {
    "vscode": {
     "languageId": "r"
    }
   },
   "outputs": [],
   "source": [
    "anchors[[1]] <- FindTransferAnchors(\n",
    "    reference = rep1,\n",
    "    query = dc3000,\n",
    "    reference.reduction = \"pca\", \n",
    "    normalization.method = \"SCT\"\n",
    ")"
   ]
  },
  {
   "cell_type": "code",
   "execution_count": null,
   "metadata": {
    "vscode": {
     "languageId": "r"
    }
   },
   "outputs": [],
   "source": [
    "\n",
    "# Replace NaN values with 0 in the 'dpt_pseudotime' column\n",
    "rep1@meta.data$dpt_pseudotime[is.na(rep1@meta.data$dpt_pseudotime)] <- 0\n",
    "\n",
    "sample_vector <- rep1@meta.data$dpt_pseudotime \n",
    "sparse_matrix <- t(sparseMatrix(i = 1:length(sample_vector),\n",
    "                              j = rep(1, length(sample_vector)),\n",
    "                              x = sample_vector))\n",
    "rep1[['pseudotime']] = t(sparse_matrix)\n",
    "colnames(sparse_matrix) <- colnames(rep1)\n",
    "rownames(sparse_matrix) <- c('pseudotime')"
   ]
  },
  {
   "cell_type": "markdown",
   "metadata": {},
   "source": [
    "mapping dc3000 to the avr anchors"
   ]
  },
  {
   "cell_type": "code",
   "execution_count": null,
   "metadata": {
    "vscode": {
     "languageId": "r"
    }
   },
   "outputs": [],
   "source": [
    "dc3000 <- MapQuery(\n",
    "    anchorset = anchors[[1]], \n",
    "    query = dc3000,\n",
    "    reference = rep1, \n",
    "    refdata = list(pseudotime = sparse_matrix),\n",
    "    reference.reduction = \"pca\",\n",
    ")"
   ]
  },
  {
   "cell_type": "markdown",
   "metadata": {},
   "source": [
    "Transferring pseudotime"
   ]
  },
  {
   "cell_type": "code",
   "execution_count": null,
   "metadata": {
    "vscode": {
     "languageId": "r"
    }
   },
   "outputs": [],
   "source": [
    "sparse_pseudo <- dc3000@assays$pseudotime@data\n",
    "sparse_vector <- sparse_pseudo[1,]\n",
    "dense_vector <- as.vector(sparse_vector)"
   ]
  },
  {
   "cell_type": "code",
   "execution_count": null,
   "metadata": {
    "vscode": {
     "languageId": "r"
    }
   },
   "outputs": [],
   "source": [
    "dc3000@meta.data$pseudotime <- dense_vector "
   ]
  },
  {
   "cell_type": "code",
   "execution_count": null,
   "metadata": {
    "vscode": {
     "languageId": "r"
    }
   },
   "outputs": [],
   "source": [
    "dc3000@meta.data$pseudotime[is.na(dc3000@meta.data$pseudotime)] <- 0"
   ]
  },
  {
   "cell_type": "markdown",
   "metadata": {},
   "source": [
    "Saving dc3000 snRNA with pseudotime"
   ]
  },
  {
   "cell_type": "code",
   "execution_count": null,
   "metadata": {
    "vscode": {
     "languageId": "r"
    }
   },
   "outputs": [],
   "source": [
    "dior::write_h5(dc3000, file= file.path(data_folder, \"DC3000_alone.h5\"), object.type = 'seurat')"
   ]
  }
 ],
 "metadata": {
  "kernelspec": {
   "display_name": "R",
   "language": "R",
   "name": "ir"
  },
  "language_info": {
   "codemirror_mode": "r",
   "file_extension": ".r",
   "mimetype": "text/x-r-source",
   "name": "R",
   "pygments_lexer": "r",
   "version": "4.0.5"
  }
 },
 "nbformat": 4,
 "nbformat_minor": 2
}
