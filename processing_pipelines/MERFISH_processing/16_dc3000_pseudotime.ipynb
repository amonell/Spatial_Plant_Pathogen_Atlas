{
 "cells": [
  {
   "cell_type": "code",
   "execution_count": 2,
   "metadata": {
    "vscode": {
     "languageId": "r"
    }
   },
   "outputs": [
    {
     "name": "stderr",
     "output_type": "stream",
     "text": [
      "Attaching SeuratObject\n",
      "\n"
     ]
    }
   ],
   "source": [
    "library(Seurat)\n",
    "library(ggplot2)\n",
    "library(patchwork)\n",
    "library(Matrix)"
   ]
  },
  {
   "cell_type": "markdown",
   "metadata": {},
   "source": [
    "### Read in rep1 avr"
   ]
  },
  {
   "cell_type": "code",
   "execution_count": 3,
   "metadata": {
    "vscode": {
     "languageId": "r"
    }
   },
   "outputs": [],
   "source": [
    "data_folder <- \"../../data\""
   ]
  },
  {
   "cell_type": "code",
   "execution_count": 4,
   "metadata": {
    "vscode": {
     "languageId": "r"
    }
   },
   "outputs": [],
   "source": [
    "seq_folder = file.path(data_folder, 'AvrRpt2_alone2.rds')"
   ]
  },
  {
   "cell_type": "code",
   "execution_count": 5,
   "metadata": {
    "vscode": {
     "languageId": "r"
    }
   },
   "outputs": [],
   "source": [
    "scrna = readRDS(seq_folder)"
   ]
  },
  {
   "cell_type": "code",
   "execution_count": 6,
   "metadata": {
    "vscode": {
     "languageId": "r"
    }
   },
   "outputs": [],
   "source": [
    "rep1_folder = file.path(data_folder, 'AvrRpt2_alone.rds')\n",
    "rep1 = readRDS(rep1_folder)\n",
    "rep1_pseudotime = read.csv(file.path(data_folder, 'temp_objects', 'pseudotime_csv.csv'))\n",
    "rep1@meta.data$index <- rownames(rep1@meta.data)\n",
    "cleaned_vector <- gsub(\"col_|_rep1\", \"\", rownames(scrna@meta.data))\n",
    "copyscrna <- scrna@meta.data\n",
    "rownames(copyscrna) <- cleaned_vector"
   ]
  },
  {
   "cell_type": "code",
   "execution_count": 7,
   "metadata": {
    "vscode": {
     "languageId": "r"
    }
   },
   "outputs": [],
   "source": [
    "rep1@meta.data <- merge(rep1@meta.data, copyscrna[c(\"sub_clst_rna\", 'celltype', 'SCT_snn_res.1')], by = 0, all.x = TRUE)"
   ]
  },
  {
   "cell_type": "code",
   "execution_count": 8,
   "metadata": {
    "vscode": {
     "languageId": "r"
    }
   },
   "outputs": [],
   "source": [
    "rownames(rep1@meta.data) <- rep1@meta.data$Row.names"
   ]
  },
  {
   "cell_type": "code",
   "execution_count": 9,
   "metadata": {
    "vscode": {
     "languageId": "r"
    }
   },
   "outputs": [],
   "source": [
    "Idents(object = rep1) <- \"celltype.y\""
   ]
  },
  {
   "cell_type": "code",
   "execution_count": 10,
   "metadata": {
    "vscode": {
     "languageId": "r"
    }
   },
   "outputs": [
    {
     "name": "stderr",
     "output_type": "stream",
     "text": [
      "Loading required package: Signac\n",
      "\n",
      "\n",
      "Attaching package: 'Signac'\n",
      "\n",
      "\n",
      "The following object is masked from 'package:Seurat':\n",
      "\n",
      "    FoldChange\n",
      "\n",
      "\n",
      "Warning message:\n",
      "\"Keys should be one or more alphanumeric characters followed by an underscore, setting key from pca_kt57_ to pcakt57_\"\n"
     ]
    }
   ],
   "source": [
    "rep1 <- subset(rep1, idents = c('Vasculature', 'Mesophyll', 'Epidermis', 'Unknown'))"
   ]
  },
  {
   "cell_type": "code",
   "execution_count": 11,
   "metadata": {
    "vscode": {
     "languageId": "r"
    }
   },
   "outputs": [],
   "source": [
    "merged_df <- merge(rep1@meta.data, rep1_pseudotime, by = 'index', all.x = TRUE)\n",
    "rep1@meta.data <- merged_df"
   ]
  },
  {
   "cell_type": "code",
   "execution_count": 12,
   "metadata": {
    "vscode": {
     "languageId": "r"
    }
   },
   "outputs": [],
   "source": [
    "rownames(rep1@meta.data) <- rep1@meta.data$index"
   ]
  },
  {
   "cell_type": "code",
   "execution_count": 13,
   "metadata": {
    "vscode": {
     "languageId": "r"
    }
   },
   "outputs": [],
   "source": [
    "DefaultAssay(rep1) <- \"SCT\""
   ]
  },
  {
   "cell_type": "code",
   "execution_count": 14,
   "metadata": {
    "vscode": {
     "languageId": "r"
    }
   },
   "outputs": [],
   "source": [
    "rep1@meta.data$celltype <- ifelse(rep1@meta.data$celltype.y == \"\", \"Unknown\", rep1@meta.data$celltype.y)\n",
    "rep1 <- subset(x = rep1, subset = celltype.y != c('Unknown'))"
   ]
  },
  {
   "cell_type": "markdown",
   "metadata": {},
   "source": [
    "### read in dc3000"
   ]
  },
  {
   "cell_type": "code",
   "execution_count": 15,
   "metadata": {
    "vscode": {
     "languageId": "r"
    }
   },
   "outputs": [],
   "source": [
    "dc3000 <- readRDS(file.path(data_folder, 'DC3000_alone.rds'))"
   ]
  },
  {
   "cell_type": "code",
   "execution_count": 16,
   "metadata": {
    "vscode": {
     "languageId": "r"
    }
   },
   "outputs": [
    {
     "name": "stderr",
     "output_type": "stream",
     "text": [
      "Warning message:\n",
      "\"Keys should be one or more alphanumeric characters followed by an underscore, setting key from pca_kt56_ to pcakt56_\"\n"
     ]
    }
   ],
   "source": [
    "dc3000 <- subset(dc3000, subset = sample.order == '01_DC3000_24h')\n"
   ]
  },
  {
   "cell_type": "code",
   "execution_count": 17,
   "metadata": {
    "vscode": {
     "languageId": "r"
    }
   },
   "outputs": [],
   "source": [
    "anchors <- list()"
   ]
  },
  {
   "cell_type": "code",
   "execution_count": 18,
   "metadata": {
    "vscode": {
     "languageId": "r"
    }
   },
   "outputs": [
    {
     "name": "stderr",
     "output_type": "stream",
     "text": [
      "Normalizing query using reference SCT model\n",
      "\n"
     ]
    },
    {
     "name": "stderr",
     "output_type": "stream",
     "text": [
      "Projecting cell embeddings\n",
      "\n",
      "Finding neighborhoods\n",
      "\n",
      "Finding anchors\n",
      "\n",
      "\tFound 754 anchors\n",
      "\n"
     ]
    }
   ],
   "source": [
    "anchors[[1]] <- FindTransferAnchors(\n",
    "    reference = rep1,\n",
    "    query = dc3000,\n",
    "    reference.reduction = \"pca\", \n",
    "    normalization.method = \"SCT\",\n",
    "    dims = 1:50\n",
    ")"
   ]
  },
  {
   "cell_type": "code",
   "execution_count": 19,
   "metadata": {
    "vscode": {
     "languageId": "r"
    }
   },
   "outputs": [],
   "source": [
    "\n",
    "# Replace NaN values with 0 in the 'dpt_pseudotime' column\n",
    "rep1@meta.data$dpt_pseudotime[is.na(rep1@meta.data$dpt_pseudotime)] <- 0\n",
    "\n",
    "sample_vector <- rep1@meta.data$dpt_pseudotime \n",
    "sparse_matrix <- t(sparseMatrix(i = 1:length(sample_vector),\n",
    "                              j = rep(1, length(sample_vector)),\n",
    "                              x = sample_vector))\n",
    "rep1[['pseudotime']] = t(sparse_matrix)\n",
    "colnames(sparse_matrix) <- colnames(rep1)\n",
    "rownames(sparse_matrix) <- c('pseudotime')"
   ]
  },
  {
   "cell_type": "code",
   "execution_count": 20,
   "metadata": {
    "vscode": {
     "languageId": "r"
    }
   },
   "outputs": [
    {
     "name": "stderr",
     "output_type": "stream",
     "text": [
      "Finding integration vectors\n",
      "\n"
     ]
    },
    {
     "name": "stderr",
     "output_type": "stream",
     "text": [
      "Finding integration vector weights\n",
      "\n",
      "Transfering 1 features onto reference data\n",
      "\n",
      "Integrating dataset 2 with reference dataset\n",
      "\n",
      "Finding integration vectors\n",
      "\n",
      "Integrating data\n",
      "\n",
      "Warning message:\n",
      "\"Keys should be one or more alphanumeric characters followed by an underscore, setting key from ref.pca_ to refpca_\"\n",
      "Warning message:\n",
      "\"Keys should be one or more alphanumeric characters followed by an underscore, setting key from ref.pca_ to refpca_\"\n",
      "Warning message:\n",
      "\"All keys should be one or more alphanumeric characters followed by an underscore '_', setting key to refpca_\"\n"
     ]
    }
   ],
   "source": [
    "dc3000 <- MapQuery(\n",
    "    anchorset = anchors[[1]], \n",
    "    query = dc3000,\n",
    "    reference = rep1, \n",
    "    refdata = list(pseudotime = sparse_matrix),\n",
    "    reference.reduction = \"pca\",\n",
    ")"
   ]
  },
  {
   "cell_type": "code",
   "execution_count": 21,
   "metadata": {
    "vscode": {
     "languageId": "r"
    }
   },
   "outputs": [],
   "source": [
    "sparse_pseudo <- dc3000@assays$pseudotime@data\n",
    "sparse_vector <- sparse_pseudo[1,]\n",
    "dense_vector <- as.vector(sparse_vector)"
   ]
  },
  {
   "cell_type": "code",
   "execution_count": 22,
   "metadata": {
    "vscode": {
     "languageId": "r"
    }
   },
   "outputs": [],
   "source": [
    "dc3000@meta.data$pseudotime <- dense_vector "
   ]
  },
  {
   "cell_type": "code",
   "execution_count": 23,
   "metadata": {
    "vscode": {
     "languageId": "r"
    }
   },
   "outputs": [],
   "source": [
    "dc3000@meta.data$pseudotime[is.na(dc3000@meta.data$pseudotime)] <- 0"
   ]
  },
  {
   "cell_type": "code",
   "execution_count": 24,
   "metadata": {
    "vscode": {
     "languageId": "r"
    }
   },
   "outputs": [
    {
     "name": "stderr",
     "output_type": "stream",
     "text": [
      "Warning message in matrix_to_h5(mat = slot_layer@data, h5 = layers, gr_name = s):\n",
      "\"s is dense matrix\"\n"
     ]
    }
   ],
   "source": [
    "dior::write_h5(dc3000, file= file.path(data_folder, \"DC3000_alone.h5\"), object.type = 'seurat')"
   ]
  }
 ],
 "metadata": {
  "kernelspec": {
   "display_name": "R",
   "language": "R",
   "name": "ir"
  },
  "language_info": {
   "codemirror_mode": "r",
   "file_extension": ".r",
   "mimetype": "text/x-r-source",
   "name": "R",
   "pygments_lexer": "r",
   "version": "4.0.5"
  }
 },
 "nbformat": 4,
 "nbformat_minor": 2
}
