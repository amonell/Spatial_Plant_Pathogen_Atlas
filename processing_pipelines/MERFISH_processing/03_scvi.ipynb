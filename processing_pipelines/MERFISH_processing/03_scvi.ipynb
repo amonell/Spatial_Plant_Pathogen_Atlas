{
 "cells": [
  {
   "cell_type": "markdown",
   "metadata": {},
   "source": [
    "Environment: This script should be run with the `python_scvi_environment` environment using the devcontainer `docker_python_scvi`"
   ]
  },
  {
   "cell_type": "code",
   "execution_count": null,
   "metadata": {},
   "outputs": [],
   "source": [
    "import scanpy as sc\n",
    "import scvi\n",
    "import os\n",
    "import numpy as np\n",
    "import pandas as pd\n",
    "from scvi.model.utils import mde\n",
    "import matplotlib.pyplot as plt\n",
    "import pickle\n",
    "import pickle"
   ]
  },
  {
   "cell_type": "markdown",
   "metadata": {},
   "source": [
    "Get the paths to all of the segmentation folders where the processed adatas are now stored"
   ]
  },
  {
   "cell_type": "code",
   "execution_count": null,
   "metadata": {},
   "outputs": [],
   "source": [
    "data_folder = r\"../../data\"\n",
    "output_folder = r\"../../outputs\"\n",
    "os.makedirs(output_folder, exist_ok=True)\n",
    "\n",
    "list_of_baysor_segmentations = []\n",
    "for seg_name in [\"mock\", \"4hr_avr\", \"6hr_avr\", \"9hr_avr\", \"avrrpt24\"]:\n",
    "    list_of_baysor_segmentations.append(\n",
    "        os.path.join(data_folder, \"segmentations\", seg_name)\n",
    "    )"
   ]
  },
  {
   "cell_type": "code",
   "execution_count": null,
   "metadata": {},
   "outputs": [],
   "source": [
    "scvi.settings.seed = 1\n",
    "sc.set_figure_params(figsize=(4, 4))"
   ]
  },
  {
   "cell_type": "markdown",
   "metadata": {},
   "source": [
    "Read in the preprocessed spatial adatas"
   ]
  },
  {
   "cell_type": "code",
   "execution_count": null,
   "metadata": {},
   "outputs": [],
   "source": [
    "adata_list = []\n",
    "for input_file in list_of_baysor_segmentations:\n",
    "    experiment = sc.read(\n",
    "        os.path.join(input_file, \"adatas\", \"preprocessed_and_filtered_01.h5ad\")\n",
    "    )\n",
    "    experiment.obs[\"batch\"] = os.path.basename(input_file)\n",
    "    adata_list.append(experiment.copy())\n",
    "\n",
    "spatial_data = sc.concat(adata_list)"
   ]
  },
  {
   "cell_type": "markdown",
   "metadata": {},
   "source": [
    "Prepare and run scvi to integrate the adata objects from different timepoints into a joint embedding"
   ]
  },
  {
   "cell_type": "code",
   "execution_count": null,
   "metadata": {},
   "outputs": [],
   "source": [
    "# remove blank barcode features\n",
    "spatial_data = spatial_data[:, ~spatial_data.var.index.str.contains(\"Blank\")]\n",
    "spatial_data.obs_names_make_unique()\n",
    "spatial_data.var_names_make_unique()\n",
    "\n",
    "# read in the tsv that contains pairings between gene ID and gene name, and perform the conversion\n",
    "gene_symbols = pd.read_csv(\n",
    "    os.path.join(data_folder, \"useful_files\", \"geneID_to_geneName_MERSCOPE_panel1.txt\"),\n",
    "    sep=\"\\t\",\n",
    "    index_col=0,\n",
    ")\n",
    "new_indices = spatial_data.var.merge(\n",
    "    gene_symbols, left_index=True, right_on=\"gene_id\"\n",
    ").index.tolist()\n",
    "gene_names = spatial_data.var.merge(\n",
    "    gene_symbols, left_index=True, right_on=\"gene_id\"\n",
    ").gene_name.tolist()\n",
    "gene_id = spatial_data.var.merge(\n",
    "    gene_symbols, left_index=True, right_on=\"gene_id\"\n",
    ").gene_id.tolist()\n",
    "spatial_data = spatial_data[:, gene_id]\n",
    "new_vars = spatial_data.var.merge(gene_symbols, left_index=True, right_on=\"gene_id\")\n",
    "new_vars.index = new_vars.gene_name.tolist()\n",
    "new_vars = new_vars.drop([\"gene_name\"], axis=1)\n",
    "spatial_data.var = new_vars\n",
    "\n",
    "# train the scvi model\n",
    "scvi.model.SCVI.setup_anndata(spatial_data, layer=\"counts\", batch_key=\"batch\")\n",
    "vae = scvi.model.SCVI(spatial_data, n_layers=2, n_latent=20, gene_likelihood=\"nb\")\n",
    "vae.train()"
   ]
  },
  {
   "cell_type": "markdown",
   "metadata": {},
   "source": [
    "Get the scvi representations of each cell"
   ]
  },
  {
   "cell_type": "code",
   "execution_count": null,
   "metadata": {},
   "outputs": [],
   "source": [
    "spatial_data.obsm[\"X_scVI\"] = vae.get_latent_representation()\n",
    "sc.pp.neighbors(spatial_data, use_rep=\"X_scVI\", random_state=0)\n",
    "sc.tl.umap(spatial_data, random_state=0)"
   ]
  },
  {
   "cell_type": "markdown",
   "metadata": {},
   "source": [
    "Install and run leiden clustering. "
   ]
  },
  {
   "cell_type": "code",
   "execution_count": null,
   "metadata": {},
   "outputs": [],
   "source": [
    "%pip install igraph\n",
    "%pip install leidenalg\n",
    "\n",
    "sc.tl.leiden(spatial_data, random_state=0)\n",
    "sc.pl.umap(spatial_data, color=\"leiden\")"
   ]
  },
  {
   "cell_type": "markdown",
   "metadata": {},
   "source": [
    "Plot each dataset spatially colored by its joint leiden cluster"
   ]
  },
  {
   "cell_type": "code",
   "execution_count": null,
   "metadata": {},
   "outputs": [],
   "source": [
    "os.makedirs(os.path.join(output_folder, \"adatas\"), exist_ok=True)"
   ]
  },
  {
   "cell_type": "code",
   "execution_count": null,
   "metadata": {},
   "outputs": [],
   "source": [
    "unique_batches = np.unique(spatial_data.obs[\"batch\"])\n",
    "spatial_data.obsm[\"X_spatial\"] = np.array(\n",
    "    [spatial_data.obs[\"x\"], spatial_data.obs[\"y\"]]\n",
    ").T\n",
    "\n",
    "for i in unique_batches:\n",
    "    spatial_plot = spatial_data[spatial_data.obs[\"batch\"] == i]\n",
    "    sc.pl.embedding(spatial_plot, basis=\"spatial\", color=\"leiden\")"
   ]
  },
  {
   "cell_type": "markdown",
   "metadata": {},
   "source": [
    "Write out the joint embedded spatial dataset. We write out each part of the object separately and load them back in the following script because of environment compatibility issues with different scanpy versions"
   ]
  },
  {
   "cell_type": "code",
   "execution_count": null,
   "metadata": {},
   "outputs": [],
   "source": [
    "spatial_data.obs[\"modality\"] = \"spatial\"\n",
    "\n",
    "\n",
    "spatial_data.write(\n",
    "    os.path.join(output_folder, \"adatas\", \"spatial_concatenated_00.h5ad\")\n",
    ")"
   ]
  },
  {
   "cell_type": "code",
   "execution_count": null,
   "metadata": {},
   "outputs": [],
   "source": [
    "spatial_data.obs.to_csv(\n",
    "    os.path.join(output_folder, \"adatas\", \"spatial_concatenated_00_obs.csv\")\n",
    ")\n",
    "spatial_data.var.to_csv(\n",
    "    os.path.join(output_folder, \"adatas\", \"spatial_concatenated_00_var.csv\")\n",
    ")\n",
    "\n",
    "# File path where you want to save the object\n",
    "file_path = os.path.join(\n",
    "    os.path.join(output_folder, \"adatas\", \"spatial_concatenated_00_uns.pkl\")\n",
    ")\n",
    "\n",
    "# Dump the object to the file\n",
    "with open(file_path, \"wb\") as file:\n",
    "    pickle.dump(spatial_data.uns, file)\n",
    "\n",
    "# File path where you want to save the object\n",
    "file_path = os.path.join(\n",
    "    os.path.join(output_folder, \"adatas\", \"spatial_concatenated_00_obsm.pkl\")\n",
    ")\n",
    "\n",
    "# Dump the object to the file\n",
    "with open(file_path, \"wb\") as file:\n",
    "    pickle.dump(spatial_data.obsm, file)\n",
    "\n",
    "# File path where you want to save the object\n",
    "file_path = os.path.join(\n",
    "    os.path.join(output_folder, \"adatas\", \"spatial_concatenated_00_layers.pkl\")\n",
    ")\n",
    "\n",
    "# Dump the object to the file\n",
    "with open(file_path, \"wb\") as file:\n",
    "    pickle.dump(spatial_data.layers, file)\n",
    "\n",
    "np.save(\n",
    "    os.path.join(output_folder, \"adatas\", \"spatial_concatenated_00_X.npy\"),\n",
    "    spatial_data.X,\n",
    ")"
   ]
  },
  {
   "cell_type": "markdown",
   "metadata": {},
   "source": [
    "Save the scvi VAE"
   ]
  },
  {
   "cell_type": "code",
   "execution_count": null,
   "metadata": {},
   "outputs": [],
   "source": [
    "# File path where you want to save the object\n",
    "file_path = os.path.join(output_folder, \"vae_object.pkl\")\n",
    "\n",
    "# Dump the object to the file\n",
    "with open(file_path, \"wb\") as file:\n",
    "    pickle.dump(vae, file)"
   ]
  }
 ],
 "metadata": {
  "kernelspec": {
   "display_name": "scvi-env",
   "language": "python",
   "name": "python3"
  },
  "language_info": {
   "codemirror_mode": {
    "name": "ipython",
    "version": 3
   },
   "file_extension": ".py",
   "mimetype": "text/x-python",
   "name": "python",
   "nbconvert_exporter": "python",
   "pygments_lexer": "ipython3",
   "version": "3.9.18"
  }
 },
 "nbformat": 4,
 "nbformat_minor": 2
}
