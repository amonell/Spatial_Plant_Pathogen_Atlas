{
 "cells": [
  {
   "cell_type": "markdown",
   "id": "30549050",
   "metadata": {},
   "source": [
    "Environment: This script should be run with the `python_plant_pathogen_atlas` environment using the devcontainer `docker_python`"
   ]
  },
  {
   "cell_type": "markdown",
   "id": "77cb68b5",
   "metadata": {},
   "source": [
    "The purpose of this notebook is to add the pseudotime values calculated on all replicates to the scRNA-seq object containing only the first replicates"
   ]
  },
  {
   "cell_type": "code",
   "execution_count": 1,
   "id": "56079bb2-2a41-46cf-825a-9bfaaefa8b13",
   "metadata": {},
   "outputs": [],
   "source": [
    "import warnings\n",
    "warnings.simplefilter(action='ignore', category=Warning)\n",
    "import os, sys\n",
    "import numpy as np\n",
    "import scanpy as sc\n",
    "import matplotlib.pyplot as plt\n",
    "import diopy\n",
    "import pandas as pd"
   ]
  },
  {
   "cell_type": "code",
   "execution_count": 2,
   "id": "9cd989be",
   "metadata": {},
   "outputs": [],
   "source": [
    "data_path = '../../data'"
   ]
  },
  {
   "cell_type": "markdown",
   "id": "ea3727ab",
   "metadata": {},
   "source": [
    "Load in the scRNA-seq object containing only the first replicates"
   ]
  },
  {
   "cell_type": "code",
   "execution_count": 3,
   "id": "6fbc8977-fa24-4c41-b751-e23760241d30",
   "metadata": {},
   "outputs": [],
   "source": [
    "scrna = os.path.join(data_path, 'temp_objects', 'AvrRpt2_alone.h5')\n",
    "\n",
    "adata = diopy.input.read_h5(file = scrna)\n",
    "\n",
    "adata.obs = adata.obs[[i for i in adata.obs.columns if 'pANN' not in i]]\n",
    "adata.obs = adata.obs[[i for i in adata.obs.columns if 'DF.classifications' not in i]]"
   ]
  },
  {
   "cell_type": "markdown",
   "id": "c2191943",
   "metadata": {},
   "source": [
    "Loading in the scRNA-seq object with both replicates"
   ]
  },
  {
   "cell_type": "code",
   "execution_count": 6,
   "id": "c557990d",
   "metadata": {},
   "outputs": [],
   "source": [
    "rep2_pseudotime_adata = sc.read(os.path.join(data_path, 'temp_objects', 'seq_pseudotime_01.h5ad'))\n",
    "\n",
    "replcate2_adata_subset = rep2_pseudotime_adata[~rep2_pseudotime_adata.obs.index.str.contains('rep2')]\n",
    "\n",
    "new_index = pd.Series(replcate2_adata_subset.obs.index.values)\n",
    "\n",
    "\n",
    "# changing the index names to match the nomenclature of the scRNA-seq data containing only the first replicate\n",
    "nomenclature_dictionary = {'00_col_Mock_rep1': '00_Mock', \n",
    "                           'col_AvrRpt2_04h_rep1': 'AvrRpt2_04h', \n",
    "                           'col_AvrRpt2_06h_rep1': 'AvrRpt2_06h',\n",
    "                           'col_AvrRpt2_09h_rep1': 'AvrRpt2_09h',\n",
    "                           'col_AvrRpt2_24h_rep1': 'AvrRpt2_24h'}\n",
    "\n",
    "for key, value in nomenclature_dictionary.items():\n",
    "    print(key, value)\n",
    "    new_index = new_index.str.replace(key, value)\n"
   ]
  },
  {
   "cell_type": "markdown",
   "id": "7e290ad4",
   "metadata": {},
   "source": [
    "Add the pseudotime values to the scRNA-seq object containing only the first replicates "
   ]
  },
  {
   "cell_type": "code",
   "execution_count": 10,
   "id": "3451fe1e",
   "metadata": {},
   "outputs": [],
   "source": [
    "replcate2_adata_subset.obs.index = new_index.values\n",
    "\n",
    "pseudotime_df = replcate2_adata_subset.obs['dpt_pseudotime']\n",
    "\n",
    "adata.obs = adata.obs.merge(pseudotime_df, left_index=True, right_index=True, how='left')\n",
    "\n",
    "sc.pl.umap(adata, color=['dpt_pseudotime'], vmax=1, legend_loc= 'on data')"
   ]
  },
  {
   "cell_type": "markdown",
   "id": "5671ca2e",
   "metadata": {},
   "source": [
    "Write out the pseudotime values"
   ]
  },
  {
   "cell_type": "code",
   "execution_count": 14,
   "metadata": {},
   "outputs": [],
   "source": [
    "pseudotime_csv = pd.DataFrame(adata.obs['dpt_pseudotime'])"
   ]
  },
  {
   "cell_type": "code",
   "execution_count": 15,
   "id": "955597dc-65f8-4198-b577-39e4caada8c9",
   "metadata": {},
   "outputs": [],
   "source": [
    "pseudotime_csv.to_csv(os.path.join(data_path, 'temp_objects', 'pseudotime_csv.csv'))"
   ]
  }
 ],
 "metadata": {
  "colab": {
   "provenance": []
  },
  "kernelspec": {
   "display_name": "Python 3 (ipykernel)",
   "language": "python",
   "name": "python3"
  },
  "language_info": {
   "codemirror_mode": {
    "name": "ipython",
    "version": 3
   },
   "file_extension": ".py",
   "mimetype": "text/x-python",
   "name": "python",
   "nbconvert_exporter": "python",
   "pygments_lexer": "ipython3",
   "version": "3.8.8"
  },
  "vscode": {
   "interpreter": {
    "hash": "fe124d217b65d9b910bfd916d22d0b94d945e22c493cc9ac5dd74797e9713648"
   }
  }
 },
 "nbformat": 4,
 "nbformat_minor": 5
}
