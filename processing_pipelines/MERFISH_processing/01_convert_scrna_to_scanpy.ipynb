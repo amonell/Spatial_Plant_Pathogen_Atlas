{
 "cells": [
  {
   "cell_type": "markdown",
   "id": "0",
   "metadata": {},
   "source": [
    "Environment: This script should be run with the `r_environment_pathogen_atlas` environment using the devcontainer `devcontainer_R` "
   ]
  },
  {
   "cell_type": "markdown",
   "id": "1",
   "metadata": {},
   "source": [
    "In this notebook, we are converting the scMultiome data from R to an intermediate form before it is converted to Scanpy in Python.\n",
    " - This is because we do most of our spatial analysis in Python, and want the Multiome data for integration.\n",
    "\n",
    "##### Converting the timecourse scMultiome object to an intermediate form\n",
    "- AvrRpt2_alone2 is the scMultiome object with all of our replicates. \n",
    "- AvrRpt2_alone2.h5 is the intermediate form of the scMultiome object before it gets converted to Python"
   ]
  },
  {
   "cell_type": "code",
   "execution_count": null,
   "id": "2",
   "metadata": {
    "vscode": {
     "languageId": "r"
    }
   },
   "outputs": [],
   "source": [
    "library(Seurat)"
   ]
  },
  {
   "cell_type": "code",
   "execution_count": null,
   "id": "3",
   "metadata": {
    "vscode": {
     "languageId": "r"
    }
   },
   "outputs": [],
   "source": [
    "scrnaseq_r <- readRDS('../../data/AvrRpt2_alone2.rds')\n",
    "\n",
    "DefaultAssay(scrnaseq_r) <- \"RNA\"\n",
    "scrnaseq_r@assays$RNA@key <- \"rna_\"\n",
    "\n",
    "\n",
    "# Convert the counts matrix to dense format\n",
    "scrnaseq_r@assays$RNA@counts <- as.matrix(scrnaseq_r@assays$RNA@counts)\n",
    "\n",
    "# Also convert the data slot to dense format\n",
    "scrnaseq_r@assays$RNA@data <- as.matrix(scrnaseq_r@assays$RNA@data)"
   ]
  },
  {
   "cell_type": "code",
   "execution_count": null,
   "id": "4",
   "metadata": {
    "vscode": {
     "languageId": "r"
    }
   },
   "outputs": [],
   "source": [
    "mainDir <- \"../../data\"\n",
    "subDir <- \"temp_objects\"\n",
    "\n",
    "if (file.exists(subDir)){\n",
    "    setwd(file.path(mainDir, subDir))\n",
    "} else {\n",
    "    dir.create(file.path(mainDir, subDir))\n",
    "    setwd(file.path(mainDir, subDir))\n",
    "    \n",
    "}\n",
    "\n",
    "dir.create(file.path(mainDir, subDir), showWarnings = FALSE)"
   ]
  },
  {
   "cell_type": "code",
   "execution_count": null,
   "id": "5",
   "metadata": {
    "vscode": {
     "languageId": "r"
    }
   },
   "outputs": [],
   "source": [
    "dior::write_h5(scrnaseq_r, file=\"../../data/temp_objects/AvrRpt2_alone2.h5\", object.type = 'seurat')"
   ]
  },
  {
   "cell_type": "markdown",
   "id": "6",
   "metadata": {},
   "source": [
    "##### Converting the DC3000 scMultiome object to an intermediate form\n",
    "- DC3000_alone is the scMultiome object for the DC3000 data. \n",
    "- DC3000_alone.h5 is the intermediate form of the scMultiome object before it gets converted to Python."
   ]
  },
  {
   "cell_type": "code",
   "execution_count": null,
   "id": "7",
   "metadata": {
    "vscode": {
     "languageId": "r"
    }
   },
   "outputs": [],
   "source": [
    "scrnaseq_r <- readRDS('../../data/DC3000_alone.rds')"
   ]
  },
  {
   "cell_type": "code",
   "execution_count": null,
   "id": "8",
   "metadata": {
    "vscode": {
     "languageId": "r"
    }
   },
   "outputs": [],
   "source": [
    "DefaultAssay(scrnaseq_r) <- \"RNA\"\n",
    "scrnaseq_r@assays$RNA@key <- \"rna_\"\n",
    "dior::write_h5(scrnaseq_r, file=\"../../data/temp_objects/DC3000_alone.h5\", object.type = 'seurat')"
   ]
  }
 ],
 "metadata": {
  "kernelspec": {
   "display_name": "R",
   "language": "R",
   "name": "ir"
  },
  "language_info": {
   "codemirror_mode": "r",
   "file_extension": ".r",
   "mimetype": "text/x-r-source",
   "name": "R",
   "pygments_lexer": "r",
   "version": "4.0.5"
  }
 },
 "nbformat": 4,
 "nbformat_minor": 5
}
