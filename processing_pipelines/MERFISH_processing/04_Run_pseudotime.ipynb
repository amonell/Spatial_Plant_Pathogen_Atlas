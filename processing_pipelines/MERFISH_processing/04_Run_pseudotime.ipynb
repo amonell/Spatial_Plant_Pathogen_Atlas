{
 "cells": [
  {
   "cell_type": "markdown",
   "id": "8f7a323e",
   "metadata": {},
   "source": [
    "Environment: This script should be run with the `python_plant_pathogen_atlas` environment using the devcontainer `docker_python`"
   ]
  },
  {
   "cell_type": "code",
   "execution_count": null,
   "id": "56079bb2-2a41-46cf-825a-9bfaaefa8b13",
   "metadata": {},
   "outputs": [],
   "source": [
    "import warnings\n",
    "warnings.simplefilter(action='ignore', category=Warning)\n",
    "import os, sys\n",
    "import numpy as np\n",
    "import scanpy as sc\n",
    "import matplotlib.pyplot as plt"
   ]
  },
  {
   "cell_type": "code",
   "execution_count": null,
   "id": "6fbc8977-fa24-4c41-b751-e23760241d30",
   "metadata": {},
   "outputs": [],
   "source": [
    "data_folder = r'../../data'\n",
    "scrna = os.path.join(data_folder, 'temp_objects', 'seq_reference_00.h5ad')"
   ]
  },
  {
   "cell_type": "markdown",
   "id": "2134ae8c",
   "metadata": {},
   "source": [
    "Read in the RNA counts in the snMultiome object"
   ]
  },
  {
   "cell_type": "code",
   "execution_count": null,
   "id": "eff3ac80-dc8e-4159-8d59-6bfbb3fb9f83",
   "metadata": {},
   "outputs": [],
   "source": [
    "adata = sc.read(scrna)\n",
    "\n",
    "adata.obs = adata.obs[[i for i in adata.obs.columns if 'pANN' not in i]]\n",
    "adata.obs = adata.obs[[i for i in adata.obs.columns if 'DF.classifications' not in i]]\n",
    "\n",
    "sc.pl.umap(adata, color=['SCT_snn_res.1', 'BON3', 'celltype'], vmax=1, legend_loc= 'on data')"
   ]
  },
  {
   "cell_type": "markdown",
   "id": "4540e111",
   "metadata": {},
   "source": [
    "Subset to only mesophyll cells and preprocess the RNA counts"
   ]
  },
  {
   "cell_type": "code",
   "execution_count": null,
   "id": "c762312f-36bd-4642-ad2b-84c2738ab111",
   "metadata": {},
   "outputs": [],
   "source": [
    "adata = adata[(adata.obs['celltype'].isin(['Mesophyll']))]\n",
    "adata.obs_names_make_unique()\n",
    "\n",
    "adata.raw=adata\n",
    "\n",
    "sc.pp.recipe_zheng17(adata)\n",
    "\n",
    "sc.tl.pca(adata, random_state=0)\n",
    "sc.pp.neighbors(adata, random_state=0)\n",
    "sc.tl.umap(adata, random_state=0)"
   ]
  },
  {
   "cell_type": "markdown",
   "id": "2f2d1ec5",
   "metadata": {},
   "source": [
    "For each mock cell, set it as the starting cell of a pseudotime trajectory"
   ]
  },
  {
   "cell_type": "code",
   "execution_count": null,
   "id": "a3feeea2",
   "metadata": {},
   "outputs": [],
   "source": [
    "mock_indices = np.where(adata.obs['sample'].isin(['00_Mock_rep1', '00_Mock_rep2']))[0]\n",
    "pseudotimes =[]\n",
    "for idx in mock_indices:\n",
    "    adata.uns['iroot'] = idx\n",
    "    sc.tl.dpt(adata, n_dcs=2)\n",
    "    pseudotime = adata.obs['dpt_pseudotime']\n",
    "    pseudotimes.append(pseudotime)"
   ]
  },
  {
   "cell_type": "markdown",
   "id": "933f49a6",
   "metadata": {},
   "source": [
    "The total pseudotime trajectory is the mean of all of them"
   ]
  },
  {
   "cell_type": "code",
   "execution_count": null,
   "id": "da63ce59",
   "metadata": {},
   "outputs": [],
   "source": [
    "adata.obs['dpt_pseudotime'] = np.mean(np.vstack([i.values for i in pseudotimes]), axis = 0)\n",
    "\n",
    "sc.pl.umap(adata, color='dpt_pseudotime')"
   ]
  },
  {
   "cell_type": "markdown",
   "id": "8e687b3b",
   "metadata": {},
   "source": [
    "Add the pseudotime of the mesophyll cells to the original scRNA object"
   ]
  },
  {
   "cell_type": "code",
   "execution_count": null,
   "id": "3816bb43-6192-4bab-a1f7-98fc6c20c09a",
   "metadata": {},
   "outputs": [],
   "source": [
    "scrna_copy = sc.read(scrna)\n",
    "\n",
    "scrna_copy.obs = scrna_copy.obs[[i for i in scrna_copy.obs.columns if 'pANN' not in i]]\n",
    "scrna_copy.obs = scrna_copy.obs[[i for i in scrna_copy.obs.columns if 'DF.classifications' not in i]]\n",
    "\n",
    "scrna_copy.obs = scrna_copy.obs.merge(adata.obs.dpt_pseudotime, left_index=True, right_index=True, how='left')\n",
    "\n",
    "scrna_copy.write(os.path.join(data_folder, 'temp_objects', 'seq_pseudotime_01.h5ad'))"
   ]
  }
 ],
 "metadata": {
  "colab": {
   "provenance": []
  },
  "kernelspec": {
   "display_name": "Python 3 (ipykernel)",
   "language": "python",
   "name": "python3"
  },
  "language_info": {
   "codemirror_mode": {
    "name": "ipython",
    "version": 3
   },
   "file_extension": ".py",
   "mimetype": "text/x-python",
   "name": "python",
   "nbconvert_exporter": "python",
   "pygments_lexer": "ipython3",
   "version": "3.8.8"
  },
  "vscode": {
   "interpreter": {
    "hash": "fe124d217b65d9b910bfd916d22d0b94d945e22c493cc9ac5dd74797e9713648"
   }
  }
 },
 "nbformat": 4,
 "nbformat_minor": 5
}
