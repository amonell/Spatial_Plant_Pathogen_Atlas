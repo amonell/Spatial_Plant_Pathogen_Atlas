{
 "cells": [
  {
   "cell_type": "markdown",
   "id": "0",
   "metadata": {},
   "source": [
    "Environment: This script should be run with the `python_plant_pathogen_atlas` environment using the devcontainer `docker_python`"
   ]
  },
  {
   "cell_type": "code",
   "execution_count": null,
   "id": "1",
   "metadata": {},
   "outputs": [],
   "source": [
    "import diopy\n",
    "import os\n",
    "import scanpy as sc\n",
    "import numpy as np\n",
    "import pandas as pd\n",
    "import pickle"
   ]
  },
  {
   "cell_type": "code",
   "execution_count": null,
   "id": "2",
   "metadata": {},
   "outputs": [],
   "source": [
    "data_folder = r\"../../data\"\n",
    "output_folder = r\"../../outputs\""
   ]
  },
  {
   "cell_type": "markdown",
   "id": "3",
   "metadata": {},
   "source": [
    "Read in the pseudotime anndata object components and create the anndata object"
   ]
  },
  {
   "cell_type": "code",
   "execution_count": null,
   "id": "4",
   "metadata": {},
   "outputs": [],
   "source": [
    "ad_sp_obs = pd.read_csv(\n",
    "    os.path.join(output_folder, \"adatas\", \"spatial_concatenated_00_obs.csv\")\n",
    ")\n",
    "ad_sp_var = pd.read_csv(\n",
    "    os.path.join(output_folder, \"adatas\", \"spatial_concatenated_00_var.csv\"),\n",
    "    index_col=0,\n",
    ")\n",
    "ad_sp_X = np.load(\n",
    "    os.path.join(output_folder, \"adatas\", \"spatial_concatenated_00_X.npy\")\n",
    ")"
   ]
  },
  {
   "cell_type": "code",
   "execution_count": null,
   "id": "5",
   "metadata": {},
   "outputs": [],
   "source": [
    "# File path where you want to save the object\n",
    "file_path = os.path.join(\n",
    "    os.path.join(output_folder, \"adatas\", \"spatial_concatenated_00_layers.pkl\")\n",
    ")\n",
    "\n",
    "# Dump the object to the file\n",
    "with open(file_path, \"rb\") as file:\n",
    "    ad_sp_layers = pickle.load(file)\n",
    "\n",
    "# File path where you want to save the object\n",
    "file_path = os.path.join(\n",
    "    os.path.join(output_folder, \"adatas\", \"spatial_concatenated_00_obsm.pkl\")\n",
    ")\n",
    "\n",
    "# Dump the object to the file\n",
    "with open(file_path, \"rb\") as file:\n",
    "    ad_sp_obsm = pickle.load(file)\n",
    "\n",
    "# File path where you want to save the object\n",
    "file_path = os.path.join(\n",
    "    os.path.join(output_folder, \"adatas\", \"spatial_concatenated_00_uns.pkl\")\n",
    ")\n",
    "\n",
    "# Dump the object to the file\n",
    "with open(file_path, \"rb\") as file:\n",
    "    ad_sp_uns = pickle.load(file)"
   ]
  },
  {
   "cell_type": "code",
   "execution_count": null,
   "id": "6",
   "metadata": {},
   "outputs": [],
   "source": [
    "ad_sp = sc.AnnData(\n",
    "    X=ad_sp_X,\n",
    "    obs=ad_sp_obs,\n",
    "    var=ad_sp_var,\n",
    "    uns=ad_sp_uns,\n",
    "    layers=ad_sp_layers,\n",
    "    obsm=ad_sp_obsm,\n",
    ")"
   ]
  },
  {
   "cell_type": "markdown",
   "id": "7",
   "metadata": {},
   "source": [
    "Save the recreated anndata object"
   ]
  },
  {
   "cell_type": "code",
   "execution_count": null,
   "id": "8",
   "metadata": {},
   "outputs": [],
   "source": [
    "ad_sp.write(os.path.join(output_folder, \"adatas\", \"spatial_concatenated_00.h5ad\"))"
   ]
  },
  {
   "cell_type": "markdown",
   "id": "9",
   "metadata": {},
   "source": [
    "Save the spatial concatenated object to R. Delete the obsm feature because of a diopy error, it is not necessary in the next part. "
   ]
  },
  {
   "cell_type": "code",
   "execution_count": null,
   "id": "10",
   "metadata": {},
   "outputs": [],
   "source": [
    "del ad_sp.obsm\n",
    "diopy.output.write_h5(\n",
    "    ad_sp,\n",
    "    file=os.path.join(output_folder, \"adatas\", \"spatial_concatenated_01_for_R.h5\"),\n",
    ")"
   ]
  }
 ],
 "metadata": {
  "kernelspec": {
   "display_name": "Python 3 (ipykernel)",
   "language": "python",
   "name": "python3"
  },
  "language_info": {
   "codemirror_mode": {
    "name": "ipython",
    "version": 3
   },
   "file_extension": ".py",
   "mimetype": "text/x-python",
   "name": "python",
   "nbconvert_exporter": "python",
   "pygments_lexer": "ipython3",
   "version": "3.8.8"
  }
 },
 "nbformat": 4,
 "nbformat_minor": 5
}
