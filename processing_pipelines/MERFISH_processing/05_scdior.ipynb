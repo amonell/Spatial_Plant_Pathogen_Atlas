{
 "cells": [
  {
   "cell_type": "markdown",
   "id": "fdc59e2c",
   "metadata": {},
   "source": [
    "Environment: This script should be run with the `python_plant_pathogen_atlas` environment using the devcontainer `docker_python`"
   ]
  },
  {
   "cell_type": "code",
   "execution_count": null,
   "id": "08b58180-33d3-4062-9b3d-dc715551aaf3",
   "metadata": {},
   "outputs": [],
   "source": [
    "import diopy\n",
    "import os\n",
    "import scanpy as sc\n",
    "import numpy as np\n",
    "import pandas as pd\n",
    "import pickle"
   ]
  },
  {
   "cell_type": "code",
   "execution_count": null,
   "id": "195a5158",
   "metadata": {},
   "outputs": [],
   "source": [
    "data_folder = r'../../data'\n",
    "output_folder = r'../../outputs'"
   ]
  },
  {
   "cell_type": "markdown",
   "id": "065db9b4",
   "metadata": {},
   "source": [
    "Read in the pseudotime anndata object components and create the anndata object"
   ]
  },
  {
   "cell_type": "code",
   "execution_count": null,
   "id": "577c3577",
   "metadata": {},
   "outputs": [],
   "source": [
    "ad_sp_obs = pd.read_csv(os.path.join(output_folder, 'adatas', 'spatial_concatenated_00_obs.csv'))\n",
    "ad_sp_var = pd.read_csv(os.path.join(output_folder, 'adatas', 'spatial_concatenated_00_var.csv'), index_col=0)\n",
    "ad_sp_X = np.load(os.path.join(output_folder, 'adatas', 'spatial_concatenated_00_X.npy'))"
   ]
  },
  {
   "cell_type": "code",
   "execution_count": null,
   "id": "fa986cdd",
   "metadata": {},
   "outputs": [],
   "source": [
    "# File path where you want to save the object\n",
    "file_path = os.path.join(os.path.join(output_folder, 'adatas', 'spatial_concatenated_00_layers.pkl'))\n",
    "\n",
    "# Dump the object to the file\n",
    "with open(file_path, \"rb\") as file:\n",
    "    ad_sp_layers =pickle.load(file)\n",
    "\n",
    "# File path where you want to save the object\n",
    "file_path = os.path.join(os.path.join(output_folder, 'adatas', 'spatial_concatenated_00_obsm.pkl'))\n",
    "\n",
    "# Dump the object to the file\n",
    "with open(file_path, \"rb\") as file:\n",
    "    ad_sp_obsm =pickle.load(file)\n",
    "\n",
    "# File path where you want to save the object\n",
    "file_path = os.path.join(os.path.join(output_folder, 'adatas', 'spatial_concatenated_00_uns.pkl'))\n",
    "\n",
    "# Dump the object to the file\n",
    "with open(file_path, \"rb\") as file:\n",
    "    ad_sp_uns =pickle.load(file)\n"
   ]
  },
  {
   "cell_type": "code",
   "execution_count": null,
   "id": "b6c3598d",
   "metadata": {},
   "outputs": [],
   "source": [
    "ad_sp = sc.AnnData(X = ad_sp_X, obs = ad_sp_obs, var = ad_sp_var, uns = ad_sp_uns, layers = ad_sp_layers, obsm = ad_sp_obsm)"
   ]
  },
  {
   "cell_type": "markdown",
   "id": "e3233bf6",
   "metadata": {},
   "source": [
    "Save the recreated anndata object"
   ]
  },
  {
   "cell_type": "code",
   "execution_count": null,
   "id": "e84d8f68-365c-4101-b033-f0e7011cec5f",
   "metadata": {},
   "outputs": [],
   "source": [
    "ad_sp.write(os.path.join(output_folder, 'adatas', 'spatial_concatenated_00.h5ad'))"
   ]
  },
  {
   "cell_type": "markdown",
   "id": "2c4ba376",
   "metadata": {},
   "source": [
    "Save the spatial concatenated object to R. Delete the obsm feature because of a diopy error, it is not necessary in the next part. "
   ]
  },
  {
   "cell_type": "code",
   "execution_count": null,
   "id": "8a13c830-636b-41e9-8632-9f9007811a2b",
   "metadata": {},
   "outputs": [],
   "source": [
    "del ad_sp.obsm\n",
    "diopy.output.write_h5(ad_sp, file = os.path.join(output_folder, 'adatas', 'spatial_concatenated_01_for_R.h5'))"
   ]
  }
 ],
 "metadata": {
  "kernelspec": {
   "display_name": "Python 3 (ipykernel)",
   "language": "python",
   "name": "python3"
  },
  "language_info": {
   "codemirror_mode": {
    "name": "ipython",
    "version": 3
   },
   "file_extension": ".py",
   "mimetype": "text/x-python",
   "name": "python",
   "nbconvert_exporter": "python",
   "pygments_lexer": "ipython3",
   "version": "3.8.8"
  }
 },
 "nbformat": 4,
 "nbformat_minor": 5
}
