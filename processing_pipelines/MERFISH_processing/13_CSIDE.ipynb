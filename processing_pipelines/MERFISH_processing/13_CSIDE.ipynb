{
 "cells": [
  {
   "cell_type": "markdown",
   "id": "0",
   "metadata": {},
   "source": [
    "Environment: This script should be run with the `r_environment_pathogen_atlas` environment using the devcontainer `devcontainer_R` "
   ]
  },
  {
   "cell_type": "code",
   "execution_count": null,
   "id": "1",
   "metadata": {
    "vscode": {
     "languageId": "r"
    }
   },
   "outputs": [],
   "source": [
    "library(spacexr)\n",
    "library(Matrix)\n",
    "library(doParallel)\n",
    "library(ggplot2)\n",
    "library(RcppZiggurat)"
   ]
  },
  {
   "cell_type": "code",
   "execution_count": null,
   "id": "2",
   "metadata": {
    "vscode": {
     "languageId": "r"
    }
   },
   "outputs": [],
   "source": [
    "data_folder <- '../../data'\n",
    "outputs_folder <- '../../outputs'"
   ]
  },
  {
   "cell_type": "code",
   "execution_count": null,
   "id": "3",
   "metadata": {
    "vscode": {
     "languageId": "r"
    }
   },
   "outputs": [],
   "source": [
    "datadir <- file.path(data_folder, 'cside_preparations', '9hr_avr')\n",
    "### mk directory for outputs\n",
    "if (!dir.exists(file.path(outputs_folder, 'CSIDE_outputs'))) {\n",
    "  dir.create(file.path(outputs_folder, 'CSIDE_outputs'))\n",
    "}\n",
    "savedir <- file.path(outputs_folder, 'CSIDE_outputs', 'RCTD_results_9hr')\n",
    "\n",
    "dir.create(savedir)"
   ]
  },
  {
   "cell_type": "markdown",
   "id": "4",
   "metadata": {},
   "source": [
    "Preparing RCTD deconvolution"
   ]
  },
  {
   "cell_type": "code",
   "execution_count": null,
   "id": "5",
   "metadata": {
    "vscode": {
     "languageId": "r"
    }
   },
   "outputs": [],
   "source": [
    "\n",
    "counts <- read.csv(file.path(datadir,\"counts.csv\")) # load in counts matrix\n",
    "coords <- read.csv(file.path(datadir,\"coords.csv\"))\n",
    "rownames(counts) <- counts[,1]; counts[,1] <- NULL # Move first column to rownames\n",
    "rownames(coords) <- coords$barcodes; coords$barcodes <- NULL # Move barcodes to rownames\n",
    "nUMI <- colSums(counts) # In this case, total counts per pixel is nUMI\n",
    "puck <- SpatialRNA(coords, counts, nUMI)\n",
    "barcodes <- colnames(puck@counts) # pixels to be used (a list of barcode names). \n",
    "plot_puck_continuous(puck, barcodes, puck@nUMI, ylimit = c(0,round(quantile(puck@nUMI,0.9))), \n",
    "                   title ='plot of nUMI') \n",
    "\n",
    "refdir <- file.path(data_folder, 'cside_preparations', 'scrna')\n",
    "counts <- read.csv(file.path(refdir,\"dge.csv\")) # load in counts matrix\n",
    "rownames(counts) <- counts[,1]; counts[,1] <- NULL # Move first column to rownames\n",
    "meta_data <- read.csv(file.path(refdir,\"meta_data.csv\")) # load in meta_data (barcodes, clusters, and nUMI)\n",
    "cell_types <- meta_data$cluster; names(cell_types) <- meta_data$barcode # create cell_types named list\n",
    "cell_types <- as.factor(cell_types) # convert to factor data type\n",
    "nUMI <- meta_data$nUMI; names(nUMI) <- meta_data$barcode # create nUMI named list\n",
    "reference <- Reference(counts, cell_types, nUMI, min_UMI = 15)\n",
    "myRCTD <- create.RCTD(puck, reference, max_cores = 16, gene_cutoff = 0.0001, gene_cutoff_reg = 0.0001, fc_cutoff = -3, fc_cutoff_reg = -3)\n",
    "myRCTD <- run.RCTD(myRCTD, doublet_mode = 'doublet')\n",
    "saveRDS(myRCTD,file.path(savedir,'myRCTD.rds'))\n"
   ]
  },
  {
   "cell_type": "code",
   "execution_count": null,
   "id": "6",
   "metadata": {
    "vscode": {
     "languageId": "r"
    }
   },
   "outputs": [],
   "source": [
    "t_var <- read.csv(file.path(datadir,\"axis.csv\"))\n",
    "t_var <-setNames(t_var$Smoothed, t_var$X)"
   ]
  },
  {
   "cell_type": "markdown",
   "id": "7",
   "metadata": {},
   "source": [
    "Plotting the explanatory variable"
   ]
  },
  {
   "cell_type": "code",
   "execution_count": null,
   "id": "8",
   "metadata": {
    "vscode": {
     "languageId": "r"
    }
   },
   "outputs": [],
   "source": [
    "### Create SpatialRNA object\n",
    "myRCTD <- readRDS(file.path(savedir,'myRCTD.rds'))\n",
    "set.seed(12345)\n",
    "explanatory.variable <- t_var\n",
    "print(head(explanatory.variable))\n",
    "\n",
    "plot_puck_continuous(myRCTD@spatialRNA, names(explanatory.variable), explanatory.variable, ylimit = c(0, 1), title ='plot of explanatory variable') "
   ]
  },
  {
   "cell_type": "markdown",
   "id": "9",
   "metadata": {},
   "source": [
    "Running C-SIDE differential expression"
   ]
  },
  {
   "cell_type": "code",
   "execution_count": null,
   "id": "10",
   "metadata": {
    "vscode": {
     "languageId": "r"
    }
   },
   "outputs": [],
   "source": [
    "#de\n",
    "myRCTD@config$max_cores <- 16\n",
    "myRCTD <- run.CSIDE.single(myRCTD, explanatory.variable, \n",
    "                        cell_type_threshold = 0) \n",
    "\n",
    "saveRDS(myRCTD,file.path(savedir,'myRCTDde.rds'))"
   ]
  },
  {
   "cell_type": "markdown",
   "id": "11",
   "metadata": {},
   "source": [
    "Plotting mesophyll results"
   ]
  },
  {
   "cell_type": "code",
   "execution_count": null,
   "id": "12",
   "metadata": {
    "vscode": {
     "languageId": "r"
    }
   },
   "outputs": [],
   "source": [
    "#print results for cell type Mesophyll ('2')\n",
    "cell_type <- '2'\n",
    "results_de <- myRCTD@de_results$sig_gene_list[[cell_type]]\n",
    "print(results_de)"
   ]
  },
  {
   "cell_type": "markdown",
   "id": "13",
   "metadata": {},
   "source": [
    "Saving object and plots"
   ]
  },
  {
   "cell_type": "code",
   "execution_count": null,
   "id": "14",
   "metadata": {
    "vscode": {
     "languageId": "r"
    }
   },
   "outputs": [],
   "source": [
    "myRCTD <- readRDS(file.path(savedir,'myRCTDde.rds'))\n",
    "#plot_gene_two_regions(myRCTD, sig_gene, cell_type)"
   ]
  },
  {
   "cell_type": "code",
   "execution_count": null,
   "id": "15",
   "metadata": {
    "vscode": {
     "languageId": "r"
    }
   },
   "outputs": [],
   "source": [
    "make_all_de_plots(myRCTD, savedir)"
   ]
  }
 ],
 "metadata": {
  "kernelspec": {
   "display_name": "R",
   "language": "R",
   "name": "ir"
  },
  "language_info": {
   "codemirror_mode": "r",
   "file_extension": ".r",
   "mimetype": "text/x-r-source",
   "name": "R",
   "pygments_lexer": "r",
   "version": "4.0.5"
  }
 },
 "nbformat": 4,
 "nbformat_minor": 5
}
