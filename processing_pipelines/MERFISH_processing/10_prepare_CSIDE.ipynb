{
 "cells": [
  {
   "cell_type": "code",
   "execution_count": null,
   "id": "caa4e86a-36fa-4f9e-b93e-4f4e2b529960",
   "metadata": {},
   "outputs": [],
   "source": [
    "import scanpy as sc\n",
    "import numpy as np\n",
    "from tqdm.notebook import tqdm\n",
    "import os\n",
    "import pandas as pd\n",
    "\n",
    "from scipy.spatial import cKDTree\n",
    "from scipy.stats import gaussian_kde"
   ]
  },
  {
   "cell_type": "code",
   "execution_count": null,
   "id": "73d02768-1c2b-4d74-877b-95442f5e9842",
   "metadata": {},
   "outputs": [],
   "source": [
    "data_folder = '../../data'"
   ]
  },
  {
   "cell_type": "code",
   "execution_count": null,
   "metadata": {},
   "outputs": [],
   "source": [
    "ad_list = []\n",
    "for adata_name in ['mock', '4hr_avr', '6hr_avr', '9hr_avr', 'avrrpt24']:\n",
    "    ad_sp_only = sc.read(os.path.join(data_folder, 'integration', adata_name, 'spatial_data.h5ad'))\n",
    "    ad_list.append(ad_sp_only)\n",
    "ad_sp = sc.concat(ad_list)"
   ]
  },
  {
   "cell_type": "code",
   "execution_count": null,
   "metadata": {},
   "outputs": [],
   "source": [
    "ad_sp.X = ad_sp.layers['counts']"
   ]
  },
  {
   "cell_type": "code",
   "execution_count": null,
   "id": "438640b4-967b-4c35-b6f2-01c3a86b61e9",
   "metadata": {
    "scrolled": true
   },
   "outputs": [],
   "source": [
    "batches = np.unique(ad_sp.obs['batch'])\n",
    "adata_list = []\n",
    "for batch in batches:\n",
    "    experiment = ad_sp[ad_sp.obs['batch']==batch, :]\n",
    "    experiment.X = experiment.layers['counts']\n",
    "    experiment.obs.index = batch + experiment.obs.index \n",
    "    experiment.obsm['X_spatial'] = experiment.obs[['x', 'y']].values\n",
    "    adata_list.append(experiment.copy())"
   ]
  },
  {
   "cell_type": "code",
   "execution_count": null,
   "id": "d6c4eb85-a600-4347-8f5d-50337663ce32",
   "metadata": {},
   "outputs": [],
   "source": [
    "for a in adata_list:\n",
    "    sc.pl.embedding(a, basis = 'spatial', color='celltype')"
   ]
  },
  {
   "cell_type": "code",
   "execution_count": null,
   "id": "a400b505-3ddd-4a9c-b88c-85a19d96363a",
   "metadata": {},
   "outputs": [],
   "source": [
    "try:\n",
    "    os.mkdir(os.path.join(data_folder, 'cside_preparations'))\n",
    "except:\n",
    "    print('Folder already made')"
   ]
  },
  {
   "cell_type": "code",
   "execution_count": null,
   "id": "e09fbe50-c607-4450-b967-feefc7dedd2f",
   "metadata": {},
   "outputs": [],
   "source": [
    "gene_symbols = pd.read_csv(os.path.join(data_folder, 'useful_files', 'geneID_to_geneName_MERSCOPE_panel1.txt'), sep='\\t', index_col=0)\n",
    "for k in range(len(adata_list)):\n",
    "    adata = adata_list[k]\n",
    "    adata.obs.index=adata.obs.index.str.replace('-', '_')\n",
    "    if adata.obs.index.values[0][0].isnumeric():\n",
    "        adata.obs.index= 'X'+np.array(adata.obs.index.values)\n",
    "    filename = adata.obs.batch.values[0]\n",
    "    try:\n",
    "        os.mkdir(os.path.join(data_folder, 'cside_preparations', filename))\n",
    "    except:\n",
    "         print('Folder already made')\n",
    "    # convert array into dataframe\n",
    "    DF = pd.DataFrame(adata.X.A.T.astype(int), index=adata.var.index.values, columns=adata.obs.index.values)\n",
    "     \n",
    "    # save the dataframe as a csv file\n",
    "    DF.to_csv(os.path.join(data_folder, 'cside_preparations', filename, 'counts.csv'))\n",
    "\n",
    "    coords = pd.DataFrame(zip(adata.obs.index.values, adata.obs.x.values, adata.obs.y.values), columns=['barcodes', 'xcoord', 'ycoord'])\n",
    "    coords.to_csv(os.path.join(data_folder, 'cside_preparations', filename, 'coords.csv'), index=None)"
   ]
  },
  {
   "cell_type": "code",
   "execution_count": null,
   "id": "2eb9d7b2-900f-4334-8b61-2013ec282c64",
   "metadata": {},
   "outputs": [],
   "source": [
    "\n",
    "\n",
    "for k in range(len(adata_list)):\n",
    "    adata = adata_list[k]\n",
    "    adata.obs.index=adata.obs.index.str.replace('-', '_')\n",
    "    if adata.obs.index.values[0][0].isnumeric():\n",
    "        adata.obs.index= 'X'+np.array(adata.obs.index.values)\n",
    "\n",
    "    # Sample data - Replace this with your data\n",
    "    points = adata.obsm['X_spatial']\n",
    "    values = adata.obs['pseudotime']\n",
    "    categories = adata.obs['celltype']\n",
    "    \n",
    "    # Convert categories to a NumPy array for indexing\n",
    "    categories = np.array(categories)\n",
    "    \n",
    "    # Create a KD-tree for efficient nearest neighbor search\n",
    "    tree = cKDTree(points)\n",
    "    \n",
    "    # Define the number of nearest neighbors to consider\n",
    "    n_neighbors = 50  # Change this value as needed\n",
    "    \n",
    "    # Function to calculate the smoothed value for each point\n",
    "    def smooth_point(point_index):\n",
    "        # Find the indices of the N nearest neighbors\n",
    "        nearest_indices = tree.query(points[point_index], k=n_neighbors)[1]\n",
    "        \n",
    "        # Filter neighbors that belong to the 'Mesophyll' category\n",
    "        mesophyll_neighbors = [i for i in nearest_indices if categories[i] == 'Mesophyll']\n",
    "    \n",
    "        # Calculate the weighted average of 'Mesophyll' values\n",
    "        if mesophyll_neighbors:\n",
    "            smoothed_value = np.mean(values[mesophyll_neighbors])\n",
    "        else:\n",
    "            # If no 'Mesophyll' neighbors are found, keep the original value\n",
    "            smoothed_value = values[point_index]\n",
    "    \n",
    "        return smoothed_value\n",
    "    \n",
    "    # Apply the smoothing function to each point\n",
    "    smoothed_values = [smooth_point(i) for i in range(len(points))]\n",
    "    adata.obs['smoothed_pseudo'] = smoothed_values\n",
    "\n",
    "    try:\n",
    "        os.mkdir(os.path.join(data_folder, 'final_spatial_objects'))\n",
    "    except:\n",
    "        print('Folder already made')\n",
    "\n",
    "\n",
    "    sc.pl.embedding(adata, basis='spatial', color='smoothed_pseudo', vmax=1, cmap='jet', vmin=0.3)\n",
    "\n",
    "\n",
    "    filename = adata.obs.batch.values[0]\n",
    "\n",
    "    adata.write(os.path.join(data_folder, 'final_spatial_objects', f'{filename}.h5ad'))\n",
    "\n",
    "    pd.DataFrame(adata.obs.smoothed_pseudo.values, index=adata.obs.index.values, columns=['Smoothed']).to_csv(os.path.join(data_folder, 'cside_preparations', filename, 'axis.csv'))\n"
   ]
  },
  {
   "cell_type": "markdown",
   "id": "c949a234-261a-42fc-89f1-05bdc5260abd",
   "metadata": {},
   "source": [
    "## Writing scrnaseq mat"
   ]
  },
  {
   "cell_type": "code",
   "execution_count": null,
   "metadata": {},
   "outputs": [],
   "source": [
    "adata = sc.read(os.path.join(data_folder, 'temp_objects', 'seq_reference_00.h5ad'))"
   ]
  },
  {
   "cell_type": "code",
   "execution_count": null,
   "id": "20f98f70-07e8-4f0e-95ea-4462dd0eb1cc",
   "metadata": {},
   "outputs": [],
   "source": [
    "adata.obs.index=adata.obs.index.str.replace('-', '_')"
   ]
  },
  {
   "cell_type": "code",
   "execution_count": null,
   "metadata": {},
   "outputs": [],
   "source": [
    "adata = adata[adata.obs['celltype'].isin(['vasculature', 'epidermis', 'mesophyll', 'Vasculature', 'Epidermis', 'Mesophyll'])]"
   ]
  },
  {
   "cell_type": "code",
   "execution_count": null,
   "metadata": {},
   "outputs": [],
   "source": [
    "ctype_map = {'Vasculature':0, 'Epidermis':1, 'Mesophyll':2, 'Undifferentiated':3, 'vasculature':0, 'epidermis':1, 'mesophyll':2, 'undifferentiated':3}\n",
    "adata.obs['celltype_codes'] = [ctype_map.get(i) for i in adata.obs.celltype.values]\n",
    "adata = adata[~pd.isna(adata.obs['celltype_codes'])]"
   ]
  },
  {
   "cell_type": "code",
   "execution_count": null,
   "metadata": {},
   "outputs": [],
   "source": [
    "adata = adata[adata.obs['sample.order'].isin(['02_AvrRpt2_09h_rep2', '02_AvrRpt2_09h_rep1'])]"
   ]
  },
  {
   "cell_type": "code",
   "execution_count": null,
   "id": "824a5d80-d626-4f88-931c-3f4a8f6658c6",
   "metadata": {},
   "outputs": [],
   "source": [
    "filename = 'scrna'\n",
    "adata.obs.index = filename + adata.obs.index\n",
    "try:\n",
    "    os.mkdir(os.path.join(data_folder, 'cside_preparations', filename))\n",
    "except:\n",
    "     print('Folder already made')\n",
    "# convert array into dataframe\n",
    "DF = pd.DataFrame(adata.X.A.T, index=adata.var.index.values, columns=adata.obs.index.values)\n",
    " \n",
    "# save the dataframe as a csv file\n",
    "DF.to_csv(os.path.join(data_folder, 'cside_preparations', filename, 'dge.csv'))\n"
   ]
  },
  {
   "cell_type": "code",
   "execution_count": null,
   "id": "e89c0c79-a65e-4c75-a069-91fc69202fe1",
   "metadata": {},
   "outputs": [],
   "source": [
    "sc.pl.umap(adata, color='celltype_codes', legend_loc='on data')"
   ]
  },
  {
   "cell_type": "code",
   "execution_count": null,
   "id": "0b2c7e7b-ea1f-4532-8a81-abf89ea15c9f",
   "metadata": {},
   "outputs": [],
   "source": [
    "metadata = pd.DataFrame(zip(adata.obs.index.values, adata.obs.celltype_codes.values, np.array(np.sum(np.array(adata.X.A), axis=1)).flatten()), columns=['barcode', 'cluster', 'nUMI'])"
   ]
  },
  {
   "cell_type": "code",
   "execution_count": null,
   "id": "aa094360-1efb-4947-8f5e-2884b521a092",
   "metadata": {},
   "outputs": [],
   "source": [
    "metadata.to_csv(os.path.join(data_folder, 'cside_preparations', filename, 'meta_data.csv'))"
   ]
  }
 ],
 "metadata": {
  "kernelspec": {
   "display_name": "scdior",
   "language": "python",
   "name": "python3"
  },
  "language_info": {
   "codemirror_mode": {
    "name": "ipython",
    "version": 3
   },
   "file_extension": ".py",
   "mimetype": "text/x-python",
   "name": "python",
   "nbconvert_exporter": "python",
   "pygments_lexer": "ipython3",
   "version": "3.8.8"
  }
 },
 "nbformat": 4,
 "nbformat_minor": 5
}
