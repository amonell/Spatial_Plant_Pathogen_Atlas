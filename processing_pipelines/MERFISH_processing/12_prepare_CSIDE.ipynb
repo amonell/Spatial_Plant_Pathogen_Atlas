{
 "cells": [
  {
   "cell_type": "markdown",
   "id": "0",
   "metadata": {},
   "source": [
    "Environment: This script should be run with the `python_scvi_environment` environment using the devcontainer `docker_python_scvi`"
   ]
  },
  {
   "cell_type": "code",
   "execution_count": null,
   "id": "1",
   "metadata": {},
   "outputs": [],
   "source": [
    "import scanpy as sc\n",
    "import numpy as np\n",
    "from tqdm.notebook import tqdm\n",
    "import os\n",
    "import pandas as pd\n",
    "\n",
    "from scipy.spatial import cKDTree\n",
    "from scipy.stats import gaussian_kde"
   ]
  },
  {
   "cell_type": "code",
   "execution_count": null,
   "id": "2",
   "metadata": {},
   "outputs": [],
   "source": [
    "data_folder = \"../../data\""
   ]
  },
  {
   "cell_type": "markdown",
   "id": "3",
   "metadata": {},
   "source": [
    "Read in all the spatial datasets and concatenate them"
   ]
  },
  {
   "cell_type": "code",
   "execution_count": null,
   "id": "4",
   "metadata": {},
   "outputs": [],
   "source": [
    "ad_list = []\n",
    "for adata_name in [\"mock\", \"4hr_avr\", \"6hr_avr\", \"9hr_avr\", \"avrrpt24\"]:\n",
    "    ad_sp_only = sc.read(\n",
    "        os.path.join(data_folder, \"integration\", adata_name, \"spatial_data.h5ad\")\n",
    "    )\n",
    "    ad_list.append(ad_sp_only)\n",
    "ad_sp = sc.concat(ad_list)\n",
    "\n",
    "ad_sp.X = ad_sp.layers[\"counts\"]"
   ]
  },
  {
   "cell_type": "markdown",
   "id": "5",
   "metadata": {},
   "source": [
    "Edit the spatial datasets to be in correct formats for C-SIDE"
   ]
  },
  {
   "cell_type": "code",
   "execution_count": null,
   "id": "6",
   "metadata": {},
   "outputs": [],
   "source": [
    "batches = np.unique(ad_sp.obs[\"batch\"])\n",
    "adata_list = []\n",
    "for batch in batches:\n",
    "    experiment = ad_sp[ad_sp.obs[\"batch\"] == batch, :]\n",
    "    experiment.X = experiment.layers[\"counts\"]\n",
    "    experiment.obs.index = batch + experiment.obs.index\n",
    "    experiment.obsm[\"X_spatial\"] = experiment.obs[[\"x\", \"y\"]].values\n",
    "    adata_list.append(experiment.copy())"
   ]
  },
  {
   "cell_type": "markdown",
   "id": "7",
   "metadata": {},
   "source": [
    "Plot embeddings"
   ]
  },
  {
   "cell_type": "code",
   "execution_count": null,
   "id": "8",
   "metadata": {},
   "outputs": [],
   "source": [
    "for a in adata_list:\n",
    "    sc.pl.embedding(a, basis=\"spatial\", color=\"celltype\")"
   ]
  },
  {
   "cell_type": "markdown",
   "id": "9",
   "metadata": {},
   "source": [
    "Save out C-SIDE preparation files"
   ]
  },
  {
   "cell_type": "code",
   "execution_count": null,
   "id": "10",
   "metadata": {},
   "outputs": [],
   "source": [
    "try:\n",
    "    os.mkdir(os.path.join(data_folder, \"cside_preparations\"))\n",
    "except:\n",
    "    print(\"Folder already made\")"
   ]
  },
  {
   "cell_type": "code",
   "execution_count": null,
   "id": "11",
   "metadata": {},
   "outputs": [],
   "source": [
    "# loading in gene symbol to ID conversions\n",
    "gene_symbols = pd.read_csv(\n",
    "    os.path.join(data_folder, \"useful_files\", \"geneID_to_geneName_MERSCOPE_panel1.txt\"),\n",
    "    sep=\"\\t\",\n",
    "    index_col=0,\n",
    ")\n",
    "\n",
    "for k in range(len(adata_list)):\n",
    "    adata = adata_list[k]\n",
    "    adata.obs.index = adata.obs.index.str.replace(\"-\", \"_\")\n",
    "    # fix numeric indices\n",
    "    if adata.obs.index.values[0][0].isnumeric():\n",
    "        adata.obs.index = \"X\" + np.array(adata.obs.index.values)\n",
    "    filename = adata.obs.batch.values[0]\n",
    "    try:\n",
    "        os.mkdir(os.path.join(data_folder, \"cside_preparations\", filename))\n",
    "    except:\n",
    "        print(\"Folder already made\")\n",
    "\n",
    "    # convert array into dataframe\n",
    "    DF = pd.DataFrame(\n",
    "        adata.X.A.T.astype(int),\n",
    "        index=adata.var.index.values,\n",
    "        columns=adata.obs.index.values,\n",
    "    )\n",
    "\n",
    "    # save the dataframe as a csv file\n",
    "    DF.to_csv(os.path.join(data_folder, \"cside_preparations\", filename, \"counts.csv\"))\n",
    "\n",
    "    coords = pd.DataFrame(\n",
    "        zip(adata.obs.index.values, adata.obs.x.values, adata.obs.y.values),\n",
    "        columns=[\"barcodes\", \"xcoord\", \"ycoord\"],\n",
    "    )\n",
    "    coords.to_csv(\n",
    "        os.path.join(data_folder, \"cside_preparations\", filename, \"coords.csv\"),\n",
    "        index=None,\n",
    "    )"
   ]
  },
  {
   "cell_type": "code",
   "execution_count": null,
   "id": "12",
   "metadata": {},
   "outputs": [],
   "source": [
    "for k in range(len(adata_list)):\n",
    "    adata = adata_list[k]\n",
    "    adata.obs.index = adata.obs.index.str.replace(\"-\", \"_\")\n",
    "    if adata.obs.index.values[0][0].isnumeric():\n",
    "        adata.obs.index = \"X\" + np.array(adata.obs.index.values)\n",
    "\n",
    "    # Sample data - Replace this with your data\n",
    "    points = adata.obsm[\"X_spatial\"]\n",
    "    values = adata.obs[\"pseudotime\"]\n",
    "    categories = adata.obs[\"celltype\"]\n",
    "\n",
    "    # Convert categories to a NumPy array for indexing\n",
    "    categories = np.array(categories)\n",
    "\n",
    "    # Create a KD-tree for efficient nearest neighbor search\n",
    "    tree = cKDTree(points)\n",
    "\n",
    "    # Define the number of nearest neighbors to consider\n",
    "    n_neighbors = 50  # Change this value as needed\n",
    "\n",
    "    # Function to calculate the smoothed value for each point\n",
    "    def smooth_point(point_index):\n",
    "        # Find the indices of the N nearest neighbors\n",
    "        nearest_indices = tree.query(points[point_index], k=n_neighbors)[1]\n",
    "\n",
    "        # Filter neighbors that belong to the 'Mesophyll' category\n",
    "        mesophyll_neighbors = [\n",
    "            i for i in nearest_indices if categories[i] == \"Mesophyll\"\n",
    "        ]\n",
    "\n",
    "        # Calculate the weighted average of 'Mesophyll' values\n",
    "        if mesophyll_neighbors:\n",
    "            smoothed_value = np.mean(values[mesophyll_neighbors])\n",
    "        else:\n",
    "            # If no 'Mesophyll' neighbors are found, keep the original value\n",
    "            smoothed_value = values[point_index]\n",
    "\n",
    "        return smoothed_value\n",
    "\n",
    "    # Apply the smoothing function to each point\n",
    "    smoothed_values = [smooth_point(i) for i in range(len(points))]\n",
    "    adata.obs[\"smoothed_pseudo\"] = smoothed_values\n",
    "\n",
    "    try:\n",
    "        os.mkdir(os.path.join(data_folder, \"final_spatial_objects\"))\n",
    "    except:\n",
    "        print(\"Folder already made\")\n",
    "\n",
    "    sc.pl.embedding(\n",
    "        adata, basis=\"spatial\", color=\"smoothed_pseudo\", vmax=1, cmap=\"jet\", vmin=0.3\n",
    "    )\n",
    "\n",
    "    filename = adata.obs.batch.values[0]\n",
    "\n",
    "    adata.write(os.path.join(data_folder, \"final_spatial_objects\", f\"{filename}.h5ad\"))\n",
    "\n",
    "    pd.DataFrame(\n",
    "        adata.obs.smoothed_pseudo.values,\n",
    "        index=adata.obs.index.values,\n",
    "        columns=[\"Smoothed\"],\n",
    "    ).to_csv(os.path.join(data_folder, \"cside_preparations\", filename, \"axis.csv\"))"
   ]
  },
  {
   "cell_type": "markdown",
   "id": "13",
   "metadata": {},
   "source": [
    "Writing snRNA matrix for C-SIDE deconvolution with RCTD"
   ]
  },
  {
   "cell_type": "code",
   "execution_count": null,
   "id": "14",
   "metadata": {},
   "outputs": [],
   "source": [
    "adata = sc.read(os.path.join(data_folder, \"temp_objects\", \"seq_reference_00.h5ad\"))"
   ]
  },
  {
   "cell_type": "code",
   "execution_count": null,
   "id": "15",
   "metadata": {},
   "outputs": [],
   "source": [
    "adata.obs.index = adata.obs.index.str.replace(\"-\", \"_\")"
   ]
  },
  {
   "cell_type": "code",
   "execution_count": null,
   "id": "16",
   "metadata": {},
   "outputs": [],
   "source": [
    "adata = adata[\n",
    "    adata.obs[\"celltype\"].isin(\n",
    "        [\n",
    "            \"vasculature\",\n",
    "            \"epidermis\",\n",
    "            \"mesophyll\",\n",
    "            \"Vasculature\",\n",
    "            \"Epidermis\",\n",
    "            \"Mesophyll\",\n",
    "        ]\n",
    "    )\n",
    "]"
   ]
  },
  {
   "cell_type": "markdown",
   "id": "17",
   "metadata": {},
   "source": [
    "Map the cell types to numbers"
   ]
  },
  {
   "cell_type": "code",
   "execution_count": null,
   "id": "18",
   "metadata": {},
   "outputs": [],
   "source": [
    "ctype_map = {\n",
    "    \"Vasculature\": 0,\n",
    "    \"Epidermis\": 1,\n",
    "    \"Mesophyll\": 2,\n",
    "    \"Undifferentiated\": 3,\n",
    "    \"vasculature\": 0,\n",
    "    \"epidermis\": 1,\n",
    "    \"mesophyll\": 2,\n",
    "    \"undifferentiated\": 3,\n",
    "}\n",
    "adata.obs[\"celltype_codes\"] = [ctype_map.get(i) for i in adata.obs.celltype.values]\n",
    "adata = adata[~pd.isna(adata.obs[\"celltype_codes\"])]"
   ]
  },
  {
   "cell_type": "markdown",
   "id": "19",
   "metadata": {},
   "source": [
    "Running C-SIDE on the 9hr pi dataset"
   ]
  },
  {
   "cell_type": "code",
   "execution_count": null,
   "id": "20",
   "metadata": {},
   "outputs": [],
   "source": [
    "adata = adata[\n",
    "    adata.obs[\"sample.order\"].isin([\"02_AvrRpt2_09h_rep2\", \"02_AvrRpt2_09h_rep1\"])\n",
    "]"
   ]
  },
  {
   "cell_type": "markdown",
   "id": "21",
   "metadata": {},
   "source": [
    "Saving snRNA C-SIDE preparations"
   ]
  },
  {
   "cell_type": "code",
   "execution_count": null,
   "id": "22",
   "metadata": {},
   "outputs": [],
   "source": [
    "filename = \"scrna\"\n",
    "adata.obs.index = filename + adata.obs.index\n",
    "try:\n",
    "    os.mkdir(os.path.join(data_folder, \"cside_preparations\", filename))\n",
    "except:\n",
    "    print(\"Folder already made\")\n",
    "# convert array into dataframe\n",
    "DF = pd.DataFrame(\n",
    "    adata.X.T, index=adata.var.index.values, columns=adata.obs.index.values\n",
    ")\n",
    "\n",
    "# save the dataframe as a csv file\n",
    "DF.to_csv(os.path.join(data_folder, \"cside_preparations\", filename, \"dge.csv\"))"
   ]
  },
  {
   "cell_type": "code",
   "execution_count": null,
   "id": "23",
   "metadata": {},
   "outputs": [],
   "source": [
    "sc.pl.umap(adata, color=\"celltype_codes\", legend_loc=\"on data\")"
   ]
  },
  {
   "cell_type": "code",
   "execution_count": null,
   "id": "24",
   "metadata": {},
   "outputs": [],
   "source": [
    "metadata = pd.DataFrame(\n",
    "    zip(\n",
    "        adata.obs.index.values,\n",
    "        adata.obs.celltype_codes.values,\n",
    "        np.array(np.sum(np.array(adata.X), axis=1)).flatten(),\n",
    "    ),\n",
    "    columns=[\"barcode\", \"cluster\", \"nUMI\"],\n",
    ")"
   ]
  },
  {
   "cell_type": "code",
   "execution_count": null,
   "id": "25",
   "metadata": {},
   "outputs": [],
   "source": [
    "metadata.to_csv(\n",
    "    os.path.join(data_folder, \"cside_preparations\", filename, \"meta_data.csv\")\n",
    ")"
   ]
  }
 ],
 "metadata": {
  "kernelspec": {
   "display_name": "scdior",
   "language": "python",
   "name": "python3"
  },
  "language_info": {
   "codemirror_mode": {
    "name": "ipython",
    "version": 3
   },
   "file_extension": ".py",
   "mimetype": "text/x-python",
   "name": "python",
   "nbconvert_exporter": "python",
   "pygments_lexer": "ipython3",
   "version": "3.9.18"
  }
 },
 "nbformat": 4,
 "nbformat_minor": 5
}
