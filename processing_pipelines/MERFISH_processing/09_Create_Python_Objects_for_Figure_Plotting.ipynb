{
 "cells": [
  {
   "cell_type": "code",
   "execution_count": 1,
   "id": "2efaa0b3-b7ef-424e-8a2a-5fb4ec95e85e",
   "metadata": {
    "vscode": {
     "languageId": "r"
    }
   },
   "outputs": [
    {
     "name": "stderr",
     "output_type": "stream",
     "text": [
      "Loading required package: SeuratObject\n",
      "\n",
      "Loading required package: sp\n",
      "\n"
     ]
    },
    {
     "name": "stderr",
     "output_type": "stream",
     "text": [
      "\n",
      "Attaching package: ‘SeuratObject’\n",
      "\n",
      "\n",
      "The following object is masked from ‘package:base’:\n",
      "\n",
      "    intersect\n",
      "\n",
      "\n"
     ]
    }
   ],
   "source": [
    "library(Seurat)\n",
    "library(ggplot2)"
   ]
  },
  {
   "cell_type": "code",
   "execution_count": 2,
   "id": "54d3ace5",
   "metadata": {
    "vscode": {
     "languageId": "r"
    }
   },
   "outputs": [],
   "source": [
    "outputs_folder <- '../../outputs'"
   ]
  },
  {
   "cell_type": "code",
   "execution_count": 4,
   "id": "01dedc75-72d7-40b0-99ae-c8664c76bbeb",
   "metadata": {
    "vscode": {
     "languageId": "r"
    }
   },
   "outputs": [],
   "source": [
    "spatial_combined <- readRDS(file.path(outputs_folder, 'adatas', 'combined_spatial_seurat.rds'))"
   ]
  },
  {
   "cell_type": "code",
   "execution_count": 5,
   "id": "6365ffa7-6c80-4d45-bd21-3d1cc6833027",
   "metadata": {
    "vscode": {
     "languageId": "r"
    }
   },
   "outputs": [],
   "source": [
    "dior::write_h5(spatial_combined, file= file.path(outputs_folder, 'adatas', 'combined_spatial_seurat.h5'), object.type = 'seurat')"
   ]
  }
 ],
 "metadata": {
  "kernelspec": {
   "display_name": "R",
   "language": "R",
   "name": "ir"
  },
  "language_info": {
   "codemirror_mode": "r",
   "file_extension": ".r",
   "mimetype": "text/x-r-source",
   "name": "R",
   "pygments_lexer": "r",
   "version": "4.3.1"
  }
 },
 "nbformat": 4,
 "nbformat_minor": 5
}
