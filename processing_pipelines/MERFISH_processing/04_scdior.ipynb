{
 "cells": [
  {
   "cell_type": "code",
   "execution_count": 1,
   "id": "08b58180-33d3-4062-9b3d-dc715551aaf3",
   "metadata": {},
   "outputs": [],
   "source": [
    "import diopy\n",
    "import os\n",
    "import scanpy as sc\n",
    "import numpy as np"
   ]
  },
  {
   "cell_type": "code",
   "execution_count": 2,
   "id": "195a5158",
   "metadata": {},
   "outputs": [],
   "source": [
    "data_folder = r'../../data'\n",
    "output_folder = r'../../outputs'"
   ]
  },
  {
   "cell_type": "code",
   "execution_count": 3,
   "id": "e84d8f68-365c-4101-b033-f0e7011cec5f",
   "metadata": {},
   "outputs": [],
   "source": [
    "ad_sp = sc.read(os.path.join(output_folder, 'adatas', 'spatial_concatenated_00.h5ad'))"
   ]
  },
  {
   "cell_type": "code",
   "execution_count": 5,
   "metadata": {},
   "outputs": [],
   "source": [
    "ad_sc = diopy.input.read_h5(file = os.path.join(data_folder, 'temp_objects', 'AvrRpt2_alone2.h5'))"
   ]
  },
  {
   "cell_type": "code",
   "execution_count": 6,
   "id": "8a13c830-636b-41e9-8632-9f9007811a2b",
   "metadata": {},
   "outputs": [],
   "source": [
    "diopy.output.write_h5(ad_sp, file = os.path.join(output_folder, 'adatas', 'spatial_concatenated_01_for_R.h5'))"
   ]
  },
  {
   "cell_type": "code",
   "execution_count": 8,
   "id": "a523022d-ef7a-40f2-b1b3-16ac7a50b561",
   "metadata": {},
   "outputs": [],
   "source": [
    "diopy.output.write_h5(ad_sc, file = os.path.join(output_folder, 'adatas', 'sequencing_for_R.h5'))"
   ]
  },
  {
   "cell_type": "code",
   "execution_count": null,
   "id": "28ee32ab",
   "metadata": {},
   "outputs": [],
   "source": []
  }
 ],
 "metadata": {
  "kernelspec": {
   "display_name": "Python 3 (ipykernel)",
   "language": "python",
   "name": "python3"
  },
  "language_info": {
   "codemirror_mode": {
    "name": "ipython",
    "version": 3
   },
   "file_extension": ".py",
   "mimetype": "text/x-python",
   "name": "python",
   "nbconvert_exporter": "python",
   "pygments_lexer": "ipython3",
   "version": "3.8.8"
  }
 },
 "nbformat": 4,
 "nbformat_minor": 5
}
