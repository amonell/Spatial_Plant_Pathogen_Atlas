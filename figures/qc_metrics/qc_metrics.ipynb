{
 "cells": [
  {
   "cell_type": "code",
   "execution_count": null,
   "id": "0",
   "metadata": {},
   "outputs": [],
   "source": [
    "import scanpy as sc\n",
    "import os\n",
    "import numpy as np\n",
    "import pandas as pd\n",
    "import sys\n",
    "import matplotlib.pyplot as plt"
   ]
  },
  {
   "cell_type": "code",
   "execution_count": null,
   "id": "1",
   "metadata": {},
   "outputs": [],
   "source": [
    "output_folder = r\"../../outputs\"\n",
    "ad_sp = sc.read(os.path.join(output_folder, \"adatas\", \"combined_spatial_seurat.h5ad\"))"
   ]
  },
  {
   "cell_type": "code",
   "execution_count": null,
   "id": "2",
   "metadata": {},
   "outputs": [],
   "source": [
    "figure_output_folder = \"figures\"\n",
    "try:\n",
    "    os.mkdir(figure_output_folder)\n",
    "except:\n",
    "    pass"
   ]
  },
  {
   "cell_type": "code",
   "execution_count": null,
   "id": "3",
   "metadata": {},
   "outputs": [],
   "source": [
    "unique_batches = np.unique(ad_sp.obs.batch.values)\n",
    "new_batch_names = pd.DataFrame(\n",
    "    zip(\n",
    "        unique_batches,\n",
    "        [\"AvrRpt2 04hr\", \"AvrRpt2 06hr\", \"AvrRpt2 09hr\", \"AvrRpt2 24hr\", \"Mock\"],\n",
    "    )\n",
    ")\n",
    "n_batches = []\n",
    "for i in ad_sp.obs.batch.values:\n",
    "    n_batches.append(new_batch_names[1].values[new_batch_names[0] == i][0])\n",
    "ad_sp.obs[\"batch\"] = pd.Categorical(n_batches)\n",
    "unique_batches = np.unique(ad_sp.obs.batch.values)"
   ]
  },
  {
   "cell_type": "code",
   "execution_count": null,
   "id": "4",
   "metadata": {},
   "outputs": [],
   "source": [
    "ad_sp.obs[\"batch\"] = ad_sp.obs.batch.cat.reorder_categories(\n",
    "    [\"Mock\", \"AvrRpt2 04hr\", \"AvrRpt2 06hr\", \"AvrRpt2 09hr\", \"AvrRpt2 24hr\"],\n",
    "    ordered=True,\n",
    ")"
   ]
  },
  {
   "cell_type": "code",
   "execution_count": null,
   "id": "5",
   "metadata": {},
   "outputs": [],
   "source": [
    "sc.set_figure_params(dpi=300, dpi_save=400)"
   ]
  },
  {
   "cell_type": "markdown",
   "id": "6",
   "metadata": {},
   "source": [
    "## Transcripts per Cell"
   ]
  },
  {
   "cell_type": "code",
   "execution_count": null,
   "id": "7",
   "metadata": {},
   "outputs": [],
   "source": [
    "ax = sc.pl.violin(\n",
    "    ad_sp,\n",
    "    groupby=\"batch\",\n",
    "    keys=[\"n_transcripts\"],\n",
    "    size=0.1,\n",
    "    ylabel=\"Number of Transcripts\",\n",
    "    xlabel=\"Batch\",\n",
    "    show=False,\n",
    "    stripplot=False,\n",
    ")\n",
    "ax.set_title(\"Transcripts per Cell\")\n",
    "ax.grid(False)\n",
    "# Rotate the x-axis tick labels by 45 degrees\n",
    "ax.set_xticklabels(ax.get_xticklabels(), rotation=45)\n",
    "\n",
    "# Optionally, adjust the subplot layout to prevent clipping of labels\n",
    "plt.tight_layout()\n",
    "plt.savefig(os.path.join(figure_output_folder, \"NumTranscripts.pdf\"))\n",
    "plt.show()"
   ]
  },
  {
   "cell_type": "markdown",
   "id": "8",
   "metadata": {},
   "source": [
    "## Cell Area"
   ]
  },
  {
   "cell_type": "code",
   "execution_count": null,
   "id": "9",
   "metadata": {},
   "outputs": [],
   "source": [
    "ax = sc.pl.violin(\n",
    "    ad_sp,\n",
    "    groupby=\"batch\",\n",
    "    keys=[\"area\"],\n",
    "    size=0.1,\n",
    "    ylabel=\"Cell Area (pixels)\",\n",
    "    xlabel=\"Batch\",\n",
    "    show=False,\n",
    "    stripplot=False,\n",
    ")\n",
    "ax.set_title(\"Cell Area\")\n",
    "ax.grid(False)\n",
    "# Rotate the x-axis tick labels by 45 degrees\n",
    "ax.set_xticklabels(ax.get_xticklabels(), rotation=45)\n",
    "\n",
    "# Optionally, adjust the subplot layout to prevent clipping of labels\n",
    "plt.tight_layout()\n",
    "plt.savefig(os.path.join(figure_output_folder, \"CellArea.pdf\"))\n",
    "plt.show()"
   ]
  },
  {
   "cell_type": "markdown",
   "id": "10",
   "metadata": {},
   "source": [
    "## Unique Genes Per Cell"
   ]
  },
  {
   "cell_type": "code",
   "execution_count": null,
   "id": "11",
   "metadata": {},
   "outputs": [],
   "source": [
    "uniq_per_cell = np.unique(np.where(ad_sp.layers[\"counts\"].A > 0)[0], return_counts=True)"
   ]
  },
  {
   "cell_type": "code",
   "execution_count": null,
   "id": "12",
   "metadata": {},
   "outputs": [],
   "source": [
    "ad_sp.obs[\"Unique Genes per Cell\"] = uniq_per_cell[1]"
   ]
  },
  {
   "cell_type": "code",
   "execution_count": null,
   "id": "13",
   "metadata": {},
   "outputs": [],
   "source": [
    "ax = sc.pl.violin(\n",
    "    ad_sp,\n",
    "    groupby=\"batch\",\n",
    "    keys=[\"Unique Genes per Cell\"],\n",
    "    size=0.1,\n",
    "    ylabel=\"Unique Genes\",\n",
    "    xlabel=\"Batch\",\n",
    "    show=False,\n",
    "    stripplot=False,\n",
    ")\n",
    "ax.set_title(\"Unique Genes per Cell\")\n",
    "ax.grid(False)\n",
    "# Rotate the x-axis tick labels by 45 degrees\n",
    "ax.set_xticklabels(ax.get_xticklabels(), rotation=45)\n",
    "\n",
    "# Optionally, adjust the subplot layout to prevent clipping of labels\n",
    "plt.tight_layout()\n",
    "plt.savefig(os.path.join(figure_output_folder, \"UniquePerCell.pdf\"))\n",
    "plt.show()"
   ]
  }
 ],
 "metadata": {
  "kernelspec": {
   "display_name": "Python 3 (ipykernel)",
   "language": "python",
   "name": "python3"
  },
  "language_info": {
   "codemirror_mode": {
    "name": "ipython",
    "version": 3
   },
   "file_extension": ".py",
   "mimetype": "text/x-python",
   "name": "python",
   "nbconvert_exporter": "python",
   "pygments_lexer": "ipython3",
   "version": "3.8.18"
  }
 },
 "nbformat": 4,
 "nbformat_minor": 5
}
