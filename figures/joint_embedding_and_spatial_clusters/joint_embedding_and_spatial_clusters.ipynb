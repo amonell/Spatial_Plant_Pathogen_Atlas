{
 "cells": [
  {
   "cell_type": "markdown",
   "id": "0",
   "metadata": {},
   "source": [
    "##### Further Improvements - Add scale bars, change color scheme"
   ]
  },
  {
   "cell_type": "code",
   "execution_count": null,
   "id": "1",
   "metadata": {},
   "outputs": [],
   "source": [
    "import scanpy as sc\n",
    "import os\n",
    "import numpy as np\n",
    "import pandas as pd"
   ]
  },
  {
   "cell_type": "code",
   "execution_count": null,
   "id": "2",
   "metadata": {},
   "outputs": [],
   "source": [
    "output_folder = r\"../../outputs\""
   ]
  },
  {
   "cell_type": "code",
   "execution_count": null,
   "id": "3",
   "metadata": {},
   "outputs": [],
   "source": [
    "ad_sp = sc.read(os.path.join(output_folder, \"adatas\", \"combined_spatial_seurat.h5ad\"))"
   ]
  },
  {
   "cell_type": "code",
   "execution_count": null,
   "id": "4",
   "metadata": {},
   "outputs": [],
   "source": [
    "figure_output_folder = \"./\""
   ]
  },
  {
   "cell_type": "code",
   "execution_count": null,
   "id": "5",
   "metadata": {},
   "outputs": [],
   "source": [
    "sc.set_figure_params(dpi=300, dpi_save=400)"
   ]
  },
  {
   "cell_type": "markdown",
   "id": "6",
   "metadata": {},
   "source": [
    "### Prepare to generate figure"
   ]
  },
  {
   "cell_type": "code",
   "execution_count": null,
   "id": "7",
   "metadata": {},
   "outputs": [],
   "source": [
    "unique_batches = np.unique(ad_sp.obs.batch.values)\n",
    "new_batch_names = pd.DataFrame(\n",
    "    zip(unique_batches, [\"4hr\", \"6hr\", \"9hr\", \"24hr\", \"mock\"])\n",
    ")\n",
    "n_batches = []\n",
    "for i in ad_sp.obs.batch.values:\n",
    "    n_batches.append(new_batch_names[1].values[new_batch_names[0] == i][0])\n",
    "ad_sp.obs[\"batch\"] = n_batches\n",
    "unique_batches = np.unique(ad_sp.obs.batch.values)"
   ]
  },
  {
   "cell_type": "markdown",
   "id": "8",
   "metadata": {},
   "source": [
    "### Figure 5f"
   ]
  },
  {
   "cell_type": "code",
   "execution_count": null,
   "id": "9",
   "metadata": {},
   "outputs": [],
   "source": [
    "try:\n",
    "    os.mkdir(os.path.join(figure_output_folder, \"5f\"))\n",
    "except:\n",
    "    print(\"Folder already exists\")"
   ]
  },
  {
   "cell_type": "code",
   "execution_count": null,
   "id": "10",
   "metadata": {},
   "outputs": [],
   "source": [
    "import matplotlib.pyplot as plt\n",
    "\n",
    "for i in range(len(unique_batches)):\n",
    "    batch = unique_batches[i]\n",
    "    adata = ad_sp[ad_sp.obs.batch == batch]\n",
    "    adata.obsm[\"X_spatial\"] = adata.obs[[\"x\", \"y\"]].values\n",
    "    sc.pl.embedding(\n",
    "        adata,\n",
    "        basis=\"spatial\",\n",
    "        color=[\"seurat_clusters\"],\n",
    "        vmax=0.1,\n",
    "        frameon=False,\n",
    "        title=f\"Spatial Joint Clusters {batch}\",\n",
    "        return_fig=True,\n",
    "    )\n",
    "    unique_clusters = adata.obs.seurat_clusters.cat.categories\n",
    "\n",
    "    try:\n",
    "        os.mkdir(os.path.join(figure_output_folder, \"5f\", batch))\n",
    "    except:\n",
    "        print(\"Folder already exists\")\n",
    "\n",
    "    ct = 0\n",
    "    for uni in unique_clusters:\n",
    "        where_cluster = np.array(adata.obs[\"seurat_clusters\"] == uni).astype(int)\n",
    "        color_ = adata.uns[\"seurat_clusters_colors\"][ct]\n",
    "        color_array = np.array([color_ if i == 1 else \"#d3d3d3\" for i in where_cluster])\n",
    "\n",
    "        where_zero = np.where(where_cluster == 0)[0]\n",
    "        plt.figure(dpi=300)\n",
    "        plt.scatter(\n",
    "            adata.obsm[\"X_spatial\"][where_zero, 0],\n",
    "            adata.obsm[\"X_spatial\"][where_zero, 1],\n",
    "            c=color_array[where_zero],\n",
    "            s=1,\n",
    "        )\n",
    "        where_one = np.where(where_cluster == 1)[0]\n",
    "        plt.scatter(\n",
    "            adata.obsm[\"X_spatial\"][where_one, 0],\n",
    "            adata.obsm[\"X_spatial\"][where_one, 1],\n",
    "            c=color_array[where_one],\n",
    "            s=1,\n",
    "        )\n",
    "        plt.title(\"Cluster \" + uni + \" \" + batch)\n",
    "        plt.grid(False)\n",
    "        plt.savefig(os.path.join(figure_output_folder, \"5f\", batch, uni + \".pdf\"))\n",
    "        plt.close()\n",
    "        ct += 1\n",
    "\n",
    "    # fig.tight_layout()\n",
    "    # fig.savefig(os.path.join(figure_output_folder, '5f', f'Spatial Joint Clusters {batch}.pdf'))"
   ]
  },
  {
   "cell_type": "code",
   "execution_count": null,
   "id": "11",
   "metadata": {},
   "outputs": [],
   "source": [
    "for i in range(len(unique_batches)):\n",
    "    batch = unique_batches[i]\n",
    "    adata = ad_sp[ad_sp.obs.batch == batch]\n",
    "    adata.obsm[\"X_spatial\"] = adata.obs[[\"x\", \"y\"]].values\n",
    "    fig = sc.pl.embedding(\n",
    "        adata,\n",
    "        basis=\"spatial\",\n",
    "        color=[\"seurat_clusters\"],\n",
    "        vmax=0.1,\n",
    "        frameon=False,\n",
    "        title=f\"Spatial Joint Clusters {batch}\",\n",
    "        return_fig=True,\n",
    "    )\n",
    "    fig.tight_layout()\n",
    "    fig.savefig(\n",
    "        os.path.join(figure_output_folder, \"5f\", f\"Spatial Joint Clusters {batch}.pdf\")\n",
    "    )"
   ]
  },
  {
   "cell_type": "markdown",
   "id": "12",
   "metadata": {},
   "source": [
    "### Figure 5e"
   ]
  },
  {
   "cell_type": "code",
   "execution_count": null,
   "id": "13",
   "metadata": {},
   "outputs": [],
   "source": [
    "try:\n",
    "    os.mkdir(os.path.join(figure_output_folder, \"5e\"))\n",
    "except:\n",
    "    print(\"Folder already exists\")"
   ]
  },
  {
   "cell_type": "code",
   "execution_count": null,
   "id": "14",
   "metadata": {},
   "outputs": [],
   "source": [
    "for i in range(len(unique_batches)):\n",
    "    batch = unique_batches[i]\n",
    "    adata = ad_sp[ad_sp.obs.batch == batch]\n",
    "    adata.obsm[\"X_spatial\"] = adata.obs[[\"x\", \"y\"]].values\n",
    "    fig = sc.pl.embedding(\n",
    "        adata,\n",
    "        basis=\"umap\",\n",
    "        color=[\"seurat_clusters\"],\n",
    "        vmax=0.1,\n",
    "        frameon=False,\n",
    "        title=f\"UMAP Joint Clusters {batch}\",\n",
    "        return_fig=True,\n",
    "    )\n",
    "    fig.tight_layout()\n",
    "    fig.savefig(\n",
    "        os.path.join(figure_output_folder, \"5e\", f\"UMAP Joint Clusters {batch}.pdf\")\n",
    "    )"
   ]
  },
  {
   "cell_type": "markdown",
   "id": "15",
   "metadata": {},
   "source": [
    "### Related Figure"
   ]
  },
  {
   "cell_type": "code",
   "execution_count": null,
   "id": "16",
   "metadata": {},
   "outputs": [],
   "source": [
    "try:\n",
    "    os.mkdir(os.path.join(figure_output_folder, \"combined_joint_umap\"))\n",
    "except:\n",
    "    print(\"Folder already exists\")"
   ]
  },
  {
   "cell_type": "code",
   "execution_count": null,
   "id": "17",
   "metadata": {},
   "outputs": [],
   "source": [
    "fig = sc.pl.embedding(\n",
    "    ad_sp,\n",
    "    basis=\"umap\",\n",
    "    color=[\"seurat_clusters\"],\n",
    "    vmax=0.1,\n",
    "    frameon=False,\n",
    "    title=f\"UMAP Joint Clusters\",\n",
    "    return_fig=True,\n",
    ")\n",
    "fig.tight_layout()\n",
    "fig.savefig(\n",
    "    os.path.join(\n",
    "        figure_output_folder, \"combined_joint_umap\", f\"UMAP Joint Clusters.pdf\"\n",
    "    )\n",
    ")"
   ]
  },
  {
   "cell_type": "code",
   "execution_count": null,
   "id": "18",
   "metadata": {},
   "outputs": [],
   "source": [
    "celltypes = {\n",
    "    \"7\": \"Vasculature\",\n",
    "    \"9\": \"Mesophyll\",\n",
    "    \"6\": \"Vasculature\",\n",
    "    \"10\": \"Epidermis\",\n",
    "}"
   ]
  },
  {
   "cell_type": "code",
   "execution_count": null,
   "id": "19",
   "metadata": {},
   "outputs": [],
   "source": [
    "celltypes_all = []\n",
    "for i in ad_sp.obs[\"seurat_clusters\"]:\n",
    "    if i in list(celltypes.keys()):\n",
    "        celltypes_all.append(celltypes.get(i))\n",
    "    else:\n",
    "        celltypes_all.append(\"Mesophyll\")"
   ]
  },
  {
   "cell_type": "code",
   "execution_count": null,
   "id": "20",
   "metadata": {},
   "outputs": [],
   "source": [
    "ad_sp.obs[\"celltype\"] = celltypes_all"
   ]
  },
  {
   "cell_type": "code",
   "execution_count": null,
   "id": "21",
   "metadata": {},
   "outputs": [],
   "source": [
    "fig = sc.pl.embedding(\n",
    "    ad_sp,\n",
    "    basis=\"umap\",\n",
    "    color=[\"ALD1\"],\n",
    "    vmax=0.1,\n",
    "    frameon=False,\n",
    "    title=f\"ALD1 Transcript Expression\",\n",
    "    return_fig=True,\n",
    ")\n",
    "fig.tight_layout()"
   ]
  },
  {
   "cell_type": "code",
   "execution_count": null,
   "id": "22",
   "metadata": {},
   "outputs": [],
   "source": [
    "fig = sc.pl.embedding(\n",
    "    ad_sp,\n",
    "    basis=\"umap\",\n",
    "    color=[\"celltype\"],\n",
    "    vmax=0.1,\n",
    "    frameon=False,\n",
    "    title=f\"Cell Types\",\n",
    "    return_fig=True,\n",
    ")\n",
    "fig.tight_layout()\n",
    "# fig.savefig(os.path.join(figure_output_folder, 'combined_joint_umap', f'UMAP Joint Clusters.pdf'))"
   ]
  },
  {
   "cell_type": "code",
   "execution_count": null,
   "id": "23",
   "metadata": {},
   "outputs": [],
   "source": [
    "for i in range(len(unique_batches)):\n",
    "    batch = unique_batches[i]\n",
    "    adata = ad_sp[ad_sp.obs.batch == batch]\n",
    "    adata.obsm[\"X_spatial\"] = adata.obs[[\"x\", \"y\"]].values\n",
    "    fig = sc.pl.embedding(\n",
    "        adata,\n",
    "        basis=\"umap\",\n",
    "        color=[\"seurat_clusters\"],\n",
    "        vmax=0.1,\n",
    "        frameon=False,\n",
    "        title=f\"UMAP Joint Clusters {batch}\",\n",
    "        return_fig=True,\n",
    "    )\n",
    "    fig.tight_layout()\n",
    "    fig.savefig(\n",
    "        os.path.join(figure_output_folder, \"5e\", f\"UMAP Joint Clusters {batch}.pdf\")\n",
    "    )"
   ]
  }
 ],
 "metadata": {
  "kernelspec": {
   "display_name": "Python 3 (ipykernel)",
   "language": "python",
   "name": "python3"
  },
  "language_info": {
   "codemirror_mode": {
    "name": "ipython",
    "version": 3
   },
   "file_extension": ".py",
   "mimetype": "text/x-python",
   "name": "python",
   "nbconvert_exporter": "python",
   "pygments_lexer": "ipython3",
   "version": "3.8.-1"
  }
 },
 "nbformat": 4,
 "nbformat_minor": 5
}
