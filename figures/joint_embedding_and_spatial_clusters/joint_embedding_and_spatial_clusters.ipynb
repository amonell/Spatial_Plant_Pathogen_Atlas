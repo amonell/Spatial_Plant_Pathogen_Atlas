{
 "cells": [
  {
   "cell_type": "markdown",
   "id": "6de283c5-b965-49c8-a1ff-05e97b60a6ce",
   "metadata": {},
   "source": [
    "##### Further Improvements - Add scale bars, change color scheme"
   ]
  },
  {
   "cell_type": "code",
   "execution_count": null,
   "id": "76f26d67-2836-4fcc-bcea-4c2a6ae05c31",
   "metadata": {},
   "outputs": [],
   "source": [
    "import scanpy as sc\n",
    "import os\n",
    "import numpy as np\n",
    "import pandas as pd"
   ]
  },
  {
   "cell_type": "code",
   "execution_count": null,
   "id": "52535822-67b7-4cd6-afb0-ce1cf55fe08a",
   "metadata": {},
   "outputs": [],
   "source": [
    "output_folder = r'../../outputs'"
   ]
  },
  {
   "cell_type": "code",
   "execution_count": null,
   "id": "7c209225-b567-4d56-96d7-3426b11bc633",
   "metadata": {},
   "outputs": [],
   "source": [
    "ad_sp = sc.read(os.path.join(output_folder,'adatas', 'combined_spatial_seurat.h5ad'))"
   ]
  },
  {
   "cell_type": "code",
   "execution_count": null,
   "id": "8287e7ac-24d5-4e79-af74-bb02293b49f2",
   "metadata": {},
   "outputs": [],
   "source": [
    "figure_output_folder = './'"
   ]
  },
  {
   "cell_type": "code",
   "execution_count": null,
   "id": "9c550159-ea4c-422c-ad51-1eb9f1e2a2b9",
   "metadata": {},
   "outputs": [],
   "source": [
    "sc.set_figure_params(dpi=300, dpi_save=400)"
   ]
  },
  {
   "cell_type": "markdown",
   "id": "a8b84ea5-24cc-4836-ba29-70c899f16e98",
   "metadata": {},
   "source": [
    "### Prepare to generate figure"
   ]
  },
  {
   "cell_type": "code",
   "execution_count": null,
   "id": "931ae0af-8c7a-470e-a8fe-8569e1b70979",
   "metadata": {},
   "outputs": [],
   "source": [
    "unique_batches = np.unique(ad_sp.obs.batch.values)\n",
    "new_batch_names = pd.DataFrame(zip(unique_batches, ['4hr', '6hr', '9hr', '24hr', 'mock']))\n",
    "n_batches = []\n",
    "for i in ad_sp.obs.batch.values:\n",
    "    n_batches.append(new_batch_names[1].values[new_batch_names[0] == i][0])\n",
    "ad_sp.obs['batch'] = n_batches\n",
    "unique_batches = np.unique(ad_sp.obs.batch.values)"
   ]
  },
  {
   "cell_type": "markdown",
   "id": "5423d661-e2b4-4ebe-90d9-69ea051d9aaf",
   "metadata": {},
   "source": [
    "### Figure 5f"
   ]
  },
  {
   "cell_type": "code",
   "execution_count": null,
   "id": "40df9c25-04db-49ec-9432-80ac076783b0",
   "metadata": {},
   "outputs": [],
   "source": [
    "try:\n",
    "    os.mkdir(os.path.join(figure_output_folder, '5f'))\n",
    "except:\n",
    "    print('Folder already exists')"
   ]
  },
  {
   "cell_type": "code",
   "execution_count": null,
   "metadata": {},
   "outputs": [],
   "source": [
    "import matplotlib.pyplot as plt\n",
    "for i in range(len(unique_batches)):\n",
    "    batch = unique_batches[i]\n",
    "    adata = ad_sp[ad_sp.obs.batch == batch]\n",
    "    adata.obsm['X_spatial'] = adata.obs[['x', 'y']].values\n",
    "    sc.pl.embedding(adata, basis='spatial', color=['seurat_clusters'], vmax=0.1, frameon=False, title=f'Spatial Joint Clusters {batch}', return_fig=True)\n",
    "    unique_clusters = adata.obs.seurat_clusters.cat.categories\n",
    "\n",
    "    try:\n",
    "        os.mkdir(os.path.join(figure_output_folder, '5f', batch))\n",
    "    except:\n",
    "        print('Folder already exists')\n",
    "\n",
    "    ct = 0 \n",
    "    for uni in unique_clusters:\n",
    "        where_cluster = np.array(adata.obs['seurat_clusters'] == uni).astype(int)\n",
    "        color_ = adata.uns['seurat_clusters_colors'][ct]\n",
    "        color_array = np.array([color_ if i == 1 else '#d3d3d3' for i in where_cluster])\n",
    "\n",
    "        where_zero = np.where(where_cluster== 0)[0]\n",
    "        plt.figure(dpi=300)\n",
    "        plt.scatter(adata.obsm['X_spatial'][where_zero, 0], adata.obsm['X_spatial'][where_zero, 1], c=color_array[where_zero], s=1)\n",
    "        where_one = np.where(where_cluster== 1)[0]\n",
    "        plt.scatter(adata.obsm['X_spatial'][where_one, 0], adata.obsm['X_spatial'][where_one, 1], c=color_array[where_one], s=1)\n",
    "        plt.title('Cluster ' + uni + ' ' + batch)\n",
    "        plt.grid(False)\n",
    "        plt.savefig(os.path.join(figure_output_folder, '5f', batch, uni+'.pdf'))\n",
    "        plt.close()\n",
    "        ct += 1\n",
    "    \n",
    "    #fig.tight_layout()\n",
    "    #fig.savefig(os.path.join(figure_output_folder, '5f', f'Spatial Joint Clusters {batch}.pdf'))"
   ]
  },
  {
   "cell_type": "code",
   "execution_count": null,
   "id": "1514cb9d-cf72-43b1-8367-29d25eff8a69",
   "metadata": {},
   "outputs": [],
   "source": [
    "for i in range(len(unique_batches)):\n",
    "    batch = unique_batches[i]\n",
    "    adata = ad_sp[ad_sp.obs.batch == batch]\n",
    "    adata.obsm['X_spatial'] = adata.obs[['x', 'y']].values\n",
    "    fig = sc.pl.embedding(adata, basis='spatial', color=['seurat_clusters'], vmax=0.1, frameon=False, title=f'Spatial Joint Clusters {batch}', return_fig=True)\n",
    "    fig.tight_layout()\n",
    "    fig.savefig(os.path.join(figure_output_folder, '5f', f'Spatial Joint Clusters {batch}.pdf'))"
   ]
  },
  {
   "cell_type": "markdown",
   "id": "2251d5a9-8082-458b-ba95-976ccbe1180f",
   "metadata": {},
   "source": [
    "### Figure 5e"
   ]
  },
  {
   "cell_type": "code",
   "execution_count": null,
   "id": "fc39b899-2b0d-4081-bbb9-ba48609dc714",
   "metadata": {},
   "outputs": [],
   "source": [
    "try:\n",
    "    os.mkdir(os.path.join(figure_output_folder, '5e'))\n",
    "except:\n",
    "    print('Folder already exists')"
   ]
  },
  {
   "cell_type": "code",
   "execution_count": null,
   "id": "cdb016c9-2093-40f3-add7-907e3603e0da",
   "metadata": {},
   "outputs": [],
   "source": [
    "for i in range(len(unique_batches)):\n",
    "    batch = unique_batches[i]\n",
    "    adata = ad_sp[ad_sp.obs.batch == batch]\n",
    "    adata.obsm['X_spatial'] = adata.obs[['x', 'y']].values\n",
    "    fig = sc.pl.embedding(adata, basis='umap', color=['seurat_clusters'], vmax=0.1, frameon=False, title=f'UMAP Joint Clusters {batch}', return_fig=True)\n",
    "    fig.tight_layout()\n",
    "    fig.savefig(os.path.join(figure_output_folder, '5e', f'UMAP Joint Clusters {batch}.pdf'))"
   ]
  },
  {
   "cell_type": "markdown",
   "id": "481d37a0-54e1-4dd4-b074-2a792a77ce34",
   "metadata": {},
   "source": [
    "### Related Figure"
   ]
  },
  {
   "cell_type": "code",
   "execution_count": null,
   "id": "6fcb2bd2-4d2f-4d1a-bcf8-a267c45d91d3",
   "metadata": {},
   "outputs": [],
   "source": [
    "try:\n",
    "    os.mkdir(os.path.join(figure_output_folder, 'combined_joint_umap'))\n",
    "except:\n",
    "    print('Folder already exists')"
   ]
  },
  {
   "cell_type": "code",
   "execution_count": null,
   "id": "dbf97679-b459-4595-85f1-8cfed2976899",
   "metadata": {},
   "outputs": [],
   "source": [
    "\n",
    "fig = sc.pl.embedding(ad_sp, basis='umap', color=['seurat_clusters'], vmax=0.1, frameon=False, title=f'UMAP Joint Clusters', return_fig=True)\n",
    "fig.tight_layout()\n",
    "fig.savefig(os.path.join(figure_output_folder, 'combined_joint_umap', f'UMAP Joint Clusters.pdf'))"
   ]
  },
  {
   "cell_type": "code",
   "execution_count": null,
   "id": "6319e525",
   "metadata": {},
   "outputs": [],
   "source": [
    "celltypes = {'7': 'Vasculature', '9': 'Mesophyll', '6': 'Vasculature', '10': 'Epidermis'}"
   ]
  },
  {
   "cell_type": "code",
   "execution_count": null,
   "id": "c5f9ff59",
   "metadata": {},
   "outputs": [],
   "source": [
    "celltypes_all = []\n",
    "for i in ad_sp.obs['seurat_clusters']:\n",
    "    if i in list(celltypes.keys()):\n",
    "        celltypes_all.append(celltypes.get(i))\n",
    "    else:\n",
    "        celltypes_all.append('Mesophyll')"
   ]
  },
  {
   "cell_type": "code",
   "execution_count": null,
   "id": "8a3a6cec",
   "metadata": {},
   "outputs": [],
   "source": [
    "ad_sp.obs['celltype'] = celltypes_all"
   ]
  },
  {
   "cell_type": "code",
   "execution_count": null,
   "metadata": {},
   "outputs": [],
   "source": [
    "fig = sc.pl.embedding(ad_sp, basis='umap', color=['ALD1'], vmax=0.1, frameon=False, title=f'ALD1 Transcript Expression', return_fig=True)\n",
    "fig.tight_layout()"
   ]
  },
  {
   "cell_type": "code",
   "execution_count": null,
   "metadata": {},
   "outputs": [],
   "source": [
    "fig = sc.pl.embedding(ad_sp, basis='umap', color=['celltype'], vmax=0.1, frameon=False, title=f'Cell Types', return_fig=True)\n",
    "fig.tight_layout()\n",
    "#fig.savefig(os.path.join(figure_output_folder, 'combined_joint_umap', f'UMAP Joint Clusters.pdf'))"
   ]
  },
  {
   "cell_type": "code",
   "execution_count": null,
   "id": "fbd63e73",
   "metadata": {},
   "outputs": [],
   "source": [
    "for i in range(len(unique_batches)):\n",
    "    batch = unique_batches[i]\n",
    "    adata = ad_sp[ad_sp.obs.batch == batch]\n",
    "    adata.obsm['X_spatial'] = adata.obs[['x', 'y']].values\n",
    "    fig = sc.pl.embedding(adata, basis='umap', color=['seurat_clusters'], vmax=0.1, frameon=False, title=f'UMAP Joint Clusters {batch}', return_fig=True)\n",
    "    fig.tight_layout()\n",
    "    fig.savefig(os.path.join(figure_output_folder, '5e', f'UMAP Joint Clusters {batch}.pdf'))"
   ]
  }
 ],
 "metadata": {
  "kernelspec": {
   "display_name": "Python 3 (ipykernel)",
   "language": "python",
   "name": "python3"
  },
  "language_info": {
   "codemirror_mode": {
    "name": "ipython",
    "version": 3
   },
   "file_extension": ".py",
   "mimetype": "text/x-python",
   "name": "python",
   "nbconvert_exporter": "python",
   "pygments_lexer": "ipython3",
   "version": "3.8.-1"
  }
 },
 "nbformat": 4,
 "nbformat_minor": 5
}
