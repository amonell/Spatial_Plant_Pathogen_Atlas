{
 "cells": [
  {
   "cell_type": "code",
   "execution_count": null,
   "id": "0",
   "metadata": {},
   "outputs": [],
   "source": [
    "import pandas as pd\n",
    "import os\n",
    "import matplotlib.pyplot as plt\n",
    "import numpy as np\n",
    "import seaborn as sns"
   ]
  },
  {
   "cell_type": "code",
   "execution_count": null,
   "id": "1",
   "metadata": {},
   "outputs": [],
   "source": [
    "cside_dir = \"../../outputs/CSIDE_outputs/RCTD_results_9hr\""
   ]
  },
  {
   "cell_type": "code",
   "execution_count": null,
   "id": "2",
   "metadata": {},
   "outputs": [],
   "source": [
    "output = pd.read_csv(os.path.join(cside_dir, \"de_summary\", \"all_2.csv\"), index_col=0)"
   ]
  },
  {
   "cell_type": "code",
   "execution_count": null,
   "id": "3",
   "metadata": {},
   "outputs": [],
   "source": [
    "figure_output_folder = \"figs\"\n",
    "\n",
    "try:\n",
    "    os.mkdir(figure_output_folder)\n",
    "except:\n",
    "    pass"
   ]
  },
  {
   "cell_type": "code",
   "execution_count": null,
   "id": "4",
   "metadata": {},
   "outputs": [],
   "source": [
    "# Sort the DataFrame by p-value in ascending order\n",
    "df_sorted = output.sort_values(by=\"p_val\")\n",
    "\n",
    "# Set a threshold for top points (you can adjust this threshold as needed)\n",
    "top_threshold = 1e-8\n",
    "\n",
    "# Create a boolean mask for top points\n",
    "top_points_mask = df_sorted[\"p_val\"] < top_threshold\n",
    "\n",
    "# Create the volcano plot\n",
    "plt.figure(figsize=(5, 5), dpi=300)\n",
    "scatter = plt.scatter(\n",
    "    df_sorted[\"log_fc\"],\n",
    "    df_sorted[\"Z_score\"].values,\n",
    "    c=top_points_mask,\n",
    "    cmap=\"coolwarm\",\n",
    "    label=f\"p < {top_threshold}\",\n",
    "    alpha=0.5,\n",
    ")\n",
    "\n",
    "# Label the top points by their index with an offset\n",
    "top_threshold_ann = 1e-8\n",
    "top_points_mask_ann = df_sorted.index.isin([\"BON3\", \"FMO1\", \"ALD1\"]) | (\n",
    "    df_sorted[\"Z_score\"] < top_threshold_ann\n",
    ")\n",
    "\n",
    "for i, row in df_sorted[top_points_mask_ann].iterrows():\n",
    "    # Offset the text annotation\n",
    "    offset = 1  # Adjust as needed\n",
    "    print(row[\"log_fc\"], row[\"Z_score\"] + offset, str(i))\n",
    "    plt.text(\n",
    "        row[\"log_fc\"],\n",
    "        row[\"Z_score\"] + offset,\n",
    "        str(i),\n",
    "        fontsize=10,\n",
    "        ha=\"center\",\n",
    "        va=\"bottom\",\n",
    "    )\n",
    "\n",
    "plt.xlabel(\"Log Fold Change (log_fc)\")\n",
    "plt.ylabel(\"Z-score\")\n",
    "plt.title(\"9hr Mesophyll Smoothed Pseudotime Spatial DGE\")\n",
    "\n",
    "# Customize the legend\n",
    "legend_labels = [f\"p-value < {top_threshold}\"]\n",
    "scatter_for_legend = plt.Line2D(\n",
    "    [0],\n",
    "    [0],\n",
    "    marker=\"o\",\n",
    "    color=\"w\",\n",
    "    label=legend_labels[0],\n",
    "    markersize=7,\n",
    "    markerfacecolor=\"red\",\n",
    "    alpha=0.5,\n",
    ")\n",
    "plt.legend(handles=[scatter_for_legend])\n",
    "\n",
    "# plt.xlim(-9, 9)\n",
    "\n",
    "plt.grid(False)\n",
    "plt.tight_layout()\n",
    "plt.savefig(os.path.join(figure_output_folder, \"Mesophyll_Diff_Ex2.pdf\"))\n",
    "plt.show()"
   ]
  }
 ],
 "metadata": {
  "kernelspec": {
   "display_name": "Python 3 (ipykernel)",
   "language": "python",
   "name": "python3"
  },
  "language_info": {
   "codemirror_mode": {
    "name": "ipython",
    "version": 3
   },
   "file_extension": ".py",
   "mimetype": "text/x-python",
   "name": "python",
   "nbconvert_exporter": "python",
   "pygments_lexer": "ipython3",
   "version": "3.9.18"
  }
 },
 "nbformat": 4,
 "nbformat_minor": 5
}
