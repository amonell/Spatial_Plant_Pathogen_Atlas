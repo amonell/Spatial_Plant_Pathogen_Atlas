{
 "cells": [
  {
   "cell_type": "code",
   "execution_count": null,
   "metadata": {},
   "outputs": [],
   "source": [
    "import diopy\n",
    "import os\n",
    "import pickle\n",
    "import pandas as pd\n",
    "import scanpy as sc\n",
    "import matplotlib.pyplot as plt"
   ]
  },
  {
   "cell_type": "code",
   "execution_count": null,
   "metadata": {},
   "outputs": [],
   "source": [
    "data_path = '/home/amonell/Desktop/Spatial_Plant_Pathogen_Atlas/data'"
   ]
  },
  {
   "cell_type": "code",
   "execution_count": null,
   "metadata": {},
   "outputs": [],
   "source": [
    "seq_folder = os.path.join(data_path, 'temp_objects', 'AvrRpt2_alone2.h5')\n",
    "scrna = diopy.input.read_h5(file = seq_folder)"
   ]
  },
  {
   "cell_type": "code",
   "execution_count": null,
   "metadata": {},
   "outputs": [],
   "source": [
    "figure_output_folder =  '6ac'"
   ]
  },
  {
   "cell_type": "code",
   "execution_count": null,
   "metadata": {},
   "outputs": [],
   "source": [
    "\n",
    "\n",
    "# Specify the file path\n",
    "file_path = os.path.join(figure_output_folder, 'colors.pkl')\n",
    "\n",
    "# Load the dictionary from the pickle file\n",
    "with open(file_path, 'rb') as pickle_file:\n",
    "    loaded_dict = pickle.load(pickle_file)\n",
    "\n",
    "# Print the loaded dictionary\n",
    "print(loaded_dict)\n"
   ]
  },
  {
   "cell_type": "code",
   "execution_count": null,
   "metadata": {},
   "outputs": [],
   "source": [
    "scrna.uns['SCT_snn_res.1_colors'] = loaded_dict"
   ]
  },
  {
   "cell_type": "code",
   "execution_count": null,
   "metadata": {},
   "outputs": [],
   "source": [
    "scrna.uns['SCT_snn_res.1_colors'] = pd.DataFrame(loaded_dict.values(), index=loaded_dict.keys()).loc[scrna.obs['SCT_snn_res.1'].cat.categories.values][0].values"
   ]
  },
  {
   "cell_type": "code",
   "execution_count": null,
   "metadata": {},
   "outputs": [],
   "source": [
    "sc.set_figure_params(dpi=400, dpi_save=400, figsize=(5, 4))\n",
    "fig = sc.pl.umap(scrna, color='SCT_snn_res.1', return_fig=True)\n",
    "fig.tight_layout()\n",
    "fig.savefig(os.path.join(figure_output_folder, '6c_rep1_rep2.pdf'))\n",
    "plt.show()\n",
    "plt.close()"
   ]
  },
  {
   "cell_type": "markdown",
   "metadata": {},
   "source": [
    "### 6d"
   ]
  },
  {
   "cell_type": "code",
   "execution_count": null,
   "metadata": {},
   "outputs": [],
   "source": [
    "ad_sc = scrna.copy()\n",
    "ad_sc.obs['celltype'] = ad_sc.obs['celltype'].replace('Epidermis', 'epidermis').replace('Mesophyll', 'mesophyll').replace('Vasculature', 'vasculature')"
   ]
  },
  {
   "cell_type": "code",
   "execution_count": null,
   "metadata": {},
   "outputs": [],
   "source": [
    "ad_sc = ad_sc[ad_sc.obs['celltype'] != 'Unknown']"
   ]
  },
  {
   "cell_type": "code",
   "execution_count": null,
   "metadata": {},
   "outputs": [],
   "source": [
    "ad_sc.uns['celltype_colors'] =  ['#FF007F',  # Bright Pink\n",
    "                                '#008000',  # Green\n",
    "                                '#FFD700']  # Gold"
   ]
  },
  {
   "cell_type": "code",
   "execution_count": null,
   "metadata": {},
   "outputs": [],
   "source": [
    "sc.set_figure_params(facecolor='black', figsize=(10, 10), dpi=300)\n",
    "fig = sc.pl.embedding(ad_sc, basis='umap', color=['celltype'], vmax=0.1, frameon=False, size=5, return_fig=True)\n",
    "\n",
    "l = plt.legend()\n",
    "for text in l.get_texts():\n",
    "    text.set_color(\"black\")\n",
    "plt.title('celltype', {'color' : 'white'})\n",
    "fig.savefig(os.path.join(figure_output_folder, 'Figure6d_celltype_sc.pdf'))\n",
    "plt.show()"
   ]
  },
  {
   "cell_type": "code",
   "execution_count": null,
   "metadata": {},
   "outputs": [],
   "source": [
    "rep1_pseudotime = pd.read_csv(os.path.join(data_path, 'temp_objects', 'pseudotime_csv.csv'))\n",
    "scrna.obs.index = [i.replace('00_col_Mock_rep1', '00_Mock').replace('col_AvrRpt2_24h_rep1', 'AvrRpt2_24h').replace('col_AvrRpt2_04h_rep1', 'AvrRpt2_04h').replace('col_AvrRpt2_06h_rep1', 'AvrRpt2_06h').replace('col_AvrRpt2_09h_rep1', 'AvrRpt2_09h') for i in scrna.obs.index]\n",
    "new_df = scrna.obs.merge(rep1_pseudotime, how='left', left_index=True, right_on='index')\n",
    "new_df.index = new_df['index']\n",
    "new_df['dpt_pseudotime'] = new_df['dpt_pseudotime'].fillna(0)\n",
    "scrna.obs = new_df"
   ]
  },
  {
   "cell_type": "code",
   "execution_count": null,
   "metadata": {},
   "outputs": [],
   "source": [
    "scrna.obs = scrna.obs[['orig.ident', 'nCount_RNA', 'nFeature_RNA', 'nCount_ATAC', 'nFeature_ATAC', 'nCount_SCT', 'nFeature_SCT', 'SCT_snn_res.1.5', 'seurat_clusters', 'sub_clst_rna', 'sample.order', 'celltype', 'dpt_pseudotime']]"
   ]
  },
  {
   "cell_type": "code",
   "execution_count": null,
   "metadata": {},
   "outputs": [],
   "source": [
    "try:\n",
    "    os.mkdir(os.path.join('6ac','seq_pseudotime'))\n",
    "except:\n",
    "    pass"
   ]
  },
  {
   "cell_type": "code",
   "execution_count": null,
   "metadata": {},
   "outputs": [],
   "source": [
    "sc.set_figure_params(facecolor='white', figsize=(5, 5), dpi=400,dpi_save=400)\n",
    "fig =sc.pl.embedding(scrna, basis='umap', color='dpt_pseudotime', cmap='jet', size=50, show=False, return_fig=True)\n",
    "fig.tight_layout()\n",
    "fig.savefig(os.path.join('6ac', 'seq_pseudotime', 'all_batch.pdf'))"
   ]
  },
  {
   "cell_type": "code",
   "execution_count": null,
   "metadata": {},
   "outputs": [],
   "source": [
    "scrna.obs['batch'] = [i.split('_')[-2] for i in scrna.obs['sample.order']]\n",
    "scrna.obs['rep'] = [i.split('_')[-1] for i in scrna.obs['sample.order']]"
   ]
  },
  {
   "cell_type": "code",
   "execution_count": null,
   "metadata": {},
   "outputs": [],
   "source": [
    "import numpy as np\n",
    "sc.set_figure_params(dpi=400,dpi_save=400, figsize=(5, 5))\n",
    "for sn in np.unique(scrna.obs['batch']):\n",
    "    fig = sc.pl.umap(scrna[(scrna.obs['batch'] == sn) & (scrna.obs.rep == 'rep1')], color='dpt_pseudotime', cmap='jet', size=50, return_fig=True, title=sn)\n",
    "    fig.tight_layout()\n",
    "    fig.savefig(os.path.join('6ac', 'seq_pseudotime', f'{sn}.pdf'))\n",
    "    plt.show()\n",
    "    plt.close()"
   ]
  }
 ],
 "metadata": {
  "kernelspec": {
   "display_name": "scdior",
   "language": "python",
   "name": "python3"
  },
  "language_info": {
   "codemirror_mode": {
    "name": "ipython",
    "version": 3
   },
   "file_extension": ".py",
   "mimetype": "text/x-python",
   "name": "python",
   "nbconvert_exporter": "python",
   "pygments_lexer": "ipython3",
   "version": "3.8.8"
  }
 },
 "nbformat": 4,
 "nbformat_minor": 2
}
