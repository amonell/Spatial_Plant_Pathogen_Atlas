{
 "cells": [
  {
   "cell_type": "code",
   "execution_count": null,
   "metadata": {},
   "outputs": [],
   "source": [
    "import scanpy as sc\n",
    "import os\n",
    "import numpy as np\n",
    "import pandas as pd\n",
    "import sys\n",
    "import seaborn as sns\n",
    "import matplotlib.pyplot as plt\n",
    "import pylab as pl\n",
    "from scipy.spatial import cKDTree\n",
    "import glob\n",
    "import pickle"
   ]
  },
  {
   "cell_type": "code",
   "execution_count": null,
   "metadata": {},
   "outputs": [],
   "source": [
    "output_folder = r\"./\"\n",
    "data_folder = \"../../data\"\n",
    "\n",
    "spatial_datas = glob.glob(\n",
    "    os.path.join(data_folder, \"integration\", \"*\", \"spatial_data.h5ad\")\n",
    ")\n",
    "seq_datas = glob.glob(os.path.join(data_folder, \"integration\", \"*\", \"seq_data.h5ad\"))\n",
    "\n",
    "spatial_datas = [i for i in spatial_datas if \"dc3000\" not in i]\n",
    "seq_datas = [i for i in seq_datas if \"dc3000\" not in i]\n",
    "\n",
    "spatial_adatas = []\n",
    "for fl in spatial_datas:\n",
    "    spatial_adatas.append(sc.read(fl))\n",
    "ad_sp_only = sc.concat(spatial_adatas)\n",
    "\n",
    "seq_adatas = []\n",
    "for fl in seq_datas:\n",
    "    seq_adatas.append(sc.read(fl))\n",
    "ad_sc_only = sc.concat(seq_adatas)"
   ]
  },
  {
   "cell_type": "code",
   "execution_count": null,
   "metadata": {},
   "outputs": [],
   "source": [
    "figure_output_folder = \"6ac\""
   ]
  },
  {
   "cell_type": "code",
   "execution_count": null,
   "metadata": {},
   "outputs": [],
   "source": [
    "sc.set_figure_params(dpi=300, dpi_save=400)"
   ]
  },
  {
   "cell_type": "code",
   "execution_count": null,
   "metadata": {},
   "outputs": [],
   "source": [
    "ad_sp = ad_sp_only.copy()\n",
    "ad_sc = ad_sc_only.copy()"
   ]
  },
  {
   "cell_type": "code",
   "execution_count": null,
   "metadata": {},
   "outputs": [],
   "source": [
    "ad_sc.obs[\"batch\"] = \"rep1\""
   ]
  },
  {
   "cell_type": "code",
   "execution_count": null,
   "metadata": {},
   "outputs": [],
   "source": [
    "ad_sc_only.obs[\"modality\"] = \"seq\"\n",
    "ad_sp_only.obs[\"modality\"] = \"spatial\""
   ]
  },
  {
   "cell_type": "code",
   "execution_count": null,
   "metadata": {},
   "outputs": [],
   "source": [
    "ad_sc_sp = sc.concat([ad_sc_only, ad_sp_only])"
   ]
  },
  {
   "cell_type": "code",
   "execution_count": null,
   "metadata": {},
   "outputs": [],
   "source": [
    "color_list = [\n",
    "    \"#bcbd22\",\n",
    "    \"#9467bd\",\n",
    "    \"#2ca02c\",\n",
    "    \"#10492b\",\n",
    "    \"#ff9896\",\n",
    "    \"#e377c2\",\n",
    "    \"#17becf\",\n",
    "    \"#c7c7c7\",\n",
    "    \"#6a0ed1\",\n",
    "    \"#8c564b\",\n",
    "    \"#ff7f0e\",\n",
    "    \"#f7b6d2\",\n",
    "    \"#cdd5c3\",\n",
    "    \"#1f77b4\",\n",
    "    \"#c5b0d5\",\n",
    "    \"#98df8a\",\n",
    "    \"#c49c94\",\n",
    "    \"#aec7e8\",\n",
    "    \"#dbdb8d\",\n",
    "    \"#7f7f7f\",\n",
    "    \"#9edae5\",\n",
    "    \"#d62728\",\n",
    "    \"#ffbb78\",\n",
    "    \"#816cfd\",\n",
    "]"
   ]
  },
  {
   "cell_type": "code",
   "execution_count": null,
   "metadata": {},
   "outputs": [],
   "source": [
    "ad_sc_sp.uns[\"SCT_snn_res.1_colors\"] = color_list"
   ]
  },
  {
   "cell_type": "code",
   "execution_count": null,
   "metadata": {},
   "outputs": [],
   "source": [
    "ad_sc_sp.obs[\"SCT_snn_res.1\"] = pd.Categorical(ad_sc_sp.obs[\"SCT_snn_res.1\"])"
   ]
  },
  {
   "cell_type": "code",
   "execution_count": null,
   "metadata": {},
   "outputs": [],
   "source": [
    "unique_clusters = ad_sc_sp.obs[\"SCT_snn_res.1\"].cat.categories"
   ]
  },
  {
   "cell_type": "code",
   "execution_count": null,
   "metadata": {},
   "outputs": [],
   "source": [
    "dic = {}\n",
    "for categ in range(len(ad_sc_sp.obs[\"SCT_snn_res.1\"].cat.categories)):\n",
    "    dic[ad_sc_sp.obs[\"SCT_snn_res.1\"].cat.categories[categ]] = ad_sc_sp.uns[\n",
    "        \"SCT_snn_res.1_colors\"\n",
    "    ][categ]"
   ]
  },
  {
   "cell_type": "code",
   "execution_count": null,
   "metadata": {},
   "outputs": [],
   "source": [
    "try:\n",
    "    os.mkdir(os.path.join(output_folder, figure_output_folder))\n",
    "except FileExistsError:\n",
    "    pass\n",
    "\n",
    "# Specify the file path\n",
    "file_path = os.path.join(figure_output_folder, \"colors.pkl\")\n",
    "\n",
    "# Save the dictionary to a binary file using pickle\n",
    "with open(file_path, \"wb\") as pickle_file:\n",
    "    pickle.dump(dic, pickle_file)"
   ]
  },
  {
   "cell_type": "markdown",
   "metadata": {},
   "source": [
    "### Figure d part 1"
   ]
  },
  {
   "cell_type": "code",
   "execution_count": null,
   "metadata": {},
   "outputs": [],
   "source": [
    "ad_sp = sc.read(\n",
    "    os.path.join(data_folder, \"integration\", \"9hr_avr\", \"spatial_data.h5ad\")\n",
    ")"
   ]
  },
  {
   "cell_type": "code",
   "execution_count": null,
   "metadata": {},
   "outputs": [],
   "source": [
    "ad_sp.obsm[\"X_spatial\"] = ad_sp.obs[[\"x\", \"y\"]].values"
   ]
  },
  {
   "cell_type": "code",
   "execution_count": null,
   "metadata": {},
   "outputs": [],
   "source": [
    "ad_sp.uns[\"predicted.celltype_colors\"] = [\n",
    "    \"#FF007F\",  # Bright Pink\n",
    "    \"#008000\",  # Green\n",
    "    \"#FFD700\",\n",
    "]  # Gold"
   ]
  },
  {
   "cell_type": "code",
   "execution_count": null,
   "metadata": {},
   "outputs": [],
   "source": [
    "sc.set_figure_params(facecolor=\"white\", figsize=(10, 10), dpi=300)\n",
    "fig = sc.pl.embedding(\n",
    "    ad_sp[ad_sp.obs.batch == \"9hr_avr\"],\n",
    "    basis=\"spatial\",\n",
    "    color=[\"predicted.celltype\"],\n",
    "    vmax=0.1,\n",
    "    frameon=False,\n",
    "    size=40,\n",
    "    return_fig=True,\n",
    ")\n",
    "\n",
    "l = plt.legend()\n",
    "for text in l.get_texts():\n",
    "    text.set_color(\"black\")\n",
    "plt.title(\"celltype\", {\"color\": \"white\"})\n",
    "fig.savefig(os.path.join(figure_output_folder, \"Figure6d_celltype_sp.pdf\"))\n",
    "plt.show()"
   ]
  },
  {
   "cell_type": "code",
   "execution_count": null,
   "metadata": {},
   "outputs": [],
   "source": [
    "fig = sc.pl.embedding(\n",
    "    ad_sp,\n",
    "    basis=\"umap\",\n",
    "    color=[\"SCT_snn_res.1\"],\n",
    "    vmax=0.1,\n",
    "    frameon=False,\n",
    "    size=10,\n",
    "    return_fig=True,\n",
    ")\n",
    "\n",
    "l = plt.legend()\n",
    "for text in l.get_texts():\n",
    "    text.set_color(\"black\")\n",
    "plt.title(\"celltype\", {\"color\": \"white\"})\n",
    "fig.savefig(os.path.join(figure_output_folder, \"Figure6d_celltype_sp.pdf\"))\n",
    "plt.show()"
   ]
  },
  {
   "cell_type": "markdown",
   "metadata": {},
   "source": [
    "### Figure 6e"
   ]
  },
  {
   "cell_type": "code",
   "execution_count": null,
   "metadata": {},
   "outputs": [],
   "source": [
    "for cluster_to_map in np.unique(ad_sp.obs[\"SCT_snn_res.1\"]):\n",
    "    cluster_map = [1 if i == cluster_to_map else 0 for i in ad_sp.obs[\"SCT_snn_res.1\"]]\n",
    "    ad_sp.obs[\"cluster_map\"] = cluster_map\n",
    "    sc.set_figure_params(facecolor=\"white\", figsize=(10, 10), dpi=300)\n",
    "    fig = sc.pl.embedding(\n",
    "        ad_sp[ad_sp.obs.batch == \"9hr_avr\"],\n",
    "        basis=\"spatial\",\n",
    "        color=[\"cluster_map\"],\n",
    "        vmax=1.3,\n",
    "        vmin=-0.4,\n",
    "        frameon=False,\n",
    "        size=10,\n",
    "        return_fig=True,\n",
    "        cmap=\"Purples\",\n",
    "    )\n",
    "\n",
    "    l = plt.legend()\n",
    "    for text in l.get_texts():\n",
    "        text.set_color(\"black\")\n",
    "    plt.title(f\"Mapped cluster {cluster_to_map}\", {\"color\": \"black\"})\n",
    "    try:\n",
    "        os.mkdir(os.path.join(figure_output_folder, \"cluster_projections\"))\n",
    "    except:\n",
    "        None\n",
    "    fig.savefig(\n",
    "        os.path.join(\n",
    "            figure_output_folder,\n",
    "            \"cluster_projections\",\n",
    "            f\"Figure6e_cluster_{cluster_to_map}.pdf\",\n",
    "        )\n",
    "    )\n",
    "    plt.close()"
   ]
  },
  {
   "cell_type": "code",
   "execution_count": null,
   "metadata": {},
   "outputs": [],
   "source": [
    "ad_list = []\n",
    "for adata_name in [\"mock\", \"4hr_avr\", \"6hr_avr\", \"9hr_avr\", \"avrrpt24\"]:\n",
    "    ad_sp_only = sc.read(\n",
    "        os.path.join(data_folder, \"integration\", adata_name, \"spatial_data.h5ad\")\n",
    "    )\n",
    "    ad_list.append(ad_sp_only)\n",
    "ad_sp = sc.concat(ad_list)"
   ]
  },
  {
   "cell_type": "code",
   "execution_count": null,
   "metadata": {},
   "outputs": [],
   "source": [
    "batches = np.unique(ad_sp.obs[\"batch\"])\n",
    "adata_list = []\n",
    "for batch in batches:\n",
    "    experiment = ad_sp[ad_sp.obs[\"batch\"] == batch, :]\n",
    "    experiment.obs.index = batch + experiment.obs.index\n",
    "    experiment.obsm[\"X_spatial\"] = experiment.obs[[\"x\", \"y\"]].values\n",
    "    adata_list.append(experiment.copy())"
   ]
  },
  {
   "cell_type": "code",
   "execution_count": null,
   "metadata": {},
   "outputs": [],
   "source": [
    "for k in range(len(adata_list)):\n",
    "    adata = adata_list[k]\n",
    "    adata.obs.index = adata.obs.index.str.replace(\"-\", \"_\")\n",
    "    if adata.obs.index.values[0][0].isnumeric():\n",
    "        adata.obs.index = \"X\" + np.array(adata.obs.index.values)\n",
    "\n",
    "    # Sample data - Replace this with your data\n",
    "    points = adata.obsm[\"X_spatial\"]\n",
    "    values = adata.obs[\"pseudotime\"]\n",
    "    categories = adata.obs[\"celltype\"]\n",
    "\n",
    "    # Convert categories to a NumPy array for indexing\n",
    "    categories = np.array(categories)\n",
    "\n",
    "    # Create a KD-tree for efficient nearest neighbor search\n",
    "    tree = cKDTree(points)\n",
    "\n",
    "    # Define the number of nearest neighbors to consider\n",
    "    n_neighbors = 50  # Change this value as needed\n",
    "\n",
    "    # Function to calculate the smoothed value for each point\n",
    "    def smooth_point(point_index):\n",
    "        # Find the indices of the N nearest neighbors\n",
    "        nearest_indices = tree.query(points[point_index], k=n_neighbors)[1]\n",
    "\n",
    "        # Filter neighbors that belong to the 'Mesophyll' category\n",
    "        mesophyll_neighbors = [\n",
    "            i for i in nearest_indices if categories[i] == \"Mesophyll\"\n",
    "        ]\n",
    "\n",
    "        # Calculate the weighted average of 'Mesophyll' values\n",
    "        if len(mesophyll_neighbors) > 0:\n",
    "            smoothed_value = np.mean(values[mesophyll_neighbors])\n",
    "        else:\n",
    "            # If no 'Mesophyll' neighbors are found, keep the original value\n",
    "            smoothed_value = values[point_index]\n",
    "\n",
    "        return smoothed_value\n",
    "\n",
    "    # Apply the smoothing function to each point\n",
    "    smoothed_values = [smooth_point(i) for i in range(len(points))]\n",
    "    adata.obs[\"smoothed_pseudo\"] = smoothed_values\n",
    "\n",
    "    if adata.obs.batch[0] in [\"9hr_avr\", \"avrrpt24\"]:\n",
    "        fig = sc.pl.embedding(\n",
    "            adata,\n",
    "            basis=\"spatial\",\n",
    "            color=\"smoothed_pseudo\",\n",
    "            cmap=\"jet\",\n",
    "            size=100,\n",
    "            vmax=0.65,\n",
    "            vmin=0.1,\n",
    "            return_fig=True,\n",
    "        )\n",
    "    else:\n",
    "        fig = sc.pl.embedding(\n",
    "            adata,\n",
    "            basis=\"spatial\",\n",
    "            color=\"smoothed_pseudo\",\n",
    "            cmap=\"jet\",\n",
    "            size=100,\n",
    "            vmax=0.65,\n",
    "            vmin=0.1,\n",
    "            return_fig=True,\n",
    "        )\n",
    "\n",
    "    try:\n",
    "        os.mkdir(os.path.join(figure_output_folder, \"smoothed_spatial_pseudo\"))\n",
    "    except:\n",
    "        None\n",
    "    fig.savefig(\n",
    "        os.path.join(\n",
    "            figure_output_folder,\n",
    "            \"smoothed_spatial_pseudo\",\n",
    "            f\"smoothed_spatial_pseudo_{adata.obs.batch[0]}.pdf\",\n",
    "        )\n",
    "    )\n",
    "    plt.show()\n",
    "    plt.close()"
   ]
  },
  {
   "cell_type": "code",
   "execution_count": null,
   "metadata": {},
   "outputs": [],
   "source": []
  }
 ],
 "metadata": {
  "kernelspec": {
   "display_name": "scvi-env",
   "language": "python",
   "name": "python3"
  },
  "language_info": {
   "codemirror_mode": {
    "name": "ipython",
    "version": 3
   },
   "file_extension": ".py",
   "mimetype": "text/x-python",
   "name": "python",
   "nbconvert_exporter": "python",
   "pygments_lexer": "ipython3",
   "version": "3.8.8"
  }
 },
 "nbformat": 4,
 "nbformat_minor": 2
}
