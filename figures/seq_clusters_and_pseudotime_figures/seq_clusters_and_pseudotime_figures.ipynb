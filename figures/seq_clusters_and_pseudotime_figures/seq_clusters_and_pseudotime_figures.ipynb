{
 "cells": [
  {
   "cell_type": "code",
   "execution_count": null,
   "id": "0",
   "metadata": {},
   "outputs": [],
   "source": [
    "import scanpy as sc\n",
    "import os\n",
    "import numpy as np\n",
    "import pandas as pd\n",
    "import sys\n",
    "import seaborn as sns\n",
    "import matplotlib.pyplot as plt\n",
    "import pylab as pl\n",
    "import glob\n",
    "import diopy"
   ]
  },
  {
   "cell_type": "code",
   "execution_count": null,
   "id": "1",
   "metadata": {},
   "outputs": [],
   "source": [
    "output_folder = r\"./\"\n",
    "data_folder = \"../../data\"\n",
    "\n",
    "spatial_datas = glob.glob(\n",
    "    os.path.join(data_folder, \"integration\", \"*\", \"spatial_data.h5ad\")\n",
    ")\n",
    "spatial_datas = [i for i in spatial_datas if \"dc3000\" not in i]\n",
    "\n",
    "seq_datas = glob.glob(os.path.join(data_folder, \"integration\", \"*\", \"seq_data.h5ad\"))\n",
    "seq_datas = [i for i in seq_datas if \"dc3000\" not in i]\n",
    "\n",
    "spatial_adatas = []\n",
    "for fl in spatial_datas:\n",
    "    spatial_adatas.append(sc.read(fl))\n",
    "\n",
    "ad_sp_only = sc.concat(spatial_adatas)\n",
    "\n",
    "seq_adatas = []\n",
    "for fl in seq_datas:\n",
    "    seq_adatas.append(sc.read(fl))\n",
    "ad_sc_only = sc.concat(seq_adatas)"
   ]
  },
  {
   "cell_type": "code",
   "execution_count": null,
   "id": "2",
   "metadata": {},
   "outputs": [],
   "source": [
    "figure_output_folder = \"6ac\""
   ]
  },
  {
   "cell_type": "code",
   "execution_count": null,
   "id": "3",
   "metadata": {},
   "outputs": [],
   "source": [
    "sc.set_figure_params(dpi=300, dpi_save=400)"
   ]
  },
  {
   "cell_type": "code",
   "execution_count": null,
   "id": "4",
   "metadata": {},
   "outputs": [],
   "source": [
    "try:\n",
    "    os.mkdir(os.path.join(figure_output_folder))\n",
    "except:\n",
    "    print(\"Folder already exists\")"
   ]
  },
  {
   "cell_type": "code",
   "execution_count": null,
   "id": "5",
   "metadata": {},
   "outputs": [],
   "source": [
    "ad_sp = ad_sp_only.copy()\n",
    "ad_sc = ad_sc_only.copy()"
   ]
  },
  {
   "cell_type": "code",
   "execution_count": null,
   "id": "6",
   "metadata": {},
   "outputs": [],
   "source": [
    "ad_sc.obs[\"batch\"] = \"rep1\""
   ]
  },
  {
   "cell_type": "markdown",
   "id": "7",
   "metadata": {},
   "source": [
    "### Figure 6c"
   ]
  },
  {
   "cell_type": "code",
   "execution_count": null,
   "id": "8",
   "metadata": {},
   "outputs": [],
   "source": [
    "ad_sc_only.obs[\"modality\"] = \"seq\"\n",
    "ad_sp_only.obs[\"modality\"] = \"spatial\""
   ]
  },
  {
   "cell_type": "code",
   "execution_count": null,
   "id": "9",
   "metadata": {},
   "outputs": [],
   "source": [
    "ad_sp_only.obs[\"dpt_pseudotime\"] = ad_sp_only.obs[\"pseudotime\"].values"
   ]
  },
  {
   "cell_type": "code",
   "execution_count": null,
   "id": "10",
   "metadata": {},
   "outputs": [],
   "source": [
    "ad_sc_sp = sc.concat([ad_sc_only, ad_sp_only])"
   ]
  },
  {
   "cell_type": "markdown",
   "id": "11",
   "metadata": {},
   "source": [
    "### Getting the rep1 rep2 joint embedding with the same colors. "
   ]
  },
  {
   "cell_type": "code",
   "execution_count": null,
   "id": "12",
   "metadata": {},
   "outputs": [],
   "source": [
    "seq_folder = os.path.join(data_folder, \"temp_objects\", \"AvrRpt2_alone2.h5\")\n",
    "scrna = diopy.input.read_h5(file=seq_folder)"
   ]
  },
  {
   "cell_type": "code",
   "execution_count": null,
   "id": "13",
   "metadata": {},
   "outputs": [],
   "source": [
    "ad_sc_sp.obs[\"Clusters\"] = pd.Categorical(ad_sc_sp.obs[\"seurat_clusters\"].values)"
   ]
  },
  {
   "cell_type": "code",
   "execution_count": null,
   "id": "14",
   "metadata": {},
   "outputs": [],
   "source": [
    "ad_sc_sp.uns[\"Clusters_colors\"] = [\n",
    "    \"#023fa5\",\n",
    "    \"#7d87b9\",\n",
    "    \"#bec1d4\",\n",
    "    \"#d6bcc0\",\n",
    "    \"#bb7784\",\n",
    "    \"#8e063b\",\n",
    "    \"#4a6fe3\",\n",
    "    \"#8595e1\",\n",
    "    \"#b5bbe3\",\n",
    "    \"#e6afb9\",\n",
    "    \"#e07b91\",\n",
    "    \"#d33f6a\",\n",
    "    \"#11c638\",\n",
    "    \"#8dd593\",\n",
    "    \"#c6dec7\",\n",
    "    \"#ead3c6\",\n",
    "    \"#f0b98d\",\n",
    "    \"#ef9708\",\n",
    "    \"#0fcfc0\",\n",
    "    \"#9cded6\",\n",
    "    \"#d5eae7\",\n",
    "    \"#f3e1eb\",\n",
    "    \"#f6c4e1\",\n",
    "    \"#f79cd4\",\n",
    "]"
   ]
  },
  {
   "cell_type": "code",
   "execution_count": null,
   "id": "15",
   "metadata": {},
   "outputs": [],
   "source": [
    "dic = {}\n",
    "for categ in range(len(ad_sc_sp.obs[\"Clusters\"].cat.categories)):\n",
    "    dic[ad_sc_sp.obs[\"Clusters\"].cat.categories[categ]] = ad_sc_sp.uns[\n",
    "        \"Clusters_colors\"\n",
    "    ][categ]"
   ]
  },
  {
   "cell_type": "code",
   "execution_count": null,
   "id": "16",
   "metadata": {},
   "outputs": [],
   "source": [
    "scrna.uns[\"SCT_snn_res.1_colors\"] = dic"
   ]
  },
  {
   "cell_type": "code",
   "execution_count": null,
   "id": "17",
   "metadata": {},
   "outputs": [],
   "source": [
    "scrna.uns[\"SCT_snn_res.1_colors\"] = (\n",
    "    pd.DataFrame(dic.values(), index=dic.keys())\n",
    "    .loc[scrna.obs[\"SCT_snn_res.1\"].cat.categories.values][0]\n",
    "    .values\n",
    ")"
   ]
  },
  {
   "cell_type": "code",
   "execution_count": null,
   "id": "18",
   "metadata": {},
   "outputs": [],
   "source": [
    "sc.set_figure_params(dpi=400, dpi_save=400, figsize=(5, 4))\n",
    "fig = sc.pl.umap(scrna, color=\"SCT_snn_res.1\", return_fig=True)\n",
    "fig.tight_layout()\n",
    "fig.savefig(os.path.join(figure_output_folder, \"6c_rep1_rep2.pdf\"))\n",
    "plt.show()\n",
    "plt.close()"
   ]
  },
  {
   "cell_type": "markdown",
   "id": "19",
   "metadata": {},
   "source": [
    "## Figure 5c"
   ]
  },
  {
   "cell_type": "code",
   "execution_count": null,
   "id": "20",
   "metadata": {},
   "outputs": [],
   "source": [
    "ad_sc = scrna.copy()"
   ]
  },
  {
   "cell_type": "code",
   "execution_count": null,
   "id": "21",
   "metadata": {},
   "outputs": [],
   "source": [
    "ad_sc.obs[\"celltype\"] = (\n",
    "    ad_sc.obs[\"celltype\"]\n",
    "    .replace(\"Epidermis\", \"epidermis\")\n",
    "    .replace(\"Mesophyll\", \"mesophyll\")\n",
    "    .replace(\"Vasculature\", \"vasculature\")\n",
    ")"
   ]
  },
  {
   "cell_type": "code",
   "execution_count": null,
   "id": "22",
   "metadata": {},
   "outputs": [],
   "source": [
    "ad_sc = ad_sc[ad_sc.obs[\"celltype\"] != \"Unknown\"]"
   ]
  },
  {
   "cell_type": "code",
   "execution_count": null,
   "id": "23",
   "metadata": {},
   "outputs": [],
   "source": [
    "ad_sc.uns[\"celltype_colors\"] = [\n",
    "    \"#FF007F\",  # Bright Pink\n",
    "    \"#008000\",  # Green\n",
    "    \"#FFD700\",\n",
    "]  # Gold"
   ]
  },
  {
   "cell_type": "code",
   "execution_count": null,
   "id": "24",
   "metadata": {},
   "outputs": [],
   "source": [
    "sc.set_figure_params(facecolor=\"black\", figsize=(10, 10), dpi=300)\n",
    "fig = sc.pl.embedding(\n",
    "    ad_sc,\n",
    "    basis=\"umap\",\n",
    "    color=[\"celltype\"],\n",
    "    vmax=0.1,\n",
    "    frameon=False,\n",
    "    size=5,\n",
    "    return_fig=True,\n",
    ")\n",
    "\n",
    "l = plt.legend()\n",
    "for text in l.get_texts():\n",
    "    text.set_color(\"black\")\n",
    "plt.title(\"celltype\", {\"color\": \"white\"})\n",
    "fig.savefig(os.path.join(figure_output_folder, \"Figure6d_celltype_sc.pdf\"))\n",
    "plt.show()"
   ]
  },
  {
   "cell_type": "code",
   "execution_count": null,
   "id": "25",
   "metadata": {},
   "outputs": [],
   "source": [
    "ad_sp.obsm[\"X_spatial\"] = ad_sp.obs[[\"x\", \"y\"]].values"
   ]
  },
  {
   "cell_type": "code",
   "execution_count": null,
   "id": "26",
   "metadata": {},
   "outputs": [],
   "source": [
    "ad_sp.uns[\"celltype_colors\"] = [\n",
    "    \"#FF007F\",  # Bright Pink\n",
    "    \"#008000\",  # Green\n",
    "    \"#FFD700\",\n",
    "]  # Gold"
   ]
  },
  {
   "cell_type": "code",
   "execution_count": null,
   "id": "27",
   "metadata": {},
   "outputs": [],
   "source": [
    "sc.set_figure_params(facecolor=\"black\", figsize=(10, 10), dpi=300)\n",
    "fig = sc.pl.embedding(\n",
    "    ad_sp[ad_sp.obs.batch == \"9hr_avr\"],\n",
    "    basis=\"spatial\",\n",
    "    color=[\"celltype\"],\n",
    "    vmax=0.1,\n",
    "    frameon=False,\n",
    "    size=10,\n",
    "    return_fig=True,\n",
    ")\n",
    "\n",
    "l = plt.legend()\n",
    "for text in l.get_texts():\n",
    "    text.set_color(\"black\")\n",
    "plt.title(\"celltype\", {\"color\": \"white\"})\n",
    "fig.savefig(os.path.join(figure_output_folder, \"Figure6d_celltype_sp.pdf\"))\n",
    "plt.show()"
   ]
  },
  {
   "cell_type": "markdown",
   "id": "28",
   "metadata": {},
   "source": [
    "## Figure 6e"
   ]
  },
  {
   "cell_type": "code",
   "execution_count": null,
   "id": "29",
   "metadata": {},
   "outputs": [],
   "source": [
    "for cluster_to_map in np.unique(ad_sp.obs[\"predicted.r_clusters\"]):\n",
    "    cluster_map = [\n",
    "        1 if i == cluster_to_map else 0 for i in ad_sp.obs[\"predicted.r_clusters\"]\n",
    "    ]\n",
    "    ad_sp.obs[\"cluster_map\"] = cluster_map\n",
    "    sc.set_figure_params(facecolor=\"white\", figsize=(10, 10), dpi=300)\n",
    "    fig = sc.pl.embedding(\n",
    "        ad_sp[ad_sp.obs.batch == \"9hr_avr\"],\n",
    "        basis=\"spatial\",\n",
    "        color=[\"cluster_map\"],\n",
    "        vmax=1.3,\n",
    "        vmin=-0.4,\n",
    "        frameon=False,\n",
    "        size=10,\n",
    "        return_fig=True,\n",
    "        cmap=\"Purples\",\n",
    "    )\n",
    "\n",
    "    l = plt.legend()\n",
    "    for text in l.get_texts():\n",
    "        text.set_color(\"black\")\n",
    "    plt.title(f\"Mapped cluster {cluster_to_map}\", {\"color\": \"black\"})\n",
    "    try:\n",
    "        os.mkdir(os.path.join(figure_output_folder, \"cluster_projections\"))\n",
    "    except:\n",
    "        None\n",
    "    fig.savefig(\n",
    "        os.path.join(\n",
    "            figure_output_folder,\n",
    "            \"cluster_projections\",\n",
    "            \"Figure6e_cluster_{cluster_to_map}.pdf\",\n",
    "        )\n",
    "    )\n",
    "    plt.close()"
   ]
  },
  {
   "cell_type": "markdown",
   "id": "30",
   "metadata": {},
   "source": [
    "### Figure 6G"
   ]
  },
  {
   "cell_type": "code",
   "execution_count": null,
   "id": "31",
   "metadata": {},
   "outputs": [],
   "source": [
    "ad_sc = ad_sc_sp[ad_sc_sp.obs.modality == \"seq\"]"
   ]
  },
  {
   "cell_type": "code",
   "execution_count": null,
   "id": "32",
   "metadata": {},
   "outputs": [],
   "source": [
    "ad_sc.obs[\"batch\"] = [\"rep2\" if \"rep2\" in i else \"rep1\" for i in ad_sc.obs.index]"
   ]
  },
  {
   "cell_type": "code",
   "execution_count": null,
   "id": "33",
   "metadata": {},
   "outputs": [],
   "source": [
    "renames = []\n",
    "for k in ad_sc[ad_sc.obs[\"batch\"] == \"rep1\"].obs.index:\n",
    "    splitter = k.split(\"_\")[0]\n",
    "    renames.append(splitter + \"_col_\" + k.split(\"_\")[1] + \"_rep1_\" + k.split(\"_\")[2])"
   ]
  },
  {
   "cell_type": "code",
   "execution_count": null,
   "id": "34",
   "metadata": {},
   "outputs": [],
   "source": [
    "new_indices = []\n",
    "for i in range(len(ad_sc.obs.index)):\n",
    "    if ad_sc.obs.batch.values[i] == \"rep1\":\n",
    "        new_indices.append(renames[i])\n",
    "    else:\n",
    "        new_indices.append(ad_sc.obs.index.values[i])"
   ]
  },
  {
   "cell_type": "code",
   "execution_count": null,
   "id": "35",
   "metadata": {},
   "outputs": [],
   "source": [
    "ad_sc.obs.index = new_indices"
   ]
  },
  {
   "cell_type": "code",
   "execution_count": null,
   "id": "36",
   "metadata": {},
   "outputs": [],
   "source": [
    "scrna.obs[\"umap_x\"] = scrna.obsm[\"X_umap\"][:, 0]\n",
    "scrna.obs[\"umap_y\"] = scrna.obsm[\"X_umap\"][:, 1]"
   ]
  },
  {
   "cell_type": "code",
   "execution_count": null,
   "id": "37",
   "metadata": {},
   "outputs": [],
   "source": [
    "scrna.obs[\"sample_prune\"] = [\"\".join(i.split(\"_\")[:-1]) for i in scrna.obs.index]"
   ]
  },
  {
   "cell_type": "code",
   "execution_count": null,
   "id": "38",
   "metadata": {},
   "outputs": [],
   "source": [
    "sc.pl.umap(scrna, color=\"sample_prune\")"
   ]
  },
  {
   "cell_type": "code",
   "execution_count": null,
   "id": "39",
   "metadata": {},
   "outputs": [],
   "source": [
    "ad_sc.obs.index = [i.replace(\"col_\", \"\") for i in ad_sc.obs.index]"
   ]
  },
  {
   "cell_type": "code",
   "execution_count": null,
   "id": "40",
   "metadata": {},
   "outputs": [],
   "source": [
    "scrna.obs.index = [i.replace(\"col_\", \"\") for i in scrna.obs.index]"
   ]
  },
  {
   "cell_type": "code",
   "execution_count": null,
   "id": "41",
   "metadata": {},
   "outputs": [],
   "source": [
    "ad_sc.obs = ad_sc.obs.merge(scrna.obs, how=\"left\", left_index=True, right_index=True)"
   ]
  },
  {
   "cell_type": "code",
   "execution_count": null,
   "id": "42",
   "metadata": {},
   "outputs": [],
   "source": [
    "ad_sc.obsm[\"X_umap\"] = ad_sc.obs[[\"umap_x\", \"umap_y\"]].values"
   ]
  },
  {
   "cell_type": "code",
   "execution_count": null,
   "id": "43",
   "metadata": {},
   "outputs": [],
   "source": [
    "new_pseudo = [\n",
    "    (\n",
    "        0\n",
    "        if ad_sc.obs.celltype_x.values[i] not in [\"Mesophyll\", \"mesophyll\"]\n",
    "        else ad_sc.obs.dpt_pseudotime.values[i]\n",
    "    )\n",
    "    for i in range(len(ad_sc.obs.dpt_pseudotime.values))\n",
    "]"
   ]
  },
  {
   "cell_type": "code",
   "execution_count": null,
   "id": "44",
   "metadata": {},
   "outputs": [],
   "source": [
    "ad_sc.obs[\"pseudotime\"] = new_pseudo"
   ]
  },
  {
   "cell_type": "code",
   "execution_count": null,
   "id": "45",
   "metadata": {},
   "outputs": [],
   "source": [
    "fig = sc.pl.umap(\n",
    "    ad_sc, color=\"pseudotime\", cmap=\"jet\", size=50, return_fig=True, show=False\n",
    ")\n",
    "try:\n",
    "    os.mkdir(os.path.join(figure_output_folder, \"figures\", \"seq_pseudotime\"))\n",
    "except:\n",
    "    None\n",
    "fig.tight_layout()\n",
    "fig.savefig(os.path.join(figure_output_folder, \"seq_pseudotime\", \"all_batch.pdf\"))\n",
    "plt.close()"
   ]
  },
  {
   "cell_type": "code",
   "execution_count": null,
   "id": "46",
   "metadata": {},
   "outputs": [],
   "source": [
    "tag_list = []\n",
    "for t in ad_sc.obs.index.values:\n",
    "    prune_tag = t.split(\"_\")[:-2]\n",
    "    prune_tag = \"\".join(prune_tag)\n",
    "    prune_tag = prune_tag.replace(\"col\", \"\")\n",
    "    tag_list.append(prune_tag)"
   ]
  },
  {
   "cell_type": "code",
   "execution_count": null,
   "id": "47",
   "metadata": {},
   "outputs": [],
   "source": [
    "ad_sc.obs[\"sample_names\"] = tag_list"
   ]
  },
  {
   "cell_type": "code",
   "execution_count": null,
   "id": "48",
   "metadata": {},
   "outputs": [],
   "source": [
    "try:\n",
    "    os.mkdir(os.path.join(figure_output_folder, \"seq_pseudotime\"))\n",
    "except:\n",
    "    None\n",
    "\n",
    "sc.set_figure_params(dpi=300, figsize=(5, 5))\n",
    "for sn in np.unique(ad_sc.obs[\"sample_names\"]):\n",
    "    fig = sc.pl.umap(\n",
    "        ad_sc[(ad_sc.obs[\"sample_names\"] == sn) & (ad_sc.obs.batch == \"rep1\")],\n",
    "        color=\"pseudotime\",\n",
    "        cmap=\"jet\",\n",
    "        size=50,\n",
    "        return_fig=True,\n",
    "        title=sn,\n",
    "    )\n",
    "    fig.tight_layout()\n",
    "    fig.savefig(os.path.join(figure_output_folder, \"seq_pseudotime\", f\"{sn}.pdf\"))\n",
    "    plt.show()\n",
    "    plt.close()"
   ]
  },
  {
   "cell_type": "code",
   "execution_count": null,
   "id": "49",
   "metadata": {},
   "outputs": [],
   "source": []
  }
 ],
 "metadata": {
  "kernelspec": {
   "display_name": "Python 3 (ipykernel)",
   "language": "python",
   "name": "python3"
  },
  "language_info": {
   "codemirror_mode": {
    "name": "ipython",
    "version": 3
   },
   "file_extension": ".py",
   "mimetype": "text/x-python",
   "name": "python",
   "nbconvert_exporter": "python",
   "pygments_lexer": "ipython3",
   "version": "3.8.8"
  }
 },
 "nbformat": 4,
 "nbformat_minor": 5
}
