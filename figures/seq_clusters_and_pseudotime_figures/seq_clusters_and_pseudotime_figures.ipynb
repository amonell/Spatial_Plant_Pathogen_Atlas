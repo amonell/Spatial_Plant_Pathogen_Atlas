{
 "cells": [
  {
   "cell_type": "code",
   "execution_count": null,
   "id": "3a76d6b2-31ab-4d10-9de7-9df7385f7f77",
   "metadata": {},
   "outputs": [],
   "source": [
    "import scanpy as sc\n",
    "import os\n",
    "import numpy as np\n",
    "import pandas as pd\n",
    "import sys\n",
    "import seaborn as sns\n",
    "import matplotlib.pyplot as plt\n",
    "import pylab as pl\n",
    "import glob\n",
    "import diopy"
   ]
  },
  {
   "cell_type": "code",
   "execution_count": null,
   "id": "8e141cde",
   "metadata": {},
   "outputs": [],
   "source": [
    "output_folder = r'./'\n",
    "data_folder = '../../data'\n",
    "\n",
    "spatial_datas = glob.glob(os.path.join(data_folder, 'integration', '*', 'spatial_data.h5ad'))\n",
    "spatial_datas =[i for i in spatial_datas if 'dc3000' not in i]\n",
    "\n",
    "seq_datas = glob.glob(os.path.join(data_folder, 'integration', '*', 'seq_data.h5ad'))\n",
    "seq_datas =[i for i in seq_datas if 'dc3000' not in i]\n",
    "\n",
    "spatial_adatas = []\n",
    "for fl in spatial_datas:\n",
    "    spatial_adatas.append(sc.read(fl))\n",
    "    \n",
    "ad_sp_only = sc.concat(spatial_adatas)\n",
    "\n",
    "seq_adatas = []\n",
    "for fl in seq_datas:\n",
    "    seq_adatas.append(sc.read(fl))\n",
    "ad_sc_only = sc.concat(seq_adatas)"
   ]
  },
  {
   "cell_type": "code",
   "execution_count": null,
   "id": "98cda4a4-3f21-4a2b-aca8-8577efe13c4e",
   "metadata": {},
   "outputs": [],
   "source": [
    "figure_output_folder =  '6ac'"
   ]
  },
  {
   "cell_type": "code",
   "execution_count": null,
   "id": "dc934dc5-cb92-4718-a357-106f206f8848",
   "metadata": {},
   "outputs": [],
   "source": [
    "sc.set_figure_params(dpi=300, dpi_save=400)"
   ]
  },
  {
   "cell_type": "code",
   "execution_count": null,
   "id": "7f8a7487-422c-4845-b1b0-471d16e3fa84",
   "metadata": {},
   "outputs": [],
   "source": [
    "try:\n",
    "    os.mkdir(os.path.join(figure_output_folder))\n",
    "except:\n",
    "    print('Folder already exists')"
   ]
  },
  {
   "cell_type": "code",
   "execution_count": null,
   "id": "6fe17012-b4fd-4c37-bb0e-5701790a036c",
   "metadata": {},
   "outputs": [],
   "source": [
    "ad_sp = ad_sp_only.copy()\n",
    "ad_sc = ad_sc_only.copy()"
   ]
  },
  {
   "cell_type": "code",
   "execution_count": null,
   "metadata": {},
   "outputs": [],
   "source": [
    "ad_sc.obs['batch'] = 'rep1'"
   ]
  },
  {
   "cell_type": "markdown",
   "metadata": {},
   "source": [
    "### Figure 6c"
   ]
  },
  {
   "cell_type": "code",
   "execution_count": null,
   "metadata": {},
   "outputs": [],
   "source": [
    "ad_sc_only.obs['modality'] = 'seq'\n",
    "ad_sp_only.obs['modality'] = 'spatial'"
   ]
  },
  {
   "cell_type": "code",
   "execution_count": null,
   "id": "4ac5a09d",
   "metadata": {},
   "outputs": [],
   "source": [
    "ad_sp_only.obs['dpt_pseudotime'] = ad_sp_only.obs['pseudotime'].values"
   ]
  },
  {
   "cell_type": "code",
   "execution_count": null,
   "metadata": {},
   "outputs": [],
   "source": [
    "ad_sc_sp = sc.concat([ad_sc_only, ad_sp_only])"
   ]
  },
  {
   "cell_type": "markdown",
   "metadata": {},
   "source": [
    "### Getting the rep1 rep2 joint embedding with the same colors. "
   ]
  },
  {
   "cell_type": "code",
   "execution_count": null,
   "metadata": {},
   "outputs": [],
   "source": [
    "seq_folder = os.path.join(data_folder, \"temp_objects\", \"AvrRpt2_alone2.h5\")\n",
    "scrna = diopy.input.read_h5(file = seq_folder)"
   ]
  },
  {
   "cell_type": "code",
   "execution_count": null,
   "id": "d586c2dc",
   "metadata": {},
   "outputs": [],
   "source": [
    "ad_sc_sp.obs['Clusters'] = pd.Categorical(ad_sc_sp.obs['seurat_clusters'].values)"
   ]
  },
  {
   "cell_type": "code",
   "execution_count": null,
   "id": "b466ecc5",
   "metadata": {},
   "outputs": [],
   "source": [
    "ad_sc_sp.uns['Clusters_colors'] = ['#023fa5',\n",
    "                                    '#7d87b9',\n",
    "                                    '#bec1d4',\n",
    "                                    '#d6bcc0',\n",
    "                                    '#bb7784',\n",
    "                                    '#8e063b',\n",
    "                                    '#4a6fe3',\n",
    "                                    '#8595e1',\n",
    "                                    '#b5bbe3',\n",
    "                                    '#e6afb9',\n",
    "                                    '#e07b91',\n",
    "                                    '#d33f6a',\n",
    "                                    '#11c638',\n",
    "                                    '#8dd593',\n",
    "                                    '#c6dec7',\n",
    "                                    '#ead3c6',\n",
    "                                    '#f0b98d',\n",
    "                                    '#ef9708',\n",
    "                                    '#0fcfc0',\n",
    "                                    '#9cded6',\n",
    "                                    '#d5eae7',\n",
    "                                    '#f3e1eb',\n",
    "                                    '#f6c4e1',\n",
    "                                    '#f79cd4']"
   ]
  },
  {
   "cell_type": "code",
   "execution_count": null,
   "metadata": {},
   "outputs": [],
   "source": [
    "dic = {}\n",
    "for categ in range(len(ad_sc_sp.obs['Clusters'].cat.categories)):\n",
    "    dic[ad_sc_sp.obs['Clusters'].cat.categories[categ]] = ad_sc_sp.uns['Clusters_colors'][categ]"
   ]
  },
  {
   "cell_type": "code",
   "execution_count": null,
   "metadata": {},
   "outputs": [],
   "source": [
    "scrna.uns['SCT_snn_res.1_colors'] = dic"
   ]
  },
  {
   "cell_type": "code",
   "execution_count": null,
   "metadata": {},
   "outputs": [],
   "source": [
    "scrna.uns['SCT_snn_res.1_colors'] = pd.DataFrame(dic.values(), index=dic.keys()).loc[scrna.obs['SCT_snn_res.1'].cat.categories.values][0].values"
   ]
  },
  {
   "cell_type": "code",
   "execution_count": null,
   "metadata": {},
   "outputs": [],
   "source": [
    "sc.set_figure_params(dpi=400, dpi_save=400, figsize=(5, 4))\n",
    "fig = sc.pl.umap(scrna, color='SCT_snn_res.1', return_fig=True)\n",
    "fig.tight_layout()\n",
    "fig.savefig(os.path.join(figure_output_folder, '6c_rep1_rep2.pdf'))\n",
    "plt.show()\n",
    "plt.close()"
   ]
  },
  {
   "cell_type": "markdown",
   "metadata": {},
   "source": [
    "## Figure 5c"
   ]
  },
  {
   "cell_type": "code",
   "execution_count": null,
   "metadata": {},
   "outputs": [],
   "source": [
    "ad_sc = scrna.copy()"
   ]
  },
  {
   "cell_type": "code",
   "execution_count": null,
   "metadata": {},
   "outputs": [],
   "source": [
    "ad_sc.obs['celltype'] = ad_sc.obs['celltype'].replace('Epidermis', 'epidermis').replace('Mesophyll', 'mesophyll').replace('Vasculature', 'vasculature')"
   ]
  },
  {
   "cell_type": "code",
   "execution_count": null,
   "metadata": {},
   "outputs": [],
   "source": [
    "ad_sc = ad_sc[ad_sc.obs['celltype'] != 'Unknown']"
   ]
  },
  {
   "cell_type": "code",
   "execution_count": null,
   "metadata": {},
   "outputs": [],
   "source": [
    "ad_sc.uns['celltype_colors'] =  ['#FF007F',  # Bright Pink\n",
    "                                '#008000',  # Green\n",
    "                                '#FFD700']  # Gold"
   ]
  },
  {
   "cell_type": "code",
   "execution_count": null,
   "id": "7a1a42f4-dc58-4651-8e8e-a943796c2c90",
   "metadata": {},
   "outputs": [],
   "source": [
    "sc.set_figure_params(facecolor='black', figsize=(10, 10), dpi=300)\n",
    "fig = sc.pl.embedding(ad_sc, basis='umap', color=['celltype'], vmax=0.1, frameon=False, size=5, return_fig=True)\n",
    "\n",
    "l = plt.legend()\n",
    "for text in l.get_texts():\n",
    "    text.set_color(\"black\")\n",
    "plt.title('celltype', {'color' : 'white'})\n",
    "fig.savefig(os.path.join(figure_output_folder, 'Figure6d_celltype_sc.pdf'))\n",
    "plt.show()"
   ]
  },
  {
   "cell_type": "code",
   "execution_count": null,
   "metadata": {},
   "outputs": [],
   "source": [
    "ad_sp.obsm['X_spatial'] = ad_sp.obs[['x', 'y']].values"
   ]
  },
  {
   "cell_type": "code",
   "execution_count": null,
   "metadata": {},
   "outputs": [],
   "source": [
    "ad_sp.uns['celltype_colors'] =  ['#FF007F',  # Bright Pink\n",
    "                                '#008000',  # Green\n",
    "                                '#FFD700']  # Gold"
   ]
  },
  {
   "cell_type": "code",
   "execution_count": null,
   "metadata": {},
   "outputs": [],
   "source": [
    "sc.set_figure_params(facecolor='black', figsize=(10, 10), dpi=300)\n",
    "fig = sc.pl.embedding(ad_sp[ad_sp.obs.batch == '9hr_avr'], basis='spatial', color=['celltype'], vmax=0.1, frameon=False, size=10, return_fig=True)\n",
    "\n",
    "l = plt.legend()\n",
    "for text in l.get_texts():\n",
    "    text.set_color(\"black\")\n",
    "plt.title('celltype', {'color' : 'white'})\n",
    "fig.savefig(os.path.join(figure_output_folder, 'Figure6d_celltype_sp.pdf'))\n",
    "plt.show()"
   ]
  },
  {
   "cell_type": "markdown",
   "metadata": {},
   "source": [
    "## Figure 6e"
   ]
  },
  {
   "cell_type": "code",
   "execution_count": null,
   "metadata": {},
   "outputs": [],
   "source": [
    "for cluster_to_map in np.unique(ad_sp.obs['predicted.r_clusters']):\n",
    "    cluster_map = [1 if i == cluster_to_map else 0 for i in ad_sp.obs['predicted.r_clusters']]\n",
    "    ad_sp.obs['cluster_map'] = cluster_map\n",
    "    sc.set_figure_params(facecolor='white', figsize=(10, 10), dpi=300)\n",
    "    fig = sc.pl.embedding(ad_sp[ad_sp.obs.batch == '9hr_avr'], basis='spatial', color=['cluster_map'], vmax=1.3, vmin = -.4, frameon=False, size=10, return_fig=True, cmap='Purples')\n",
    "\n",
    "    l = plt.legend()\n",
    "    for text in l.get_texts():\n",
    "        text.set_color(\"black\")\n",
    "    plt.title(f'Mapped cluster {cluster_to_map}', {'color' : 'black'})\n",
    "    try:\n",
    "        os.mkdir(os.path.join(figure_output_folder, 'cluster_projections'))\n",
    "    except:\n",
    "        None\n",
    "    fig.savefig(os.path.join(figure_output_folder, 'cluster_projections', 'Figure6e_cluster_{cluster_to_map}.pdf'))\n",
    "    plt.close()"
   ]
  },
  {
   "cell_type": "markdown",
   "metadata": {},
   "source": [
    "### Figure 6G"
   ]
  },
  {
   "cell_type": "code",
   "execution_count": null,
   "metadata": {},
   "outputs": [],
   "source": [
    "ad_sc = ad_sc_sp[ad_sc_sp.obs.modality == 'seq']"
   ]
  },
  {
   "cell_type": "code",
   "execution_count": null,
   "metadata": {},
   "outputs": [],
   "source": [
    "ad_sc.obs['batch'] = ['rep2' if 'rep2' in i else 'rep1' for i in ad_sc.obs.index]"
   ]
  },
  {
   "cell_type": "code",
   "execution_count": null,
   "metadata": {},
   "outputs": [],
   "source": [
    "renames = []\n",
    "for k in ad_sc[ad_sc.obs['batch'] == 'rep1'].obs.index:\n",
    "    splitter = k.split('_')[0]\n",
    "    renames.append(splitter + '_col_' + k.split('_')[1] + '_rep1_' + k.split('_')[2])"
   ]
  },
  {
   "cell_type": "code",
   "execution_count": null,
   "metadata": {},
   "outputs": [],
   "source": [
    "new_indices = []\n",
    "for i in range(len(ad_sc.obs.index)):\n",
    "    if ad_sc.obs.batch.values[i] == 'rep1':\n",
    "        new_indices.append(renames[i])\n",
    "    else:\n",
    "        new_indices.append(ad_sc.obs.index.values[i])"
   ]
  },
  {
   "cell_type": "code",
   "execution_count": null,
   "metadata": {},
   "outputs": [],
   "source": [
    "ad_sc.obs.index = new_indices"
   ]
  },
  {
   "cell_type": "code",
   "execution_count": null,
   "metadata": {},
   "outputs": [],
   "source": [
    "scrna.obs['umap_x'] = scrna.obsm['X_umap'][:, 0]\n",
    "scrna.obs['umap_y'] = scrna.obsm['X_umap'][:, 1]"
   ]
  },
  {
   "cell_type": "code",
   "execution_count": null,
   "metadata": {},
   "outputs": [],
   "source": [
    "scrna.obs['sample_prune'] = [''.join(i.split('_')[:-1]) for i in scrna.obs.index]"
   ]
  },
  {
   "cell_type": "code",
   "execution_count": null,
   "metadata": {},
   "outputs": [],
   "source": [
    "sc.pl.umap(scrna, color='sample_prune')"
   ]
  },
  {
   "cell_type": "code",
   "execution_count": null,
   "metadata": {},
   "outputs": [],
   "source": [
    "ad_sc.obs.index = [i.replace('col_', '') for i in ad_sc.obs.index]"
   ]
  },
  {
   "cell_type": "code",
   "execution_count": null,
   "metadata": {},
   "outputs": [],
   "source": [
    "scrna.obs.index = [i.replace('col_', '') for i in scrna.obs.index]"
   ]
  },
  {
   "cell_type": "code",
   "execution_count": null,
   "metadata": {},
   "outputs": [],
   "source": [
    "ad_sc.obs = ad_sc.obs.merge(scrna.obs, how='left', left_index=True, right_index=True)"
   ]
  },
  {
   "cell_type": "code",
   "execution_count": null,
   "metadata": {},
   "outputs": [],
   "source": [
    "ad_sc.obsm['X_umap'] = ad_sc.obs[['umap_x', 'umap_y']].values"
   ]
  },
  {
   "cell_type": "code",
   "execution_count": null,
   "metadata": {},
   "outputs": [],
   "source": [
    "new_pseudo = [0 if ad_sc.obs.celltype_x.values[i] not in ['Mesophyll', 'mesophyll'] else ad_sc.obs.dpt_pseudotime.values[i] for i in range(len(ad_sc.obs.dpt_pseudotime.values))]"
   ]
  },
  {
   "cell_type": "code",
   "execution_count": null,
   "metadata": {},
   "outputs": [],
   "source": [
    "ad_sc.obs['pseudotime'] = new_pseudo"
   ]
  },
  {
   "cell_type": "code",
   "execution_count": null,
   "metadata": {},
   "outputs": [],
   "source": [
    "fig = sc.pl.umap(ad_sc, color='pseudotime', cmap='jet', size=50, return_fig=True, show= False)\n",
    "try:\n",
    "    os.mkdir(os.path.join(figure_output_folder, 'figures', 'seq_pseudotime'))\n",
    "except:\n",
    "    None\n",
    "fig.tight_layout()\n",
    "fig.savefig(os.path.join(figure_output_folder, 'seq_pseudotime', 'all_batch.pdf'))\n",
    "plt.close()"
   ]
  },
  {
   "cell_type": "code",
   "execution_count": null,
   "metadata": {},
   "outputs": [],
   "source": [
    "tag_list = []\n",
    "for t in ad_sc.obs.index.values:\n",
    "    prune_tag = t.split('_')[:-2]\n",
    "    prune_tag = ''.join(prune_tag)\n",
    "    prune_tag = prune_tag.replace('col', '')\n",
    "    tag_list.append(prune_tag)\n"
   ]
  },
  {
   "cell_type": "code",
   "execution_count": null,
   "metadata": {},
   "outputs": [],
   "source": [
    "ad_sc.obs['sample_names'] = tag_list "
   ]
  },
  {
   "cell_type": "code",
   "execution_count": null,
   "metadata": {},
   "outputs": [],
   "source": [
    "try:\n",
    "    os.mkdir(os.path.join(figure_output_folder, 'seq_pseudotime'))\n",
    "except:\n",
    "    None\n",
    "\n",
    "sc.set_figure_params(dpi=300, figsize=(5, 5))\n",
    "for sn in np.unique(ad_sc.obs['sample_names']):\n",
    "    fig = sc.pl.umap(ad_sc[(ad_sc.obs['sample_names'] == sn) & (ad_sc.obs.batch == 'rep1')], color='pseudotime', cmap='jet', size=50, return_fig=True, title=sn)\n",
    "    fig.tight_layout()\n",
    "    fig.savefig(os.path.join(figure_output_folder, 'seq_pseudotime', f'{sn}.pdf'))\n",
    "    plt.show()\n",
    "    plt.close()"
   ]
  },
  {
   "cell_type": "code",
   "execution_count": null,
   "id": "c534359a",
   "metadata": {},
   "outputs": [],
   "source": []
  }
 ],
 "metadata": {
  "kernelspec": {
   "display_name": "Python 3 (ipykernel)",
   "language": "python",
   "name": "python3"
  },
  "language_info": {
   "codemirror_mode": {
    "name": "ipython",
    "version": 3
   },
   "file_extension": ".py",
   "mimetype": "text/x-python",
   "name": "python",
   "nbconvert_exporter": "python",
   "pygments_lexer": "ipython3",
   "version": "3.8.8"
  }
 },
 "nbformat": 4,
 "nbformat_minor": 5
}
