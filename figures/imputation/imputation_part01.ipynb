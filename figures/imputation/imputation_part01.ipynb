{
 "cells": [
  {
   "cell_type": "code",
   "execution_count": null,
   "metadata": {},
   "outputs": [],
   "source": [
    "import scanpy as sc\n",
    "import os\n",
    "import diopy"
   ]
  },
  {
   "cell_type": "code",
   "execution_count": null,
   "metadata": {},
   "outputs": [],
   "source": [
    "seq_data = diopy.input.read_h5(\n",
    "    file=\"../../data/AvrRpt2_alone2_atac.h5\", assay_name=\"atacRNA_400bp\"\n",
    ")\n",
    "seq_data.obs[\"modality\"] = \"seq\"\n",
    "seq_data.write(\"../../data/AvrRpt2_alone2_atac.h5ad\")"
   ]
  },
  {
   "cell_type": "code",
   "execution_count": null,
   "metadata": {},
   "outputs": [],
   "source": [
    "seq_data = diopy.input.read_h5(file=\"../../data/AvrRpt2_alone2.h5\")\n",
    "seq_data.obs[\"modality\"] = \"seq\"\n",
    "seq_data.write(\"../../data/AvrRpt2_alone2.h5ad\")"
   ]
  }
 ],
 "metadata": {
  "kernelspec": {
   "display_name": "scdior",
   "language": "python",
   "name": "python3"
  },
  "language_info": {
   "codemirror_mode": {
    "name": "ipython",
    "version": 3
   },
   "file_extension": ".py",
   "mimetype": "text/x-python",
   "name": "python",
   "nbconvert_exporter": "python",
   "pygments_lexer": "ipython3",
   "version": "3.8.8"
  }
 },
 "nbformat": 4,
 "nbformat_minor": 2
}
