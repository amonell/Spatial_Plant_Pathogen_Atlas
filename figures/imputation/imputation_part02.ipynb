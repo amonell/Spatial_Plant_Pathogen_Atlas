{
 "cells": [
  {
   "cell_type": "code",
   "execution_count": null,
   "metadata": {},
   "outputs": [],
   "source": [
    "import scanpy as sc\n",
    "import os\n",
    "import numpy as np\n",
    "import pandas as pd\n",
    "import sys\n",
    "import seaborn as sns\n",
    "import matplotlib.pyplot as plt\n",
    "import pylab as pl\n",
    "from scipy.spatial import cKDTree\n",
    "import numpy as np\n",
    "from sklearn.neighbors import KDTree\n",
    "from tqdm.notebook import tqdm"
   ]
  },
  {
   "cell_type": "code",
   "execution_count": null,
   "metadata": {},
   "outputs": [],
   "source": [
    "experiment = \"9hr_avr\""
   ]
  },
  {
   "cell_type": "code",
   "execution_count": null,
   "metadata": {},
   "outputs": [],
   "source": [
    "figure_output_folder = \"6ac\""
   ]
  },
  {
   "cell_type": "code",
   "execution_count": null,
   "metadata": {},
   "outputs": [],
   "source": [
    "spatial_data = sc.read(\n",
    "    os.path.join(\"../../data/integration\", experiment, \"spatial_data.h5ad\")\n",
    ")\n",
    "seq_data = sc.read(os.path.join(\"../../data/integration\", experiment, \"seq_data.h5ad\"))\n",
    "latent_adata = sc.read(\n",
    "    os.path.join(\"../../data/integration\", experiment, \"latent_adata.h5ad\")\n",
    ")"
   ]
  },
  {
   "cell_type": "code",
   "execution_count": null,
   "metadata": {},
   "outputs": [],
   "source": [
    "seq_file = \"../../data/AvrRpt2_alone2.h5ad\"\n",
    "seq_data_copy = sc.read(seq_file)\n",
    "seq_data_copy = seq_data_copy[\n",
    "    seq_data_copy.obs[\"sample.order\"].isin(\n",
    "        [\n",
    "            \"00_00_Mock_rep1\",\n",
    "            \"02_AvrRpt2_04h_rep1\",\n",
    "            \"02_AvrRpt2_06h_rep1\",\n",
    "            \"02_AvrRpt2_09h_rep1\",\n",
    "            \"02_AvrRpt2_24h_rep1\",\n",
    "        ]\n",
    "    )\n",
    "]\n",
    "seq_data_copy.obs[\"sample.order\"] = (\n",
    "    seq_data_copy.obs[\"sample.order\"]\n",
    "    .replace(\"00_00_Mock_rep1\", \"mock\")\n",
    "    .replace(\"02_AvrRpt2_04h_rep1\", \"4hr_avr\")\n",
    "    .replace(\"02_AvrRpt2_06h_rep1\", \"6hr_avr\")\n",
    "    .replace(\"02_AvrRpt2_09h_rep1\", \"9hr_avr\")\n",
    "    .replace(\"02_AvrRpt2_24h_rep1\", \"avrrpt24\")\n",
    ")\n",
    "seq_data_copy.obs.index = [\n",
    "    i.replace(\"00_col_Mock_rep1\", \"00_Mock\")\n",
    "    .replace(\"col_AvrRpt2_24h_rep1\", \"AvrRpt2_24h\")\n",
    "    .replace(\"col_AvrRpt2_04h_rep1\", \"AvrRpt2_04h\")\n",
    "    .replace(\"col_AvrRpt2_06h_rep1\", \"AvrRpt2_06h\")\n",
    "    .replace(\"col_AvrRpt2_09h_rep1\", \"AvrRpt2_09h\")\n",
    "    for i in seq_data_copy.obs.index\n",
    "]"
   ]
  },
  {
   "cell_type": "code",
   "execution_count": null,
   "metadata": {},
   "outputs": [],
   "source": [
    "seq_data_copy.X = seq_data_copy.X.A\n",
    "indices_match = [\n",
    "    np.where(seq_data_copy.obs.index.values == seq_data.obs.index.values[i])[0][0]\n",
    "    for i in range(len(seq_data.obs.index.values))\n",
    "]\n",
    "seq_data_copy = seq_data_copy[indices_match, :]\n",
    "seq_data.X = seq_data.X.A\n",
    "seq_data_copy_array = np.array(seq_data_copy.X)"
   ]
  },
  {
   "cell_type": "code",
   "execution_count": null,
   "metadata": {},
   "outputs": [],
   "source": [
    "# Assuming your original AnnData object is named 'adata'\n",
    "adata = latent_adata.copy()\n",
    "\n",
    "# Step 1: Filter spatial and seq cells\n",
    "spatial_cells = adata[adata.obs[\"labels\"] == \"spatial\"].copy()\n",
    "seq_cells = adata[adata.obs[\"labels\"] == \"seq\"].copy()\n",
    "\n",
    "\n",
    "# Step 2: Create KD tree for seq cells\n",
    "seq_gimvi = seq_data.obsm[\"X_gimvi\"]\n",
    "kdtree = KDTree(seq_gimvi)\n",
    "\n",
    "# Step 3: Find nearest seq cells for each seq\n",
    "n_neighbors = 30  # Specify the number of nearest neighbors\n",
    "distances, indices = kdtree.query(spatial_data.obsm[\"X_gimvi\"], k=n_neighbors)\n",
    "\n",
    "# Step 4: Average gene expression for spatial cells\n",
    "averaged_expression = np.zeros((spatial_cells.n_obs, len(seq_data_copy.X[0])))\n",
    "for i in range(spatial_cells.n_obs):\n",
    "    seq_neighbors_indices = indices[i]\n",
    "    seq_neighbors_expression = seq_data_copy_array[seq_neighbors_indices]\n",
    "    averaged_expression[i] = np.mean(seq_neighbors_expression, axis=0)"
   ]
  },
  {
   "cell_type": "markdown",
   "metadata": {},
   "source": [
    "### ALD1 mRNA imputed"
   ]
  },
  {
   "cell_type": "code",
   "execution_count": null,
   "metadata": {},
   "outputs": [],
   "source": [
    "spatial_data.obsm[\"X_spatial\"] = spatial_data.obs[[\"x\", \"y\"]].values"
   ]
  },
  {
   "cell_type": "code",
   "execution_count": null,
   "metadata": {},
   "outputs": [],
   "source": [
    "gene_to_impute = \"ALD1\"\n",
    "spatial_data.obs[\"current_imputed\"] = averaged_expression[\n",
    "    :, np.where(seq_data_copy.var.index == gene_to_impute)[0][0]\n",
    "]"
   ]
  },
  {
   "cell_type": "code",
   "execution_count": null,
   "metadata": {},
   "outputs": [],
   "source": [
    "try:\n",
    "    os.mkdir(figure_output_folder)\n",
    "except:\n",
    "    pass\n",
    "\n",
    "sc.set_figure_params(dpi=400, dpi_save=400)\n",
    "fig = sc.pl.embedding(\n",
    "    spatial_data[spatial_data.obs[\"batch\"] == experiment],\n",
    "    basis=\"spatial\",\n",
    "    color=[\"current_imputed\"],\n",
    "    cmap=\"Blues\",\n",
    "    size=10,\n",
    "    vmax=1.8,\n",
    "    vmin=-0.01,\n",
    "    return_fig=True,\n",
    "    show=False,\n",
    "    title=\"ALD1 mRNA imputed\",\n",
    ")\n",
    "fig.dpi = 500\n",
    "fig.tight_layout()\n",
    "fig.savefig(os.path.join(figure_output_folder, f\"ald1_mrna_imputed_{experiment}.pdf\"))"
   ]
  },
  {
   "cell_type": "markdown",
   "metadata": {},
   "source": [
    "### EDS16 imputation"
   ]
  },
  {
   "cell_type": "code",
   "execution_count": null,
   "metadata": {},
   "outputs": [],
   "source": [
    "gene_to_impute = \"EDS16\"\n",
    "spatial_data.obs[\"current_imputed\"] = averaged_expression[\n",
    "    :, np.where(seq_data_copy.var.index == gene_to_impute)[0][0]\n",
    "]"
   ]
  },
  {
   "cell_type": "code",
   "execution_count": null,
   "metadata": {},
   "outputs": [],
   "source": [
    "fig = sc.pl.embedding(\n",
    "    spatial_data[spatial_data.obs[\"batch\"] == experiment],\n",
    "    basis=\"spatial\",\n",
    "    color=[\"current_imputed\"],\n",
    "    cmap=\"Blues\",\n",
    "    size=10,\n",
    "    vmax=2.5,\n",
    "    vmin=-0.01,\n",
    "    return_fig=True,\n",
    "    show=False,\n",
    "    title=\"ICS1 mRNA imputed\",\n",
    ")\n",
    "fig.tight_layout()\n",
    "fig.savefig(os.path.join(figure_output_folder, f\"ics1_mrna_imputed_{experiment}.pdf\"))"
   ]
  },
  {
   "cell_type": "markdown",
   "metadata": {},
   "source": [
    "### ATAC imputation"
   ]
  },
  {
   "cell_type": "code",
   "execution_count": null,
   "metadata": {},
   "outputs": [],
   "source": [
    "atac_data_copy = sc.read(\"../../data/AvrRpt2_alone2_atac.h5ad\")"
   ]
  },
  {
   "cell_type": "code",
   "execution_count": null,
   "metadata": {},
   "outputs": [],
   "source": [
    "atac_data_copy = atac_data_copy[\n",
    "    atac_data_copy.obs[\"sample.order\"].isin(\n",
    "        [\n",
    "            \"00_00_Mock_rep1\",\n",
    "            \"02_AvrRpt2_04h_rep1\",\n",
    "            \"02_AvrRpt2_06h_rep1\",\n",
    "            \"02_AvrRpt2_09h_rep1\",\n",
    "            \"02_AvrRpt2_24h_rep1\",\n",
    "        ]\n",
    "    )\n",
    "]\n",
    "atac_data_copy.obs[\"sample.order\"] = (\n",
    "    atac_data_copy.obs[\"sample.order\"]\n",
    "    .replace(\"00_00_Mock_rep1\", \"mock\")\n",
    "    .replace(\"02_AvrRpt2_04h_rep1\", \"4hr_avr\")\n",
    "    .replace(\"02_AvrRpt2_06h_rep1\", \"6hr_avr\")\n",
    "    .replace(\"02_AvrRpt2_09h_rep1\", \"9hr_avr\")\n",
    "    .replace(\"02_AvrRpt2_24h_rep1\", \"avrrpt24\")\n",
    ")\n",
    "atac_data_copy.obs.index = [\n",
    "    i.replace(\"00_col_Mock_rep1\", \"00_Mock\")\n",
    "    .replace(\"col_AvrRpt2_24h_rep1\", \"AvrRpt2_24h\")\n",
    "    .replace(\"col_AvrRpt2_04h_rep1\", \"AvrRpt2_04h\")\n",
    "    .replace(\"col_AvrRpt2_06h_rep1\", \"AvrRpt2_06h\")\n",
    "    .replace(\"col_AvrRpt2_09h_rep1\", \"AvrRpt2_09h\")\n",
    "    for i in atac_data_copy.obs.index\n",
    "]"
   ]
  },
  {
   "cell_type": "code",
   "execution_count": null,
   "metadata": {},
   "outputs": [],
   "source": [
    "atac_data_copy.X = atac_data_copy.X.A\n",
    "indices_match = [\n",
    "    np.where(atac_data_copy.obs.index.values == seq_data.obs.index.values[i])[0][0]\n",
    "    for i in range(len(seq_data.obs.index.values))\n",
    "]\n",
    "atac_data_copy = atac_data_copy[indices_match, :]\n",
    "# seq_data.X = seq_data.X\n",
    "atac_data_copy_array = np.array(atac_data_copy.X)"
   ]
  },
  {
   "cell_type": "code",
   "execution_count": null,
   "metadata": {},
   "outputs": [],
   "source": [
    "# Assuming your original AnnData object is named 'adata'\n",
    "adata = latent_adata.copy()\n",
    "\n",
    "# Step 1: Filter spatial and seq cells\n",
    "spatial_cells = adata[adata.obs[\"labels\"] == \"spatial\"].copy()\n",
    "seq_cells = adata[adata.obs[\"labels\"] == \"seq\"].copy()\n",
    "\n",
    "\n",
    "# Step 2: Create KD tree for seq cells\n",
    "seq_gimvi = seq_data.obsm[\"X_gimvi\"]\n",
    "kdtree = KDTree(seq_gimvi)\n",
    "\n",
    "# Step 3: Find nearest seq cells for each seq\n",
    "n_neighbors = 100  # Specify the number of nearest neighbors\n",
    "distances, indices = kdtree.query(spatial_data.obsm[\"X_gimvi\"], k=n_neighbors)\n",
    "\n",
    "# Step 4: Average gene expression for spatial cells\n",
    "averaged_expression = np.zeros((spatial_cells.n_obs, len(atac_data_copy.X[0])))\n",
    "for i in range(spatial_cells.n_obs):\n",
    "    seq_neighbors_indices = indices[i]\n",
    "    seq_neighbors_expression = atac_data_copy_array[seq_neighbors_indices, :]\n",
    "    # print(seq_neighbors_expression)\n",
    "    averaged_expression[i] = np.mean(seq_neighbors_expression, axis=0)"
   ]
  },
  {
   "cell_type": "code",
   "execution_count": null,
   "metadata": {},
   "outputs": [],
   "source": [
    "seq_data.obs[\"ALD1_guess\"] = np.array(atac_data_copy.X)[\n",
    "    :, np.where(atac_data_copy.var.index == \"ALD1\")[0][0]\n",
    "]"
   ]
  },
  {
   "cell_type": "code",
   "execution_count": null,
   "metadata": {},
   "outputs": [],
   "source": [
    "sc.pl.embedding(seq_data, basis=\"X_umap_gimvi\", color=\"ALD1_guess\")"
   ]
  },
  {
   "cell_type": "code",
   "execution_count": null,
   "metadata": {},
   "outputs": [],
   "source": [
    "sc.pl.embedding(spatial_data, basis=\"X_umap_gimvi\", color=\"current_imputed\", vmax=0.3)"
   ]
  },
  {
   "cell_type": "code",
   "execution_count": null,
   "metadata": {},
   "outputs": [],
   "source": [
    "sc.pl.umap(spatial_data, color=\"current_imputed\")"
   ]
  },
  {
   "cell_type": "code",
   "execution_count": null,
   "metadata": {},
   "outputs": [],
   "source": [
    "gene_to_impute = \"ALD1\"\n",
    "spatial_data.obs[\"current_imputed\"] = averaged_expression[\n",
    "    :, np.where(atac_data_copy.var.index == gene_to_impute)[0][0]\n",
    "]"
   ]
  },
  {
   "cell_type": "code",
   "execution_count": null,
   "metadata": {},
   "outputs": [],
   "source": [
    "fig = sc.pl.embedding(\n",
    "    spatial_data[spatial_data.obs[\"batch\"] == experiment],\n",
    "    basis=\"spatial\",\n",
    "    color=[\"current_imputed\"],\n",
    "    cmap=\"Purples\",\n",
    "    size=10,\n",
    "    vmax=0.12,\n",
    "    vmin=0.05,\n",
    "    return_fig=True,\n",
    "    show=False,\n",
    "    title=\"ALD1 ATAC imputed\",\n",
    ")\n",
    "fig.tight_layout()\n",
    "fig.savefig(os.path.join(figure_output_folder, f\"ald1_atac_imputed_{experiment}.pdf\"))"
   ]
  },
  {
   "cell_type": "code",
   "execution_count": null,
   "metadata": {},
   "outputs": [],
   "source": [
    "gene_to_impute = \"EDS16\"\n",
    "spatial_data.obs[\"current_imputed\"] = averaged_expression[\n",
    "    :, np.where(atac_data_copy.var.index == gene_to_impute)[0][0]\n",
    "]"
   ]
  },
  {
   "cell_type": "code",
   "execution_count": null,
   "metadata": {},
   "outputs": [],
   "source": [
    "fig = sc.pl.embedding(\n",
    "    spatial_data[spatial_data.obs[\"batch\"] == experiment],\n",
    "    basis=\"spatial\",\n",
    "    color=[\"current_imputed\"],\n",
    "    cmap=\"Purples\",\n",
    "    size=10,\n",
    "    vmax=0.125,\n",
    "    vmin=0.02,\n",
    "    return_fig=True,\n",
    "    show=False,\n",
    "    title=\"ICS1 ATAC imputed\",\n",
    ")\n",
    "fig.tight_layout()\n",
    "fig.savefig(os.path.join(figure_output_folder, f\"ics1_atac_imputed_{experiment}.pdf\"))"
   ]
  },
  {
   "cell_type": "markdown",
   "metadata": {},
   "source": [
    "### Chromvar Imputation"
   ]
  },
  {
   "cell_type": "code",
   "execution_count": null,
   "metadata": {},
   "outputs": [],
   "source": [
    "chromvar_data_copy = pd.read_csv(\"../../data/AvrRpt2_alone2_chromvar.csv\", index_col=0)"
   ]
  },
  {
   "cell_type": "code",
   "execution_count": null,
   "metadata": {},
   "outputs": [],
   "source": [
    "seq_file = \"../../data/AvrRpt2_alone2.h5ad\"\n",
    "seq_data_copy = sc.read(seq_file)"
   ]
  },
  {
   "cell_type": "code",
   "execution_count": null,
   "metadata": {},
   "outputs": [],
   "source": [
    "chromvar_data_copy = sc.AnnData(\n",
    "    X=chromvar_data_copy.T.values,\n",
    "    obs=seq_data_copy.obs,\n",
    "    var=pd.DataFrame(index=chromvar_data_copy.T.columns),\n",
    ")"
   ]
  },
  {
   "cell_type": "code",
   "execution_count": null,
   "metadata": {},
   "outputs": [],
   "source": [
    "chromvar_data_copy = chromvar_data_copy[\n",
    "    chromvar_data_copy.obs[\"sample.order\"].isin(\n",
    "        [\n",
    "            \"00_00_Mock_rep1\",\n",
    "            \"02_AvrRpt2_04h_rep1\",\n",
    "            \"02_AvrRpt2_06h_rep1\",\n",
    "            \"02_AvrRpt2_09h_rep1\",\n",
    "            \"02_AvrRpt2_24h_rep1\",\n",
    "        ]\n",
    "    )\n",
    "]\n",
    "chromvar_data_copy.obs[\"sample.order\"] = (\n",
    "    chromvar_data_copy.obs[\"sample.order\"]\n",
    "    .replace(\"00_00_Mock_rep1\", \"mock\")\n",
    "    .replace(\"02_AvrRpt2_04h_rep1\", \"4hr_avr\")\n",
    "    .replace(\"02_AvrRpt2_06h_rep1\", \"6hr_avr\")\n",
    "    .replace(\"02_AvrRpt2_09h_rep1\", \"9hr_avr\")\n",
    "    .replace(\"02_AvrRpt2_24h_rep1\", \"avrrpt24\")\n",
    ")\n",
    "chromvar_data_copy.obs.index = [\n",
    "    i.replace(\"00_col_Mock_rep1\", \"00_Mock\")\n",
    "    .replace(\"col_AvrRpt2_24h_rep1\", \"AvrRpt2_24h\")\n",
    "    .replace(\"col_AvrRpt2_04h_rep1\", \"AvrRpt2_04h\")\n",
    "    .replace(\"col_AvrRpt2_06h_rep1\", \"AvrRpt2_06h\")\n",
    "    .replace(\"col_AvrRpt2_09h_rep1\", \"AvrRpt2_09h\")\n",
    "    for i in chromvar_data_copy.obs.index\n",
    "]"
   ]
  },
  {
   "cell_type": "code",
   "execution_count": null,
   "metadata": {},
   "outputs": [],
   "source": [
    "indices_match = [\n",
    "    np.where(chromvar_data_copy.obs.index.values == seq_data.obs.index.values[i])[0][0]\n",
    "    for i in range(len(seq_data.obs.index.values))\n",
    "]\n",
    "chromvar_data_copy = chromvar_data_copy[indices_match, :]\n",
    "seq_data.X = seq_data.X\n",
    "chromvar_data_copy_array = np.array(chromvar_data_copy.X)"
   ]
  },
  {
   "cell_type": "code",
   "execution_count": null,
   "metadata": {},
   "outputs": [],
   "source": [
    "# Assuming your original AnnData object is named 'adata'\n",
    "adata = latent_adata.copy()\n",
    "\n",
    "# Step 1: Filter spatial and seq cells\n",
    "spatial_cells = adata[adata.obs[\"labels\"] == \"spatial\"].copy()\n",
    "seq_cells = adata[adata.obs[\"labels\"] == \"seq\"].copy()\n",
    "\n",
    "\n",
    "# Step 2: Create KD tree for seq cells\n",
    "seq_gimvi = seq_data.obsm[\"X_gimvi\"]\n",
    "kdtree = KDTree(seq_gimvi)\n",
    "\n",
    "# Step 3: Find nearest seq cells for each seq\n",
    "n_neighbors = 30  # Specify the number of nearest neighbors\n",
    "distances, indices = kdtree.query(spatial_data.obsm[\"X_gimvi\"], k=n_neighbors)\n",
    "\n",
    "# Step 4: Average gene expression for spatial cells\n",
    "averaged_expression = np.zeros((spatial_cells.n_obs, len(chromvar_data_copy.X[0])))\n",
    "for i in range(spatial_cells.n_obs):\n",
    "    seq_neighbors_indices = indices[i]\n",
    "    seq_neighbors_expression = chromvar_data_copy_array[seq_neighbors_indices]\n",
    "    averaged_expression[i] = np.mean(seq_neighbors_expression, axis=0)"
   ]
  },
  {
   "cell_type": "code",
   "execution_count": null,
   "metadata": {},
   "outputs": [],
   "source": [
    "chromvar_to_impute = \"MA1666.1_HSFB2B\"\n",
    "spatial_data.obs[\"current_imputed\"] = averaged_expression[\n",
    "    :, np.where(chromvar_data_copy.var.index == chromvar_to_impute)[0][0]\n",
    "]"
   ]
  },
  {
   "cell_type": "code",
   "execution_count": null,
   "metadata": {},
   "outputs": [],
   "source": [
    "fig = sc.pl.embedding(\n",
    "    spatial_data[spatial_data.obs[\"batch\"] == experiment],\n",
    "    basis=\"spatial\",\n",
    "    color=[\"current_imputed\"],\n",
    "    cmap=\"viridis\",\n",
    "    size=10,\n",
    "    vmax=0.7,\n",
    "    vmin=0.3,\n",
    "    return_fig=True,\n",
    "    show=False,\n",
    "    title=\"HSFB2B Chromvar imputed\",\n",
    ")\n",
    "fig.tight_layout()\n",
    "fig.savefig(\n",
    "    os.path.join(figure_output_folder, f\"HSFB2B_chromvar_imputed_{experiment}.pdf\")\n",
    ")"
   ]
  },
  {
   "cell_type": "code",
   "execution_count": null,
   "metadata": {},
   "outputs": [],
   "source": []
  }
 ],
 "metadata": {
  "kernelspec": {
   "display_name": "scvi-env",
   "language": "python",
   "name": "python3"
  },
  "language_info": {
   "codemirror_mode": {
    "name": "ipython",
    "version": 3
   },
   "file_extension": ".py",
   "mimetype": "text/x-python",
   "name": "python",
   "nbconvert_exporter": "python",
   "pygments_lexer": "ipython3",
   "version": "3.8.8"
  }
 },
 "nbformat": 4,
 "nbformat_minor": 2
}
