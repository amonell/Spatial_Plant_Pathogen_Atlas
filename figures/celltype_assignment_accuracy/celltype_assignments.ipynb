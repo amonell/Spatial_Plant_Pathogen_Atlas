{
 "cells": [
  {
   "cell_type": "code",
   "execution_count": null,
   "metadata": {},
   "outputs": [],
   "source": [
    "import scanpy as sc\n",
    "import os\n",
    "import numpy as np\n",
    "import pandas as pd\n",
    "import sys\n",
    "import seaborn as sns\n",
    "import matplotlib.pyplot as plt\n",
    "import pylab as pl"
   ]
  },
  {
   "cell_type": "code",
   "execution_count": null,
   "metadata": {},
   "outputs": [],
   "source": [
    "data_path = \"../../data\""
   ]
  },
  {
   "cell_type": "code",
   "execution_count": null,
   "metadata": {},
   "outputs": [],
   "source": [
    "ad_list = []\n",
    "for adata_name in [\"mock\", \"4hr_avr\", \"6hr_avr\", \"9hr_avr\", \"avrrpt24\"]:\n",
    "    ad_sp_only = sc.read(\n",
    "        os.path.join(data_path, \"integration\", adata_name, \"spatial_data.h5ad\")\n",
    "    )\n",
    "    ad_list.append(ad_sp_only)\n",
    "ad_sp_only = sc.concat(ad_list)"
   ]
  },
  {
   "cell_type": "code",
   "execution_count": null,
   "metadata": {},
   "outputs": [],
   "source": [
    "output_folder = r\"./\""
   ]
  },
  {
   "cell_type": "code",
   "execution_count": null,
   "metadata": {},
   "outputs": [],
   "source": [
    "figure_output_folder = \"6ac\"\n",
    "try:\n",
    "    os.mkdir(os.path.join(output_folder, figure_output_folder))\n",
    "except:\n",
    "    pass"
   ]
  },
  {
   "cell_type": "code",
   "execution_count": null,
   "metadata": {},
   "outputs": [],
   "source": [
    "sc.set_figure_params(dpi=300, dpi_save=400)"
   ]
  },
  {
   "cell_type": "code",
   "execution_count": null,
   "metadata": {},
   "outputs": [],
   "source": [
    "try:\n",
    "    os.mkdir(os.path.join(figure_output_folder, \"figures\"))\n",
    "except:\n",
    "    print(\"Folder already exists\")"
   ]
  },
  {
   "cell_type": "code",
   "execution_count": null,
   "metadata": {},
   "outputs": [],
   "source": [
    "ad_sp = ad_sp_only.copy()"
   ]
  },
  {
   "cell_type": "code",
   "execution_count": null,
   "metadata": {},
   "outputs": [],
   "source": [
    "immune_active = {\"9\", \"11\", \"7\", \"19\", \"10\", \"15\", \"12\", \"8\"}\n",
    "ad_sp.obs[\"predicted_immune_categorized_celltype\"] = [\n",
    "    (\n",
    "        \"Immune activated \" + ad_sp.obs[\"celltype\"].values[p]\n",
    "        if (\n",
    "            (ad_sp.obs[\"SCT_snn_res.1\"].values[p] in immune_active)\n",
    "            & (ad_sp.obs[\"celltype\"].values[p] != \"Vasculature\")\n",
    "            & (ad_sp.obs[\"celltype\"].values[p] != \"Epidermis\")\n",
    "        )\n",
    "        else ad_sp.obs[\"celltype\"].values[p]\n",
    "    )\n",
    "    for p in range(len(ad_sp.obs.index))\n",
    "]"
   ]
  },
  {
   "cell_type": "code",
   "execution_count": null,
   "metadata": {},
   "outputs": [],
   "source": [
    "pd.crosstab(ad_sp.obs[\"predicted_immune_categorized_celltype\"], ad_sp.obs[\"batch\"])"
   ]
  },
  {
   "cell_type": "code",
   "execution_count": null,
   "metadata": {},
   "outputs": [],
   "source": [
    "ad_sp = ad_sp[~ad_sp.obs[\"celltype\"].isin([\"Unknown\"])]"
   ]
  },
  {
   "cell_type": "code",
   "execution_count": null,
   "metadata": {},
   "outputs": [],
   "source": [
    "df = pd.DataFrame(\n",
    "    ad_sp.obs[\"predicted_immune_categorized_celltype\"].values,\n",
    "    index=ad_sp.obs[\"leiden\"].values,\n",
    "    columns=[\"leiden\"],\n",
    ")\n",
    "df = pd.crosstab(df.index, df.leiden)\n",
    "\n",
    "max_index = np.argmax(df.values, axis=1)\n",
    "\n",
    "# Create a new DataFrame with the max_index as a sorting key\n",
    "sorted_df = df.iloc[max_index.argsort()]\n",
    "plt.figure()\n",
    "# Create the clustermap with the sorted DataFrame\n",
    "g = sns.clustermap(\n",
    "    sorted_df, standard_scale=0, col_cluster=False, row_cluster=False, cmap=\"Blues\"\n",
    ")\n",
    "plt.setp(g.ax_heatmap.yaxis.get_majorticklabels(), rotation=0)\n",
    "g.ax_heatmap.grid(False)\n",
    "plt.grid(False)\n",
    "plt.savefig(os.path.join(figure_output_folder, \"figures\", \"6a.pdf\"))\n",
    "plt.show()"
   ]
  },
  {
   "cell_type": "markdown",
   "metadata": {},
   "source": [
    "### Sub 6a"
   ]
  },
  {
   "cell_type": "code",
   "execution_count": null,
   "metadata": {},
   "outputs": [],
   "source": [
    "try:\n",
    "    os.mkdir(os.path.join(figure_output_folder, \"figures\", \"supplemental_6a\"))\n",
    "except:\n",
    "    None\n",
    "\n",
    "for adata_name in [\"mock\", \"4hr_avr\", \"6hr_avr\", \"9hr_avr\", \"avrrpt24\"]:\n",
    "    ad_sp_only = sc.read(\n",
    "        os.path.join(data_path, \"integration\", adata_name, \"spatial_data.h5ad\")\n",
    "    )\n",
    "    ad_sp = ad_sp_only.copy()\n",
    "    immune_active = {\"9\", \"11\", \"7\", \"19\", \"10\", \"15\", \"12\", \"8\"}\n",
    "    ad_sp.obs[\"predicted_immune_categorized_celltype\"] = [\n",
    "        (\n",
    "            \"Immune activated \" + ad_sp.obs[\"celltype\"].values[p]\n",
    "            if (\n",
    "                (ad_sp.obs[\"SCT_snn_res.1\"].values[p] in immune_active)\n",
    "                & (ad_sp.obs[\"celltype\"].values[p] != \"Vasculature\")\n",
    "                & (ad_sp.obs[\"celltype\"].values[p] != \"Epidermis\")\n",
    "            )\n",
    "            else ad_sp.obs[\"celltype\"].values[p]\n",
    "        )\n",
    "        for p in range(len(ad_sp.obs.index))\n",
    "    ]\n",
    "    ad_sp = ad_sp[~ad_sp.obs[\"celltype\"].isin([\"Unknown\"])]\n",
    "    df = pd.DataFrame(\n",
    "        ad_sp.obs[\"predicted_immune_categorized_celltype\"].values,\n",
    "        index=ad_sp.obs[\"leiden\"].values,\n",
    "        columns=[\"leiden\"],\n",
    "    )\n",
    "    df = pd.crosstab(df.index, df.leiden)\n",
    "\n",
    "    max_index = np.argmax(df.values, axis=1)\n",
    "\n",
    "    # Create a new DataFrame with the max_index as a sorting key\n",
    "    sorted_df = df.iloc[max_index.argsort()]\n",
    "    plt.figure()\n",
    "    # Create the clustermap with the sorted DataFrame\n",
    "    g = sns.clustermap(\n",
    "        sorted_df, z_score=0, col_cluster=False, row_cluster=False, cmap=\"Blues\"\n",
    "    )\n",
    "    plt.setp(g.ax_heatmap.yaxis.get_majorticklabels(), rotation=0)\n",
    "    g.ax_heatmap.grid(False)\n",
    "    plt.grid(False)\n",
    "    plt.title(adata_name)\n",
    "    plt.savefig(\n",
    "        os.path.join(\n",
    "            figure_output_folder, \"figures\", \"supplemental_6a\", f\"{adata_name}.pdf\"\n",
    "        )\n",
    "    )\n",
    "    plt.show()"
   ]
  },
  {
   "cell_type": "code",
   "execution_count": null,
   "metadata": {},
   "outputs": [],
   "source": []
  }
 ],
 "metadata": {
  "kernelspec": {
   "display_name": "scvi-env",
   "language": "python",
   "name": "python3"
  },
  "language_info": {
   "codemirror_mode": {
    "name": "ipython",
    "version": 3
   },
   "file_extension": ".py",
   "mimetype": "text/x-python",
   "name": "python",
   "nbconvert_exporter": "python",
   "pygments_lexer": "ipython3",
   "version": "3.8.18"
  }
 },
 "nbformat": 4,
 "nbformat_minor": 2
}
